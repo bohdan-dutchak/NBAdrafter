{
 "cells": [
  {
   "cell_type": "markdown",
   "metadata": {},
   "source": [
    "# Homework 1"
   ]
  },
  {
   "cell_type": "markdown",
   "metadata": {},
   "source": [
    "Hide Assignment Information\n",
    "Instructions\n",
    "Working with Individual Classifiers \n",
    "\n",
    "This assignment is worth 100 points, which is 20% of the overall course grade, This assignment is to be completed individually. Please consult the course syllabus for a description of our academic honesty policy.\n",
    "\n",
    "Consider the dataset that you performed EDA on, your task is to do the following classification tasks\n",
    "\n",
    "* Logistic Regression or Naive Bayes or LDA/QDA\n",
    "* Support Vector Machine\n",
    "* Decision Tree\n",
    "* K-Nearest Neighbor\n",
    "\n",
    "Now determine the performances using the following \n",
    "\n",
    "* Roc Plot\n",
    "* AUC\n",
    "* Confusion Matrix\n",
    "* Accuracy\n",
    "* Specificity\n",
    "* Precision\n",
    "* Recall ( Sensitivity )\n",
    "\n",
    "Lastly, Calculate the Variance and bias for these algorithms, compare and discuss the difference"
   ]
  },
  {
   "cell_type": "code",
   "execution_count": 1,
   "metadata": {
    "vscode": {
     "languageId": "r"
    }
   },
   "outputs": [
    {
     "name": "stderr",
     "output_type": "stream",
     "text": [
      "Registered S3 method overwritten by 'GGally':\n",
      "  method from   \n",
      "  +.gg   ggplot2\n",
      "\n",
      "\n",
      "Attaching package: 'dplyr'\n",
      "\n",
      "\n",
      "The following object is masked from 'package:MASS':\n",
      "\n",
      "    select\n",
      "\n",
      "\n",
      "The following objects are masked from 'package:stats':\n",
      "\n",
      "    filter, lag\n",
      "\n",
      "\n",
      "The following objects are masked from 'package:base':\n",
      "\n",
      "    intersect, setdiff, setequal, union\n",
      "\n",
      "\n",
      "── \u001b[1mAttaching packages\u001b[22m ─────────────────────────────────────── tidyverse 1.3.2 ──\n",
      "\u001b[32m✔\u001b[39m \u001b[34mtibble \u001b[39m 3.1.8     \u001b[32m✔\u001b[39m \u001b[34mpurrr  \u001b[39m 0.3.4\n",
      "\u001b[32m✔\u001b[39m \u001b[34mtidyr  \u001b[39m 1.2.0     \u001b[32m✔\u001b[39m \u001b[34mstringr\u001b[39m 1.4.0\n",
      "\u001b[32m✔\u001b[39m \u001b[34mreadr  \u001b[39m 2.1.2     \u001b[32m✔\u001b[39m \u001b[34mforcats\u001b[39m 0.5.1\n",
      "── \u001b[1mConflicts\u001b[22m ────────────────────────────────────────── tidyverse_conflicts() ──\n",
      "\u001b[31m✖\u001b[39m \u001b[34mdplyr\u001b[39m::\u001b[32mfilter()\u001b[39m masks \u001b[34mstats\u001b[39m::filter()\n",
      "\u001b[31m✖\u001b[39m \u001b[34mdplyr\u001b[39m::\u001b[32mlag()\u001b[39m    masks \u001b[34mstats\u001b[39m::lag()\n",
      "\u001b[31m✖\u001b[39m \u001b[34mdplyr\u001b[39m::\u001b[32mselect()\u001b[39m masks \u001b[34mMASS\u001b[39m::select()\n",
      "Loading required package: lattice\n",
      "\n",
      "\n",
      "Attaching package: 'caret'\n",
      "\n",
      "\n",
      "The following object is masked from 'package:purrr':\n",
      "\n",
      "    lift\n",
      "\n",
      "\n",
      "Loading required package: grid\n",
      "\n",
      "Loading required package: mvtnorm\n",
      "\n",
      "Loading required package: modeltools\n",
      "\n",
      "Loading required package: stats4\n",
      "\n",
      "Loading required package: strucchange\n",
      "\n",
      "Loading required package: zoo\n",
      "\n",
      "\n",
      "Attaching package: 'zoo'\n",
      "\n",
      "\n",
      "The following objects are masked from 'package:base':\n",
      "\n",
      "    as.Date, as.Date.numeric\n",
      "\n",
      "\n",
      "Loading required package: sandwich\n",
      "\n",
      "\n",
      "Attaching package: 'strucchange'\n",
      "\n",
      "\n",
      "The following object is masked from 'package:stringr':\n",
      "\n",
      "    boundary\n",
      "\n",
      "\n",
      "Type 'citation(\"pROC\")' for a citation.\n",
      "\n",
      "\n",
      "Attaching package: 'pROC'\n",
      "\n",
      "\n",
      "The following objects are masked from 'package:stats':\n",
      "\n",
      "    cov, smooth, var\n",
      "\n",
      "\n",
      "\n",
      "Attaching package: 'Metrics'\n",
      "\n",
      "\n",
      "The following object is masked from 'package:pROC':\n",
      "\n",
      "    auc\n",
      "\n",
      "\n",
      "The following objects are masked from 'package:caret':\n",
      "\n",
      "    precision, recall\n",
      "\n",
      "\n",
      "\n",
      "Attaching package: 'boot'\n",
      "\n",
      "\n",
      "The following object is masked from 'package:lattice':\n",
      "\n",
      "    melanoma\n",
      "\n",
      "\n"
     ]
    }
   ],
   "source": [
    "library(MASS)\n",
    "library(ggplot2)\n",
    "library(GGally)\n",
    "library(ggcorrplot)\n",
    "library(e1071)\n",
    "library(class)\n",
    "library(dplyr)\n",
    "library(foreign)\n",
    "library(nnet)\n",
    "library(tidyverse)\n",
    "library(caret)\n",
    "library(party)\n",
    "library(pROC)\n",
    "library(cvms)\n",
    "library(tibble)\n",
    "library(mltest)\n",
    "library(Metrics)\n",
    "library(boot)"
   ]
  },
  {
   "cell_type": "code",
   "execution_count": 2,
   "metadata": {
    "vscode": {
     "languageId": "r"
    }
   },
   "outputs": [
    {
     "data": {
      "text/html": [
       "<table class=\"dataframe\">\n",
       "<caption>A data.frame: 6 × 32</caption>\n",
       "<thead>\n",
       "\t<tr><th></th><th scope=col>Player</th><th scope=col>Pos</th><th scope=col>Ht</th><th scope=col>Wt</th><th scope=col>Exp</th><th scope=col>Age</th><th scope=col>G</th><th scope=col>GS</th><th scope=col>MP</th><th scope=col>FG</th><th scope=col>⋯</th><th scope=col>ORB</th><th scope=col>DRB</th><th scope=col>TRB</th><th scope=col>AST</th><th scope=col>STL</th><th scope=col>BLK</th><th scope=col>TOV</th><th scope=col>PF</th><th scope=col>PTS.G</th><th scope=col>Season</th></tr>\n",
       "\t<tr><th></th><th scope=col>&lt;chr&gt;</th><th scope=col>&lt;chr&gt;</th><th scope=col>&lt;int&gt;</th><th scope=col>&lt;int&gt;</th><th scope=col>&lt;int&gt;</th><th scope=col>&lt;int&gt;</th><th scope=col>&lt;int&gt;</th><th scope=col>&lt;int&gt;</th><th scope=col>&lt;dbl&gt;</th><th scope=col>&lt;dbl&gt;</th><th scope=col>⋯</th><th scope=col>&lt;dbl&gt;</th><th scope=col>&lt;dbl&gt;</th><th scope=col>&lt;dbl&gt;</th><th scope=col>&lt;dbl&gt;</th><th scope=col>&lt;dbl&gt;</th><th scope=col>&lt;dbl&gt;</th><th scope=col>&lt;dbl&gt;</th><th scope=col>&lt;dbl&gt;</th><th scope=col>&lt;dbl&gt;</th><th scope=col>&lt;int&gt;</th></tr>\n",
       "</thead>\n",
       "<tbody>\n",
       "\t<tr><th scope=row>1</th><td>Nick Anderson       </td><td>SG</td><td>198</td><td> 93</td><td>10</td><td>32</td><td>72</td><td>72</td><td>29.1</td><td>4.3</td><td>⋯</td><td>1.2</td><td>3.6</td><td>4.7</td><td>1.7</td><td>1.3</td><td>0.2</td><td>1.3</td><td>1.6</td><td>10.8</td><td>2000</td></tr>\n",
       "\t<tr><th scope=row>2</th><td>Jon Barry           </td><td>SG</td><td>193</td><td> 88</td><td> 7</td><td>30</td><td>62</td><td> 1</td><td>20.7</td><td>2.6</td><td>⋯</td><td>0.6</td><td>2.0</td><td>2.6</td><td>2.4</td><td>1.2</td><td>0.1</td><td>1.4</td><td>1.7</td><td> 8.0</td><td>2000</td></tr>\n",
       "\t<tr><th scope=row>3</th><td>Tyrone Corbin       </td><td>SF</td><td>198</td><td> 95</td><td>14</td><td>37</td><td>54</td><td> 5</td><td>17.4</td><td>1.6</td><td>⋯</td><td>0.7</td><td>2.3</td><td>3.1</td><td>1.1</td><td>0.7</td><td>0.1</td><td>0.5</td><td>1.8</td><td> 4.1</td><td>2000</td></tr>\n",
       "\t<tr><th scope=row>4</th><td>Tony Delk           </td><td>PG</td><td>185</td><td> 86</td><td> 3</td><td>26</td><td>46</td><td> 1</td><td>14.8</td><td>2.6</td><td>⋯</td><td>0.8</td><td>1.1</td><td>1.9</td><td>1.2</td><td>0.8</td><td>0.1</td><td>0.7</td><td>1.3</td><td> 6.4</td><td>2000</td></tr>\n",
       "\t<tr><th scope=row>5</th><td>Vlade Divac         </td><td>C </td><td>216</td><td>110</td><td>10</td><td>31</td><td>82</td><td>81</td><td>29.0</td><td>4.7</td><td>⋯</td><td>2.1</td><td>5.9</td><td>8.0</td><td>3.0</td><td>1.3</td><td>1.3</td><td>2.3</td><td>3.1</td><td>12.3</td><td>2000</td></tr>\n",
       "\t<tr><th scope=row>6</th><td>Lawrence Funderburke</td><td>PF</td><td>206</td><td>104</td><td> 2</td><td>29</td><td>75</td><td> 1</td><td>13.7</td><td>2.5</td><td>⋯</td><td>1.3</td><td>1.8</td><td>3.1</td><td>0.4</td><td>0.4</td><td>0.3</td><td>0.5</td><td>1.2</td><td> 6.4</td><td>2000</td></tr>\n",
       "</tbody>\n",
       "</table>\n"
      ],
      "text/latex": [
       "A data.frame: 6 × 32\n",
       "\\begin{tabular}{r|lllllllllllllllllllll}\n",
       "  & Player & Pos & Ht & Wt & Exp & Age & G & GS & MP & FG & ⋯ & ORB & DRB & TRB & AST & STL & BLK & TOV & PF & PTS.G & Season\\\\\n",
       "  & <chr> & <chr> & <int> & <int> & <int> & <int> & <int> & <int> & <dbl> & <dbl> & ⋯ & <dbl> & <dbl> & <dbl> & <dbl> & <dbl> & <dbl> & <dbl> & <dbl> & <dbl> & <int>\\\\\n",
       "\\hline\n",
       "\t1 & Nick Anderson        & SG & 198 &  93 & 10 & 32 & 72 & 72 & 29.1 & 4.3 & ⋯ & 1.2 & 3.6 & 4.7 & 1.7 & 1.3 & 0.2 & 1.3 & 1.6 & 10.8 & 2000\\\\\n",
       "\t2 & Jon Barry            & SG & 193 &  88 &  7 & 30 & 62 &  1 & 20.7 & 2.6 & ⋯ & 0.6 & 2.0 & 2.6 & 2.4 & 1.2 & 0.1 & 1.4 & 1.7 &  8.0 & 2000\\\\\n",
       "\t3 & Tyrone Corbin        & SF & 198 &  95 & 14 & 37 & 54 &  5 & 17.4 & 1.6 & ⋯ & 0.7 & 2.3 & 3.1 & 1.1 & 0.7 & 0.1 & 0.5 & 1.8 &  4.1 & 2000\\\\\n",
       "\t4 & Tony Delk            & PG & 185 &  86 &  3 & 26 & 46 &  1 & 14.8 & 2.6 & ⋯ & 0.8 & 1.1 & 1.9 & 1.2 & 0.8 & 0.1 & 0.7 & 1.3 &  6.4 & 2000\\\\\n",
       "\t5 & Vlade Divac          & C  & 216 & 110 & 10 & 31 & 82 & 81 & 29.0 & 4.7 & ⋯ & 2.1 & 5.9 & 8.0 & 3.0 & 1.3 & 1.3 & 2.3 & 3.1 & 12.3 & 2000\\\\\n",
       "\t6 & Lawrence Funderburke & PF & 206 & 104 &  2 & 29 & 75 &  1 & 13.7 & 2.5 & ⋯ & 1.3 & 1.8 & 3.1 & 0.4 & 0.4 & 0.3 & 0.5 & 1.2 &  6.4 & 2000\\\\\n",
       "\\end{tabular}\n"
      ],
      "text/markdown": [
       "\n",
       "A data.frame: 6 × 32\n",
       "\n",
       "| <!--/--> | Player &lt;chr&gt; | Pos &lt;chr&gt; | Ht &lt;int&gt; | Wt &lt;int&gt; | Exp &lt;int&gt; | Age &lt;int&gt; | G &lt;int&gt; | GS &lt;int&gt; | MP &lt;dbl&gt; | FG &lt;dbl&gt; | ⋯ ⋯ | ORB &lt;dbl&gt; | DRB &lt;dbl&gt; | TRB &lt;dbl&gt; | AST &lt;dbl&gt; | STL &lt;dbl&gt; | BLK &lt;dbl&gt; | TOV &lt;dbl&gt; | PF &lt;dbl&gt; | PTS.G &lt;dbl&gt; | Season &lt;int&gt; |\n",
       "|---|---|---|---|---|---|---|---|---|---|---|---|---|---|---|---|---|---|---|---|---|---|\n",
       "| 1 | Nick Anderson        | SG | 198 |  93 | 10 | 32 | 72 | 72 | 29.1 | 4.3 | ⋯ | 1.2 | 3.6 | 4.7 | 1.7 | 1.3 | 0.2 | 1.3 | 1.6 | 10.8 | 2000 |\n",
       "| 2 | Jon Barry            | SG | 193 |  88 |  7 | 30 | 62 |  1 | 20.7 | 2.6 | ⋯ | 0.6 | 2.0 | 2.6 | 2.4 | 1.2 | 0.1 | 1.4 | 1.7 |  8.0 | 2000 |\n",
       "| 3 | Tyrone Corbin        | SF | 198 |  95 | 14 | 37 | 54 |  5 | 17.4 | 1.6 | ⋯ | 0.7 | 2.3 | 3.1 | 1.1 | 0.7 | 0.1 | 0.5 | 1.8 |  4.1 | 2000 |\n",
       "| 4 | Tony Delk            | PG | 185 |  86 |  3 | 26 | 46 |  1 | 14.8 | 2.6 | ⋯ | 0.8 | 1.1 | 1.9 | 1.2 | 0.8 | 0.1 | 0.7 | 1.3 |  6.4 | 2000 |\n",
       "| 5 | Vlade Divac          | C  | 216 | 110 | 10 | 31 | 82 | 81 | 29.0 | 4.7 | ⋯ | 2.1 | 5.9 | 8.0 | 3.0 | 1.3 | 1.3 | 2.3 | 3.1 | 12.3 | 2000 |\n",
       "| 6 | Lawrence Funderburke | PF | 206 | 104 |  2 | 29 | 75 |  1 | 13.7 | 2.5 | ⋯ | 1.3 | 1.8 | 3.1 | 0.4 | 0.4 | 0.3 | 0.5 | 1.2 |  6.4 | 2000 |\n",
       "\n"
      ],
      "text/plain": [
       "  Player               Pos Ht  Wt  Exp Age G  GS MP   FG  ⋯ ORB DRB TRB AST STL\n",
       "1 Nick Anderson        SG  198  93 10  32  72 72 29.1 4.3 ⋯ 1.2 3.6 4.7 1.7 1.3\n",
       "2 Jon Barry            SG  193  88  7  30  62  1 20.7 2.6 ⋯ 0.6 2.0 2.6 2.4 1.2\n",
       "3 Tyrone Corbin        SF  198  95 14  37  54  5 17.4 1.6 ⋯ 0.7 2.3 3.1 1.1 0.7\n",
       "4 Tony Delk            PG  185  86  3  26  46  1 14.8 2.6 ⋯ 0.8 1.1 1.9 1.2 0.8\n",
       "5 Vlade Divac          C   216 110 10  31  82 81 29.0 4.7 ⋯ 2.1 5.9 8.0 3.0 1.3\n",
       "6 Lawrence Funderburke PF  206 104  2  29  75  1 13.7 2.5 ⋯ 1.3 1.8 3.1 0.4 0.4\n",
       "  BLK TOV PF  PTS.G Season\n",
       "1 0.2 1.3 1.6 10.8  2000  \n",
       "2 0.1 1.4 1.7  8.0  2000  \n",
       "3 0.1 0.5 1.8  4.1  2000  \n",
       "4 0.1 0.7 1.3  6.4  2000  \n",
       "5 1.3 2.3 3.1 12.3  2000  \n",
       "6 0.3 0.5 1.2  6.4  2000  "
      ]
     },
     "metadata": {},
     "output_type": "display_data"
    }
   ],
   "source": [
    "options(warn = -1)\n",
    "data <- read.csv(\"data/all_seasons.csv\")\n",
    "head(data)"
   ]
  },
  {
   "cell_type": "code",
   "execution_count": 3,
   "metadata": {
    "vscode": {
     "languageId": "r"
    }
   },
   "outputs": [
    {
     "name": "stdout",
     "output_type": "stream",
     "text": [
      "'data.frame':\t11071 obs. of  7 variables:\n",
      " $ Pos : Factor w/ 5 levels \"1\",\"2\",\"3\",\"4\",..: 2 2 3 1 5 4 1 5 2 3 ...\n",
      " $ Ht  : int  198 193 198 185 216 206 180 211 196 208 ...\n",
      " $ Wt  : int  93 88 95 86 110 104 77 120 86 104 ...\n",
      " $ AST : num  1.7 2.4 1.1 1.2 3 0.4 1.7 0.6 0 1.4 ...\n",
      " $ X3PA: num  5.5 2.5 0.8 0.9 0.3 0 1.7 0 2 3.6 ...\n",
      " $ ORB : num  1.2 0.6 0.7 0.8 2.1 1.3 0.1 2.2 0 1 ...\n",
      " $ BLK : num  0.2 0.1 0.1 0.1 1.3 0.3 0 0.8 0 0.1 ...\n"
     ]
    }
   ],
   "source": [
    "data$Pos <- replace(data$Pos, data$Pos=='C', 5)\n",
    "data$Pos <- replace(data$Pos, data$Pos=='PF', 4)\n",
    "data$Pos <- replace(data$Pos, data$Pos=='SF', 3)\n",
    "data$Pos <- replace(data$Pos, data$Pos=='SG', 2)\n",
    "data$Pos <- replace(data$Pos, data$Pos=='PG', 1)\n",
    "data$Pos <- as.factor(data$Pos)\n",
    "\n",
    "data <- data[,c('Pos','Ht','Wt','AST','X3PA','ORB','BLK')]\n",
    "\n",
    "str(data)"
   ]
  },
  {
   "cell_type": "code",
   "execution_count": 4,
   "metadata": {
    "vscode": {
     "languageId": "r"
    }
   },
   "outputs": [
    {
     "name": "stderr",
     "output_type": "stream",
     "text": [
      "Shape of test dataframe is 2281x7\n",
      "\n",
      "Shape of train dataframe is 8790x7\n",
      "\n"
     ]
    }
   ],
   "source": [
    "set.seed(1)\n",
    "\n",
    "sample <- sample(c(TRUE, FALSE), nrow(data), replace=TRUE, prob=c(0.8,0.2))\n",
    "train <- data[sample, ]\n",
    "test <- data[!sample, ]\n",
    "\n",
    "test.X <- test[2:7]\n",
    "test.Y <- test[1]\n",
    "\n",
    "train.X<-train[2:7]\n",
    "train.Y<-train[1]\n",
    "\n",
    "message(\"Shape of test dataframe is \", dim(test)[1], 'x', dim(test)[2])\n",
    "message(\"Shape of train dataframe is \", dim(train)[1], 'x', dim(train)[2])"
   ]
  },
  {
   "cell_type": "markdown",
   "metadata": {},
   "source": [
    "## Logit"
   ]
  },
  {
   "cell_type": "markdown",
   "metadata": {},
   "source": [
    "Since EDA showed, that some features have significant correlation with the target variable, have good distribution and dataset has many observations, I decided to use LOGIT."
   ]
  },
  {
   "cell_type": "code",
   "execution_count": 37,
   "metadata": {
    "vscode": {
     "languageId": "r"
    }
   },
   "outputs": [
    {
     "name": "stdout",
     "output_type": "stream",
     "text": [
      "# weights:  40 (28 variable)\n",
      "initial  value 14146.959250 \n",
      "iter  10 value 11264.678368\n",
      "iter  20 value 10333.366071\n",
      "iter  30 value 6458.968973\n",
      "iter  40 value 5646.631461\n",
      "iter  50 value 5642.032268\n",
      "iter  60 value 5641.583325\n",
      "final  value 5641.583154 \n",
      "converged\n"
     ]
    },
    {
     "data": {
      "text/plain": [
       "Call:\n",
       "multinom(formula = Pos ~ ., data = train)\n",
       "\n",
       "Coefficients:\n",
       "  (Intercept)        Ht         Wt        AST       X3PA      ORB      BLK\n",
       "2   -51.32427 0.2272984 0.08933343 -0.9690196 0.63144896 1.073986 2.061825\n",
       "3  -133.06304 0.5909153 0.18620138 -1.4008063 0.62531229 1.819329 2.947120\n",
       "4  -205.57534 0.8605128 0.35445186 -2.0284141 0.51189160 2.729614 3.673918\n",
       "5  -286.20298 1.2047126 0.43556042 -2.4483612 0.03091912 2.844946 4.426758\n",
       "\n",
       "Std. Errors:\n",
       "   (Intercept)          Ht          Wt        AST       X3PA       ORB\n",
       "2 0.0387366828 0.004574189 0.009898202 0.04938410 0.03943291 0.2097763\n",
       "3 0.0026560960 0.005881311 0.012518372 0.06635111 0.04914258 0.2401554\n",
       "4 0.0041163848 0.007015817 0.014623873 0.08490815 0.05782517 0.2516934\n",
       "5 0.0009175398 0.007564067 0.015582315 0.10335588 0.07378147 0.2588006\n",
       "        BLK\n",
       "2 0.3968997\n",
       "3 0.4612620\n",
       "4 0.4830126\n",
       "5 0.4912126\n",
       "\n",
       "Residual Deviance: 11283.17 \n",
       "AIC: 11339.17 "
      ]
     },
     "metadata": {},
     "output_type": "display_data"
    },
    {
     "name": "stdout",
     "output_type": "stream",
     "text": [
      "# weights:  40 (28 variable)\n",
      "initial  value 17818.087129 \n",
      "iter  10 value 15087.927130\n",
      "iter  20 value 13554.302194\n",
      "iter  30 value 7761.321718\n",
      "iter  40 value 7033.386102\n",
      "iter  50 value 7027.095245\n",
      "final  value 7026.651203 \n",
      "converged\n"
     ]
    }
   ],
   "source": [
    "logit.fit <- multinom(Pos ~ ., data = train)\n",
    "logit.pred <- logit.fit %>% predict(test.X)\n",
    "summary(logit.fit)\n",
    "population.logit <- multinom(Pos ~ ., data = data)\n",
    "population.pred <- logit.fit %>% predict(test.X)"
   ]
  },
  {
   "cell_type": "markdown",
   "metadata": {},
   "source": [
    "Attention, the block belows computes ROC curves and AUC. It contains a lot of code and takes a lot of kernel memory to process, so I did it only for LOGIT. For the same reason I chose One VS Rest approach in order to save time and space. Here I got only 5 plots, but OvO approach would require 20."
   ]
  },
  {
   "cell_type": "markdown",
   "metadata": {},
   "source": [
    "### ROC Curve and AUC"
   ]
  },
  {
   "cell_type": "code",
   "execution_count": 99,
   "metadata": {
    "vscode": {
     "languageId": "r"
    }
   },
   "outputs": [
    {
     "name": "stderr",
     "output_type": "stream",
     "text": [
      "Setting levels: control = 0, case = 1\n",
      "\n",
      "Setting direction: controls < cases\n",
      "\n",
      "AUC: 0.864349005838934\n",
      "\n"
     ]
    },
    {
     "data": {
      "image/png": "[encoded data removed]",
      "text/plain": [
       "plot without title"
      ]
     },
     "metadata": {
      "image/png": {
       "height": 420,
       "width": 420
      }
     },
     "output_type": "display_data"
    }
   ],
   "source": [
    "temp_data <- read.csv(\"data/all_seasons.csv\")\n",
    "temp_data$Pos <- replace(temp_data$Pos, temp_data$Pos=='C', 1)\n",
    "temp_data$Pos <- replace(temp_data$Pos, temp_data$Pos=='PF', 0)\n",
    "temp_data$Pos <- replace(temp_data$Pos, temp_data$Pos=='SF', 0)\n",
    "temp_data$Pos <- replace(temp_data$Pos, temp_data$Pos=='SG', 0)\n",
    "temp_data$Pos <- replace(temp_data$Pos, temp_data$Pos=='PG', 0)\n",
    "temp_data$Pos <- as.factor(temp_data$Pos)\n",
    "temp_data <- temp_data[,c('Pos','Ht','Wt','AST','X3PA','ORB','BLK')]\n",
    "\n",
    "sample <- sample(c(TRUE, FALSE), nrow(temp_data), replace=TRUE, prob=c(0.8,0.2))\n",
    "temp_train <- temp_data[sample, ]\n",
    "temp_test <- temp_data[!sample, ]\n",
    "temp_test.X <- temp_test[2:7]\n",
    "temp_test.Y <- temp_test[1]\n",
    "temp_train.X<-temp_train[2:7]\n",
    "temp_train.Y<-temp_train[1]\n",
    "\n",
    "logit5.fit <- glm(Pos~., data=temp_train, family = binomial)\n",
    "logit5.pred <- predict(logit5.fit, temp_test.X, type=\"response\")\n",
    "logit5.pred <- ifelse(test=logit5.pred>0.5, yes=1, no=0)\n",
    "\n",
    "roc5 <- roc(temp_test.Y$Pos, logit5.pred, plot=TRUE)\n",
    "message(\"AUC: \", auc(temp_test.Y$Pos, logit5.pred))"
   ]
  },
  {
   "cell_type": "code",
   "execution_count": 106,
   "metadata": {
    "vscode": {
     "languageId": "r"
    }
   },
   "outputs": [
    {
     "name": "stderr",
     "output_type": "stream",
     "text": [
      "Setting levels: control = 0, case = 1\n",
      "\n",
      "Setting direction: controls < cases\n",
      "\n",
      "AUC: 0.523828638155014\n",
      "\n"
     ]
    },
    {
     "data": {
      "image/png": "[encoded data removed]",
      "text/plain": [
       "plot without title"
      ]
     },
     "metadata": {
      "image/png": {
       "height": 420,
       "width": 420
      }
     },
     "output_type": "display_data"
    }
   ],
   "source": [
    "temp_data <- read.csv(\"data/all_seasons.csv\")\n",
    "temp_data$Pos <- replace(temp_data$Pos, temp_data$Pos=='C', 0)\n",
    "temp_data$Pos <- replace(temp_data$Pos, temp_data$Pos=='PF', 1)\n",
    "temp_data$Pos <- replace(temp_data$Pos, temp_data$Pos=='SF', 0)\n",
    "temp_data$Pos <- replace(temp_data$Pos, temp_data$Pos=='SG', 0)\n",
    "temp_data$Pos <- replace(temp_data$Pos, temp_data$Pos=='PG', 0)\n",
    "temp_data$Pos <- as.factor(temp_data$Pos)\n",
    "temp_data <- temp_data[,c('Pos','Ht','Wt','AST','X3PA','ORB','BLK')]\n",
    "\n",
    "sample <- sample(c(TRUE, FALSE), nrow(temp_data), replace=TRUE, prob=c(0.8,0.2))\n",
    "temp_train <- temp_data[sample, ]\n",
    "temp_test <- temp_data[!sample, ]\n",
    "temp_test.X <- temp_test[2:7]\n",
    "temp_test.Y <- temp_test[1]\n",
    "temp_train.X<-temp_train[2:7]\n",
    "temp_train.Y<-temp_train[1]\n",
    "\n",
    "logit4.fit <- glm(Pos~., data=temp_train, family = binomial)\n",
    "logit4.pred <- predict(logit4.fit, temp_test.X, type=\"response\")\n",
    "logit4.pred <- ifelse(test=logit4.pred>0.4, yes=1, no=0)\n",
    "\n",
    "roc4 <- roc(temp_test.Y$Pos, logit4.pred, plot=TRUE)\n",
    "message(\"AUC: \", auc(temp_test.Y$Pos, logit4.pred))"
   ]
  },
  {
   "cell_type": "code",
   "execution_count": 105,
   "metadata": {
    "vscode": {
     "languageId": "r"
    }
   },
   "outputs": [
    {
     "name": "stderr",
     "output_type": "stream",
     "text": [
      "Setting levels: control = 0, case = 1\n",
      "\n",
      "Setting direction: controls < cases\n",
      "\n",
      "AUC: 0.602079143841158\n",
      "\n"
     ]
    },
    {
     "data": {
      "image/png": "[encoded data removed]",
      "text/plain": [
       "plot without title"
      ]
     },
     "metadata": {
      "image/png": {
       "height": 420,
       "width": 420
      }
     },
     "output_type": "display_data"
    }
   ],
   "source": [
    "temp_data <- read.csv(\"data/all_seasons.csv\")\n",
    "temp_data$Pos <- replace(temp_data$Pos, temp_data$Pos=='C', 0)\n",
    "temp_data$Pos <- replace(temp_data$Pos, temp_data$Pos=='PF', 0)\n",
    "temp_data$Pos <- replace(temp_data$Pos, temp_data$Pos=='SF', 1)\n",
    "temp_data$Pos <- replace(temp_data$Pos, temp_data$Pos=='SG', 0)\n",
    "temp_data$Pos <- replace(temp_data$Pos, temp_data$Pos=='PG', 0)\n",
    "temp_data$Pos <- as.factor(temp_data$Pos)\n",
    "temp_data <- temp_data[,c('Pos','Ht','Wt','AST','X3PA','ORB','BLK')]\n",
    "\n",
    "sample <- sample(c(TRUE, FALSE), nrow(temp_data), replace=TRUE, prob=c(0.8,0.2))\n",
    "temp_train <- temp_data[sample, ]\n",
    "temp_test <- temp_data[!sample, ]\n",
    "temp_test.X <- temp_test[2:7]\n",
    "temp_test.Y <- temp_test[1]\n",
    "temp_train.X<-temp_train[2:7]\n",
    "temp_train.Y<-temp_train[1]\n",
    "\n",
    "logit3.fit <- glm(Pos~., data=temp_train, family = binomial)\n",
    "logit3.pred <- predict(logit3.fit, temp_test.X, type=\"response\")\n",
    "logit3.pred <- ifelse(test=logit3.pred>0.3, yes=1, no=0)\n",
    "\n",
    "roc3 <- roc(temp_test.Y$Pos, logit3.pred, plot=TRUE)\n",
    "message(\"AUC: \", auc(temp_test.Y$Pos, logit3.pred))"
   ]
  },
  {
   "cell_type": "code",
   "execution_count": 104,
   "metadata": {
    "vscode": {
     "languageId": "r"
    }
   },
   "outputs": [
    {
     "name": "stderr",
     "output_type": "stream",
     "text": [
      "Setting levels: control = 0, case = 1\n",
      "\n",
      "Setting direction: controls < cases\n",
      "\n",
      "AUC: 0.734744922948687\n",
      "\n"
     ]
    },
    {
     "data": {
      "image/png": "[encoded data removed]",
      "text/plain": [
       "plot without title"
      ]
     },
     "metadata": {
      "image/png": {
       "height": 420,
       "width": 420
      }
     },
     "output_type": "display_data"
    }
   ],
   "source": [
    "temp_data <- read.csv(\"data/all_seasons.csv\")\n",
    "temp_data$Pos <- replace(temp_data$Pos, temp_data$Pos=='C', 0)\n",
    "temp_data$Pos <- replace(temp_data$Pos, temp_data$Pos=='PF', 0)\n",
    "temp_data$Pos <- replace(temp_data$Pos, temp_data$Pos=='SF', 0)\n",
    "temp_data$Pos <- replace(temp_data$Pos, temp_data$Pos=='SG', 1)\n",
    "temp_data$Pos <- replace(temp_data$Pos, temp_data$Pos=='PG', 0)\n",
    "temp_data$Pos <- as.factor(temp_data$Pos)\n",
    "temp_data <- temp_data[,c('Pos','Ht','Wt','AST','X3PA','ORB','BLK')]\n",
    "\n",
    "sample <- sample(c(TRUE, FALSE), nrow(temp_data), replace=TRUE, prob=c(0.8,0.2))\n",
    "temp_train <- temp_data[sample, ]\n",
    "temp_test <- temp_data[!sample, ]\n",
    "temp_test.X <- temp_test[2:7]\n",
    "temp_test.Y <- temp_test[1]\n",
    "temp_train.X<-temp_train[2:7]\n",
    "temp_train.Y<-temp_train[1]\n",
    "\n",
    "logit2.fit <- glm(Pos~., data=temp_train, family = binomial)\n",
    "logit2.pred <- predict(logit2.fit, temp_test.X, type=\"response\")\n",
    "logit2.pred <- ifelse(test=logit2.pred>0.2, yes=1, no=0)\n",
    "\n",
    "roc2 <- roc(temp_test.Y$Pos, logit2.pred, plot=TRUE)\n",
    "message(\"AUC: \", auc(temp_test.Y$Pos, logit2.pred))"
   ]
  },
  {
   "cell_type": "code",
   "execution_count": 103,
   "metadata": {
    "vscode": {
     "languageId": "r"
    }
   },
   "outputs": [
    {
     "name": "stderr",
     "output_type": "stream",
     "text": [
      "Setting levels: control = 0, case = 1\n",
      "\n",
      "Setting direction: controls < cases\n",
      "\n",
      "AUC: 0.92961224257112\n",
      "\n"
     ]
    },
    {
     "data": {
      "image/png": "[encoded data removed]",
      "text/plain": [
       "plot without title"
      ]
     },
     "metadata": {
      "image/png": {
       "height": 420,
       "width": 420
      }
     },
     "output_type": "display_data"
    }
   ],
   "source": [
    "temp_data <- read.csv(\"data/all_seasons.csv\")\n",
    "temp_data$Pos <- replace(temp_data$Pos, temp_data$Pos=='C', 0)\n",
    "temp_data$Pos <- replace(temp_data$Pos, temp_data$Pos=='PF', 0)\n",
    "temp_data$Pos <- replace(temp_data$Pos, temp_data$Pos=='SF', 0)\n",
    "temp_data$Pos <- replace(temp_data$Pos, temp_data$Pos=='SG', 0)\n",
    "temp_data$Pos <- replace(temp_data$Pos, temp_data$Pos=='PG', 1)\n",
    "temp_data$Pos <- as.factor(temp_data$Pos)\n",
    "temp_data <- temp_data[,c('Pos','Ht','Wt','AST','X3PA','ORB','BLK')]\n",
    "\n",
    "sample <- sample(c(TRUE, FALSE), nrow(temp_data), replace=TRUE, prob=c(0.8,0.2))\n",
    "temp_train <- temp_data[sample, ]\n",
    "temp_test <- temp_data[!sample, ]\n",
    "temp_test.X <- temp_test[2:7]\n",
    "temp_test.Y <- temp_test[1]\n",
    "temp_train.X<-temp_train[2:7]\n",
    "temp_train.Y<-temp_train[1]\n",
    "\n",
    "logit1.fit <- glm(Pos~., data=temp_train, family = binomial)\n",
    "logit1.pred <- predict(logit1.fit, temp_test.X, type=\"response\")\n",
    "logit1.pred <- ifelse(test=logit1.pred>0.1, yes=1, no=0)\n",
    "\n",
    "roc1 <- roc(temp_test.Y$Pos, logit1.pred, plot=TRUE)\n",
    "message(\"AUC: \", auc(temp_test.Y$Pos, logit1.pred))"
   ]
  },
  {
   "cell_type": "code",
   "execution_count": 97,
   "metadata": {
    "vscode": {
     "languageId": "r"
    }
   },
   "outputs": [
    {
     "data": {
      "image/png": "[encoded data removed]",
      "text/plain": [
       "plot without title"
      ]
     },
     "metadata": {
      "image/png": {
       "height": 420,
       "width": 420
      }
     },
     "output_type": "display_data"
    }
   ],
   "source": [
    "plot(roc5, col='#8df801')\n",
    "lines(roc4, col='#8c00ff')\n",
    "lines(roc3, col='#ff0000')\n",
    "lines(roc2, col='#0026ff')\n",
    "lines(roc1, col='#ff9900')\n",
    "legend(x='bottomright',legend=c('C','PF','SF','PG','SG'),fill=c('#8df801','#8c00ff','#ff0000','#0026ff','#ff9900'))"
   ]
  },
  {
   "cell_type": "markdown",
   "metadata": {},
   "source": [
    "As a result we can notice, that \"marginal\" positions (Center, Point guard) have the best results. It is because they are on the edges of the distributions. Center players tend to be the highest, the haviest, shoots the least 3's, don't have assists and have the most blocks and rebounds, while Point guards Vice Versa. Other Positions are between them, so their performance differ depending on the strategy, personal stats of the player etc."
   ]
  },
  {
   "cell_type": "code",
   "execution_count": 6,
   "metadata": {
    "vscode": {
     "languageId": "r"
    }
   },
   "outputs": [
    {
     "data": {
      "image/png": "[encoded data removed]",
      "text/plain": [
       "plot without title"
      ]
     },
     "metadata": {
      "image/png": {
       "height": 420,
       "width": 420
      }
     },
     "output_type": "display_data"
    }
   ],
   "source": [
    "plot_confusion_matrix(confusion_matrix(targets=test.Y$Pos, prediction=logit.pred))"
   ]
  },
  {
   "cell_type": "code",
   "execution_count": 38,
   "metadata": {
    "vscode": {
     "languageId": "r"
    }
   },
   "outputs": [
    {
     "name": "stderr",
     "output_type": "stream",
     "text": [
      "Accuracy: 74.88%\n",
      "\n",
      "\n"
     ]
    },
    {
     "data": {
      "text/html": [
       "<table class=\"dataframe\">\n",
       "<caption>A data.frame: 5 × 6</caption>\n",
       "<thead>\n",
       "\t<tr><th></th><th scope=col>Accuracy</th><th scope=col>Specificity</th><th scope=col>Precision</th><th scope=col>Sensitivity</th><th scope=col>Bias</th><th scope=col>Variance</th></tr>\n",
       "\t<tr><th></th><th scope=col>&lt;dbl&gt;</th><th scope=col>&lt;dbl&gt;</th><th scope=col>&lt;dbl&gt;</th><th scope=col>&lt;dbl&gt;</th><th scope=col>&lt;dbl&gt;</th><th scope=col>&lt;dbl&gt;</th></tr>\n",
       "</thead>\n",
       "<tbody>\n",
       "\t<tr><th scope=row>1</th><td>0.7488</td><td>0.9567</td><td>0.8804</td><td>0.8859</td><td>0</td><td>2.064605</td></tr>\n",
       "\t<tr><th scope=row>2</th><td>0.7488</td><td>0.9187</td><td>0.7381</td><td>0.7255</td><td>0</td><td>2.064605</td></tr>\n",
       "\t<tr><th scope=row>3</th><td>0.7488</td><td>0.9150</td><td>0.6642</td><td>0.6559</td><td>0</td><td>2.064605</td></tr>\n",
       "\t<tr><th scope=row>4</th><td>0.7488</td><td>0.8883</td><td>0.6297</td><td>0.6719</td><td>0</td><td>2.064605</td></tr>\n",
       "\t<tr><th scope=row>5</th><td>0.7488</td><td>0.9414</td><td>0.8184</td><td>0.7841</td><td>0</td><td>2.064605</td></tr>\n",
       "</tbody>\n",
       "</table>\n"
      ],
      "text/latex": [
       "A data.frame: 5 × 6\n",
       "\\begin{tabular}{r|llllll}\n",
       "  & Accuracy & Specificity & Precision & Sensitivity & Bias & Variance\\\\\n",
       "  & <dbl> & <dbl> & <dbl> & <dbl> & <dbl> & <dbl>\\\\\n",
       "\\hline\n",
       "\t1 & 0.7488 & 0.9567 & 0.8804 & 0.8859 & 0 & 2.064605\\\\\n",
       "\t2 & 0.7488 & 0.9187 & 0.7381 & 0.7255 & 0 & 2.064605\\\\\n",
       "\t3 & 0.7488 & 0.9150 & 0.6642 & 0.6559 & 0 & 2.064605\\\\\n",
       "\t4 & 0.7488 & 0.8883 & 0.6297 & 0.6719 & 0 & 2.064605\\\\\n",
       "\t5 & 0.7488 & 0.9414 & 0.8184 & 0.7841 & 0 & 2.064605\\\\\n",
       "\\end{tabular}\n"
      ],
      "text/markdown": [
       "\n",
       "A data.frame: 5 × 6\n",
       "\n",
       "| <!--/--> | Accuracy &lt;dbl&gt; | Specificity &lt;dbl&gt; | Precision &lt;dbl&gt; | Sensitivity &lt;dbl&gt; | Bias &lt;dbl&gt; | Variance &lt;dbl&gt; |\n",
       "|---|---|---|---|---|---|---|\n",
       "| 1 | 0.7488 | 0.9567 | 0.8804 | 0.8859 | 0 | 2.064605 |\n",
       "| 2 | 0.7488 | 0.9187 | 0.7381 | 0.7255 | 0 | 2.064605 |\n",
       "| 3 | 0.7488 | 0.9150 | 0.6642 | 0.6559 | 0 | 2.064605 |\n",
       "| 4 | 0.7488 | 0.8883 | 0.6297 | 0.6719 | 0 | 2.064605 |\n",
       "| 5 | 0.7488 | 0.9414 | 0.8184 | 0.7841 | 0 | 2.064605 |\n",
       "\n"
      ],
      "text/plain": [
       "  Accuracy Specificity Precision Sensitivity Bias Variance\n",
       "1 0.7488   0.9567      0.8804    0.8859      0    2.064605\n",
       "2 0.7488   0.9187      0.7381    0.7255      0    2.064605\n",
       "3 0.7488   0.9150      0.6642    0.6559      0    2.064605\n",
       "4 0.7488   0.8883      0.6297    0.6719      0    2.064605\n",
       "5 0.7488   0.9414      0.8184    0.7841      0    2.064605"
      ]
     },
     "metadata": {},
     "output_type": "display_data"
    }
   ],
   "source": [
    "stats <- ml_test(logit.pred, test.Y$Pos, output.as.table = FALSE)\n",
    "logit.results <- data.frame(\n",
    "    Accuracy = round(rep(stats$accuracy, 5),4),\n",
    "    Specificity = round(stats$specificity,4),\n",
    "    Precision = round(stats$precision,4),\n",
    "    Sensitivity = round(stats$recall,4),\n",
    "    Bias = rep(mean(abs(as.integer(population.pred) - as.integer(logit.pred))), 5),\n",
    "    Variance = rep(var(as.integer(population.pred), as.integer(logit.pred)), 5)\n",
    ")\n",
    "message(\"Accuracy: \", round(stats$accuracy,4)*100, \"%\\n\")\n",
    "logit.results"
   ]
  },
  {
   "cell_type": "markdown",
   "metadata": {},
   "source": [
    "## KNN"
   ]
  },
  {
   "cell_type": "code",
   "execution_count": 107,
   "metadata": {
    "vscode": {
     "languageId": "r"
    }
   },
   "outputs": [],
   "source": [
    "n = 50\n",
    "k_values = seq(1,n,by=1)\n",
    "accuracy = rep(0,n)\n",
    "\n",
    "for (i in 1:n){\n",
    "    knn.pred <- knn(train.X, test.X, cl=train.Y$Pos, k=i)\n",
    "    accuracy[i] = round(mean(knn.pred == test.Y$Pos),3)*100\n",
    "}"
   ]
  },
  {
   "cell_type": "code",
   "execution_count": 108,
   "metadata": {
    "vscode": {
     "languageId": "r"
    }
   },
   "outputs": [
    {
     "data": {
      "image/png": "[encoded data removed]",
      "text/plain": [
       "Plot with title \"KNN accuracy depending on k\""
      ]
     },
     "metadata": {
      "image/png": {
       "height": 420,
       "width": 420
      }
     },
     "output_type": "display_data"
    }
   ],
   "source": [
    "plot(k_values, accuracy, type=\"o\", main=\"KNN accuracy depending on k\", ylim=c(min(accuracy),max(accuracy)))"
   ]
  },
  {
   "cell_type": "markdown",
   "metadata": {},
   "source": [
    "Very flexible model with $k=7$ shows the best results. I will use it in further computations."
   ]
  },
  {
   "cell_type": "code",
   "execution_count": 109,
   "metadata": {
    "vscode": {
     "languageId": "r"
    }
   },
   "outputs": [],
   "source": [
    "knn.pred <- knn(train.X, test.X, cl=train.Y$Pos, k=7)\n",
    "population.knn <- knn(data[2:7], test.X, cl=data$Pos, k=7)"
   ]
  },
  {
   "cell_type": "code",
   "execution_count": 174,
   "metadata": {
    "vscode": {
     "languageId": "r"
    }
   },
   "outputs": [
    {
     "data": {
      "image/png": "[encoded data removed]",
      "text/plain": [
       "plot without title"
      ]
     },
     "metadata": {
      "image/png": {
       "height": 420,
       "width": 420
      }
     },
     "output_type": "display_data"
    }
   ],
   "source": [
    "plot_confusion_matrix(confusion_matrix(targets=test.Y$Pos, prediction=knn.pred))"
   ]
  },
  {
   "cell_type": "code",
   "execution_count": 110,
   "metadata": {
    "vscode": {
     "languageId": "r"
    }
   },
   "outputs": [
    {
     "name": "stderr",
     "output_type": "stream",
     "text": [
      "Accuracy: 76.06%\n",
      "\n",
      "\n"
     ]
    },
    {
     "data": {
      "text/html": [
       "<table class=\"dataframe\">\n",
       "<caption>A data.frame: 5 × 6</caption>\n",
       "<thead>\n",
       "\t<tr><th></th><th scope=col>Accuracy</th><th scope=col>Specificity</th><th scope=col>Precision</th><th scope=col>Sensitivity</th><th scope=col>Bias</th><th scope=col>Variance</th></tr>\n",
       "\t<tr><th></th><th scope=col>&lt;dbl&gt;</th><th scope=col>&lt;dbl&gt;</th><th scope=col>&lt;dbl&gt;</th><th scope=col>&lt;dbl&gt;</th><th scope=col>&lt;dbl&gt;</th><th scope=col>&lt;dbl&gt;</th></tr>\n",
       "</thead>\n",
       "<tbody>\n",
       "\t<tr><th scope=row>1</th><td>0.7606</td><td>0.9504</td><td>0.8643</td><td>0.8983</td><td>0.08768084</td><td>2.017317</td></tr>\n",
       "\t<tr><th scope=row>2</th><td>0.7606</td><td>0.9263</td><td>0.7449</td><td>0.6957</td><td>0.08768084</td><td>2.017317</td></tr>\n",
       "\t<tr><th scope=row>3</th><td>0.7606</td><td>0.9078</td><td>0.6518</td><td>0.6856</td><td>0.08768084</td><td>2.017317</td></tr>\n",
       "\t<tr><th scope=row>4</th><td>0.7606</td><td>0.9052</td><td>0.6768</td><td>0.6964</td><td>0.08768084</td><td>2.017317</td></tr>\n",
       "\t<tr><th scope=row>5</th><td>0.7606</td><td>0.9513</td><td>0.8484</td><td>0.8092</td><td>0.08768084</td><td>2.017317</td></tr>\n",
       "</tbody>\n",
       "</table>\n"
      ],
      "text/latex": [
       "A data.frame: 5 × 6\n",
       "\\begin{tabular}{r|llllll}\n",
       "  & Accuracy & Specificity & Precision & Sensitivity & Bias & Variance\\\\\n",
       "  & <dbl> & <dbl> & <dbl> & <dbl> & <dbl> & <dbl>\\\\\n",
       "\\hline\n",
       "\t1 & 0.7606 & 0.9504 & 0.8643 & 0.8983 & 0.08768084 & 2.017317\\\\\n",
       "\t2 & 0.7606 & 0.9263 & 0.7449 & 0.6957 & 0.08768084 & 2.017317\\\\\n",
       "\t3 & 0.7606 & 0.9078 & 0.6518 & 0.6856 & 0.08768084 & 2.017317\\\\\n",
       "\t4 & 0.7606 & 0.9052 & 0.6768 & 0.6964 & 0.08768084 & 2.017317\\\\\n",
       "\t5 & 0.7606 & 0.9513 & 0.8484 & 0.8092 & 0.08768084 & 2.017317\\\\\n",
       "\\end{tabular}\n"
      ],
      "text/markdown": [
       "\n",
       "A data.frame: 5 × 6\n",
       "\n",
       "| <!--/--> | Accuracy &lt;dbl&gt; | Specificity &lt;dbl&gt; | Precision &lt;dbl&gt; | Sensitivity &lt;dbl&gt; | Bias &lt;dbl&gt; | Variance &lt;dbl&gt; |\n",
       "|---|---|---|---|---|---|---|\n",
       "| 1 | 0.7606 | 0.9504 | 0.8643 | 0.8983 | 0.08768084 | 2.017317 |\n",
       "| 2 | 0.7606 | 0.9263 | 0.7449 | 0.6957 | 0.08768084 | 2.017317 |\n",
       "| 3 | 0.7606 | 0.9078 | 0.6518 | 0.6856 | 0.08768084 | 2.017317 |\n",
       "| 4 | 0.7606 | 0.9052 | 0.6768 | 0.6964 | 0.08768084 | 2.017317 |\n",
       "| 5 | 0.7606 | 0.9513 | 0.8484 | 0.8092 | 0.08768084 | 2.017317 |\n",
       "\n"
      ],
      "text/plain": [
       "  Accuracy Specificity Precision Sensitivity Bias       Variance\n",
       "1 0.7606   0.9504      0.8643    0.8983      0.08768084 2.017317\n",
       "2 0.7606   0.9263      0.7449    0.6957      0.08768084 2.017317\n",
       "3 0.7606   0.9078      0.6518    0.6856      0.08768084 2.017317\n",
       "4 0.7606   0.9052      0.6768    0.6964      0.08768084 2.017317\n",
       "5 0.7606   0.9513      0.8484    0.8092      0.08768084 2.017317"
      ]
     },
     "metadata": {},
     "output_type": "display_data"
    }
   ],
   "source": [
    "stats <- ml_test(knn.pred, test.Y$Pos, output.as.table = FALSE)\n",
    "knn.results <- data.frame(\n",
    "    Accuracy = round(rep(stats$accuracy, 5),4),\n",
    "    Specificity = round(stats$specificity,4),\n",
    "    Precision = round(stats$precision,4),\n",
    "    Sensitivity = round(stats$recall,4),\n",
    "    Bias = rep(mean(abs(as.integer(population.knn) - as.integer(knn.pred))), 5),\n",
    "    Variance = rep(var(as.integer(population.knn), as.integer(knn.pred)), 5)\n",
    ")\n",
    "message(\"Accuracy: \", round(stats$accuracy,4)*100, \"%\\n\")\n",
    "knn.results"
   ]
  },
  {
   "cell_type": "markdown",
   "metadata": {},
   "source": [
    "## Decision Tree"
   ]
  },
  {
   "cell_type": "code",
   "execution_count": 47,
   "metadata": {
    "vscode": {
     "languageId": "r"
    }
   },
   "outputs": [
    {
     "data": {
      "text/plain": [
       "\n",
       "\t Conditional inference tree with 109 terminal nodes\n",
       "\n",
       "Response:  Pos \n",
       "Inputs:  Ht, Wt, AST, X3PA, ORB, BLK \n",
       "Number of observations:  8790 \n",
       "\n",
       "1) Ht <= 190; criterion = 1, statistic = 6935.294\n",
       "  2) AST <= 4.2; criterion = 1, statistic = 92.893\n",
       "    3) X3PA <= 6.3; criterion = 1, statistic = 117.591\n",
       "      4) X3PA <= 3.1; criterion = 1, statistic = 93.152\n",
       "        5) Ht <= 188; criterion = 1, statistic = 51.854\n",
       "          6) AST <= 1.5; criterion = 0.999, statistic = 13.946\n",
       "            7) Wt <= 85; criterion = 0.984, statistic = 9.002\n",
       "              8)*  weights = 164 \n",
       "            7) Wt > 85\n",
       "              9)*  weights = 94 \n",
       "          6) AST > 1.5\n",
       "            10) ORB <= 0.4; criterion = 0.996, statistic = 11.548\n",
       "              11)*  weights = 293 \n",
       "            10) ORB > 0.4\n",
       "              12)*  weights = 75 \n",
       "        5) Ht > 188\n",
       "          13) AST <= 1.2; criterion = 1, statistic = 25.357\n",
       "            14) Wt <= 87; criterion = 0.994, statistic = 13.971\n",
       "              15)*  weights = 60 \n",
       "            14) Wt > 87\n",
       "              16)*  weights = 56 \n",
       "          13) AST > 1.2\n",
       "            17) ORB <= 0.3; criterion = 1, statistic = 27.6\n",
       "              18)*  weights = 146 \n",
       "            17) ORB > 0.3\n",
       "              19) BLK <= 0; criterion = 0.999, statistic = 17.556\n",
       "                20)*  weights = 22 \n",
       "              19) BLK > 0\n",
       "                21)*  weights = 72 \n",
       "      4) X3PA > 3.1\n",
       "        22) Ht <= 188; criterion = 1, statistic = 29.401\n",
       "          23) AST <= 2.2; criterion = 0.996, statistic = 11.483\n",
       "            24)*  weights = 35 \n",
       "          23) AST > 2.2\n",
       "            25) X3PA <= 4.2; criterion = 0.989, statistic = 9.752\n",
       "              26)*  weights = 69 \n",
       "            25) X3PA > 4.2\n",
       "              27)*  weights = 40 \n",
       "        22) Ht > 188\n",
       "          28)*  weights = 79 \n",
       "    3) X3PA > 6.3\n",
       "      29)*  weights = 14 \n",
       "  2) AST > 4.2\n",
       "    30) BLK <= 0.7; criterion = 0.998, statistic = 13.023\n",
       "      31) AST <= 6.8; criterion = 0.988, statistic = 9.492\n",
       "        32) BLK <= 0.2; criterion = 0.987, statistic = 9.434\n",
       "          33)*  weights = 277 \n",
       "        32) BLK > 0.2\n",
       "          34)*  weights = 99 \n",
       "      31) AST > 6.8\n",
       "        35)*  weights = 147 \n",
       "    30) BLK > 0.7\n",
       "      36)*  weights = 7 \n",
       "1) Ht > 190\n",
       "  37) Ht <= 206; criterion = 1, statistic = 4886.68\n",
       "    38) Ht <= 198; criterion = 1, statistic = 2757.636\n",
       "      39) Wt <= 104; criterion = 1, statistic = 553.447\n",
       "        40) Ht <= 196; criterion = 1, statistic = 390.633\n",
       "          41) Wt <= 89; criterion = 1, statistic = 175.933\n",
       "            42) AST <= 5; criterion = 1, statistic = 45.545\n",
       "              43) X3PA <= 1.2; criterion = 1, statistic = 25.696\n",
       "                44) AST <= 0.6; criterion = 1, statistic = 21.426\n",
       "                  45)*  weights = 53 \n",
       "                44) AST > 0.6\n",
       "                  46) BLK <= 0.2; criterion = 0.98, statistic = 11.431\n",
       "                    47)*  weights = 81 \n",
       "                  46) BLK > 0.2\n",
       "                    48)*  weights = 12 \n",
       "              43) X3PA > 1.2\n",
       "                49) AST <= 2.6; criterion = 0.999, statistic = 17.267\n",
       "                  50) BLK <= 0; criterion = 0.954, statistic = 9.703\n",
       "                    51)*  weights = 24 \n",
       "                  50) BLK > 0\n",
       "                    52)*  weights = 113 \n",
       "                49) AST > 2.6\n",
       "                  53) Ht <= 193; criterion = 0.983, statistic = 11.742\n",
       "                    54)*  weights = 53 \n",
       "                  53) Ht > 193\n",
       "                    55)*  weights = 37 \n",
       "            42) AST > 5\n",
       "              56)*  weights = 33 \n",
       "          41) Wt > 89\n",
       "            57) AST <= 7.5; criterion = 1, statistic = 91.499\n",
       "              58) AST <= 2.2; criterion = 1, statistic = 38.006\n",
       "                59) ORB <= 0.8; criterion = 1, statistic = 45.427\n",
       "                  60) X3PA <= 0.9; criterion = 1, statistic = 25.763\n",
       "                    61) Ht <= 193; criterion = 0.999, statistic = 20.45\n",
       "                      62)*  weights = 57 \n",
       "                    61) Ht > 193\n",
       "                      63)*  weights = 86 \n",
       "                  60) X3PA > 0.9\n",
       "                    64) Wt <= 98; criterion = 0.982, statistic = 13.9\n",
       "                      65)*  weights = 260 \n",
       "                    64) Wt > 98\n",
       "                      66) BLK <= 0.1; criterion = 0.985, statistic = 11.97\n",
       "                        67)*  weights = 36 \n",
       "                      66) BLK > 0.1\n",
       "                        68)*  weights = 26 \n",
       "                59) ORB > 0.8\n",
       "                  69) Ht <= 193; criterion = 0.978, statistic = 11.187\n",
       "                    70)*  weights = 19 \n",
       "                  69) Ht > 193\n",
       "                    71)*  weights = 56 \n",
       "              58) AST > 2.2\n",
       "                72) X3PA <= 2.7; criterion = 0.999, statistic = 17.284\n",
       "                  73) BLK <= 0.1; criterion = 0.986, statistic = 12.067\n",
       "                    74)*  weights = 22 \n",
       "                  73) BLK > 0.1\n",
       "                    75)*  weights = 41 \n",
       "                72) X3PA > 2.7\n",
       "                  76) AST <= 4.5; criterion = 0.968, statistic = 10.461\n",
       "                    77)*  weights = 85 \n",
       "                  76) AST > 4.5\n",
       "                    78)*  weights = 19 \n",
       "            57) AST > 7.5\n",
       "              79)*  weights = 11 \n",
       "        40) Ht > 196\n",
       "          80) Wt <= 97; criterion = 1, statistic = 46.362\n",
       "            81) AST <= 1.3; criterion = 0.963, statistic = 12.33\n",
       "              82) ORB <= 0.2; criterion = 0.963, statistic = 10.12\n",
       "                83)*  weights = 70 \n",
       "              82) ORB > 0.2\n",
       "                84)*  weights = 112 \n",
       "            81) AST > 1.3\n",
       "              85)*  weights = 161 \n",
       "          80) Wt > 97\n",
       "            86)*  weights = 441 \n",
       "      39) Wt > 104\n",
       "        87) Ht <= 196; criterion = 0.997, statistic = 17.646\n",
       "          88)*  weights = 14 \n",
       "        87) Ht > 196\n",
       "          89) X3PA <= 0; criterion = 0.996, statistic = 17.116\n",
       "            90)*  weights = 21 \n",
       "          89) X3PA > 0\n",
       "            91)*  weights = 42 \n",
       "    38) Ht > 198\n",
       "      92) Wt <= 102; criterion = 1, statistic = 918.712\n",
       "        93) Ht <= 203; criterion = 1, statistic = 368.971\n",
       "          94) Wt <= 87; criterion = 1, statistic = 195.122\n",
       "            95) X3PA <= 0.4; criterion = 0.998, statistic = 15.799\n",
       "              96)*  weights = 21 \n",
       "            95) X3PA > 0.4\n",
       "              97)*  weights = 24 \n",
       "          94) Wt > 87\n",
       "            98) Wt <= 96; criterion = 1, statistic = 137.481\n",
       "              99) BLK <= 0.8; criterion = 1, statistic = 46.384\n",
       "                100) AST <= 3.8; criterion = 1, statistic = 31.955\n",
       "                  101) AST <= 0.7; criterion = 1, statistic = 33.156\n",
       "                    102) Ht <= 201; criterion = 0.999, statistic = 20.354\n",
       "                      103)*  weights = 75 \n",
       "                    102) Ht > 201\n",
       "                      104)*  weights = 34 \n",
       "                  101) AST > 0.7\n",
       "                    105) BLK <= 0.3; criterion = 1, statistic = 24.532\n",
       "                      106) Wt <= 88; criterion = 1, statistic = 22.303\n",
       "                        107)*  weights = 17 \n",
       "                      106) Wt > 88\n",
       "                        108) ORB <= 0.9; criterion = 0.996, statistic = 14.622\n",
       "                          109)*  weights = 108 \n",
       "                        108) ORB > 0.9\n",
       "                          110)*  weights = 16 \n",
       "                    105) BLK > 0.3\n",
       "                      111) AST <= 2.2; criterion = 0.986, statistic = 12.058\n",
       "                        112)*  weights = 49 \n",
       "                      111) AST > 2.2\n",
       "                        113)*  weights = 11 \n",
       "                100) AST > 3.8\n",
       "                  114)*  weights = 20 \n",
       "              99) BLK > 0.8\n",
       "                115)*  weights = 26 \n",
       "            98) Wt > 96\n",
       "              116) ORB <= 1.7; criterion = 1, statistic = 51.812\n",
       "                117) Ht <= 201; criterion = 1, statistic = 27.155\n",
       "                  118)*  weights = 263 \n",
       "                117) Ht > 201\n",
       "                  119) X3PA <= 0; criterion = 0.972, statistic = 12.965\n",
       "                    120)*  weights = 17 \n",
       "                  119) X3PA > 0\n",
       "                    121) ORB <= 1.1; criterion = 0.981, statistic = 13.749\n",
       "                      122)*  weights = 196 \n",
       "                    121) ORB > 1.1\n",
       "                      123)*  weights = 51 \n",
       "              116) ORB > 1.7\n",
       "                124)*  weights = 60 \n",
       "        93) Ht > 203\n",
       "          125) Wt <= 96; criterion = 1, statistic = 51.412\n",
       "            126) AST <= 1.3; criterion = 0.973, statistic = 13.056\n",
       "              127)*  weights = 68 \n",
       "            126) AST > 1.3\n",
       "              128)*  weights = 34 \n",
       "          125) Wt > 96\n",
       "            129) ORB <= 0.6; criterion = 1, statistic = 32.637\n",
       "              130)*  weights = 77 \n",
       "            129) ORB > 0.6\n",
       "              131) X3PA <= 0.4; criterion = 1, statistic = 21.651\n",
       "                132) ORB <= 0.8; criterion = 0.979, statistic = 13.632\n",
       "                  133)*  weights = 14 \n",
       "                132) ORB > 0.8\n",
       "                  134)*  weights = 95 \n",
       "              131) X3PA > 0.4\n",
       "                135)*  weights = 67 \n",
       "      92) Wt > 102\n",
       "        136) Ht <= 201; criterion = 1, statistic = 276.942\n",
       "          137) Wt <= 111; criterion = 1, statistic = 74.766\n",
       "            138) AST <= 4.2; criterion = 1, statistic = 48.032\n",
       "              139) ORB <= 2.3; criterion = 1, statistic = 21.95\n",
       "                140) Wt <= 107; criterion = 0.981, statistic = 13.788\n",
       "                  141)*  weights = 114 \n",
       "                140) Wt > 107\n",
       "                  142) AST <= 0.9; criterion = 0.995, statistic = 16.721\n",
       "                    143)*  weights = 20 \n",
       "                  142) AST > 0.9\n",
       "                    144)*  weights = 55 \n",
       "              139) ORB > 2.3\n",
       "                145)*  weights = 7 \n",
       "            138) AST > 4.2\n",
       "              146)*  weights = 18 \n",
       "          137) Wt > 111\n",
       "            147) X3PA <= 0.6; criterion = 1, statistic = 42.493\n",
       "              148)*  weights = 52 \n",
       "            147) X3PA > 0.6\n",
       "              149) ORB <= 1.5; criterion = 0.996, statistic = 11.691\n",
       "                150)*  weights = 19 \n",
       "              149) ORB > 1.5\n",
       "                151)*  weights = 9 \n",
       "        136) Ht > 201\n",
       "          152) Wt <= 114; criterion = 1, statistic = 137.676\n",
       "            153) AST <= 6.8; criterion = 1, statistic = 110.104\n",
       "              154) X3PA <= 0.7; criterion = 1, statistic = 65.439\n",
       "                155) BLK <= 0.9; criterion = 1, statistic = 54.049\n",
       "                  156) Ht <= 203; criterion = 1, statistic = 21.929\n",
       "                    157)*  weights = 152 \n",
       "                  156) Ht > 203\n",
       "                    158) BLK <= 0.4; criterion = 0.989, statistic = 12.544\n",
       "                      159)*  weights = 203 \n",
       "                    158) BLK > 0.4\n",
       "                      160)*  weights = 101 \n",
       "                155) BLK > 0.9\n",
       "                  161)*  weights = 51 \n",
       "              154) X3PA > 0.7\n",
       "                162) AST <= 5.4; criterion = 1, statistic = 31.308\n",
       "                  163) Wt <= 104; criterion = 0.999, statistic = 21.233\n",
       "                    164) ORB <= 1.4; criterion = 0.983, statistic = 14.046\n",
       "                      165)*  weights = 74 \n",
       "                    164) ORB > 1.4\n",
       "                      166)*  weights = 13 \n",
       "                  163) Wt > 104\n",
       "                    167) Ht <= 203; criterion = 0.991, statistic = 15.431\n",
       "                      168)*  weights = 161 \n",
       "                    167) Ht > 203\n",
       "                      169) AST <= 3.7; criterion = 0.996, statistic = 17.256\n",
       "                        170) AST <= 1.8; criterion = 0.962, statistic = 12.281\n",
       "                          171)*  weights = 123 \n",
       "                        170) AST > 1.8\n",
       "                          172)*  weights = 19 \n",
       "                      169) AST > 3.7\n",
       "                        173)*  weights = 7 \n",
       "                162) AST > 5.4\n",
       "                  174)*  weights = 10 \n",
       "            153) AST > 6.8\n",
       "              175)*  weights = 11 \n",
       "          152) Wt > 114\n",
       "            176) X3PA <= 0.3; criterion = 0.999, statistic = 17.506\n",
       "              177) AST <= 1.2; criterion = 0.997, statistic = 15.423\n",
       "                178) BLK <= 0.6; criterion = 0.998, statistic = 16.217\n",
       "                  179)*  weights = 82 \n",
       "                178) BLK > 0.6\n",
       "                  180)*  weights = 47 \n",
       "              177) AST > 1.2\n",
       "                181)*  weights = 43 \n",
       "            176) X3PA > 0.3\n",
       "              182)*  weights = 16 \n",
       "  37) Ht > 206\n",
       "    183) X3PA <= 0.2; criterion = 1, statistic = 514.261\n",
       "      184) Ht <= 208; criterion = 1, statistic = 139.654\n",
       "        185) Wt <= 117; criterion = 1, statistic = 32.45\n",
       "          186) X3PA <= 0; criterion = 0.999, statistic = 17.304\n",
       "            187) BLK <= 0.4; criterion = 0.96, statistic = 9.979\n",
       "              188)*  weights = 131 \n",
       "            187) BLK > 0.4\n",
       "              189)*  weights = 145 \n",
       "          186) X3PA > 0\n",
       "            190)*  weights = 106 \n",
       "        185) Wt > 117\n",
       "          191)*  weights = 112 \n",
       "      184) Ht > 208\n",
       "        192) AST <= 3.6; criterion = 1, statistic = 95.845\n",
       "          193) Wt <= 113; criterion = 1, statistic = 50.803\n",
       "            194) X3PA <= 0; criterion = 1, statistic = 21.475\n",
       "              195) Ht <= 211; criterion = 0.998, statistic = 15.764\n",
       "                196)*  weights = 234 \n",
       "              195) Ht > 211\n",
       "                197) Wt <= 102; criterion = 0.995, statistic = 11.062\n",
       "                  198)*  weights = 17 \n",
       "                197) Wt > 102\n",
       "                  199)*  weights = 189 \n",
       "            194) X3PA > 0\n",
       "              200) AST <= 2.3; criterion = 0.998, statistic = 16.126\n",
       "                201)*  weights = 136 \n",
       "              200) AST > 2.3\n",
       "                202)*  weights = 27 \n",
       "          193) Wt > 113\n",
       "            203)*  weights = 490 \n",
       "        192) AST > 3.6\n",
       "          204)*  weights = 13 \n",
       "    183) X3PA > 0.2\n",
       "      205) Wt <= 111; criterion = 1, statistic = 215.008\n",
       "        206) Ht <= 208; criterion = 1, statistic = 79.898\n",
       "          207) X3PA <= 1.9; criterion = 1, statistic = 45.211\n",
       "            208) ORB <= 0.2; criterion = 0.972, statistic = 10.697\n",
       "              209)*  weights = 16 \n",
       "            208) ORB > 0.2\n",
       "              210)*  weights = 114 \n",
       "          207) X3PA > 1.9\n",
       "            211)*  weights = 172 \n",
       "        206) Ht > 208\n",
       "          212) Wt <= 104; criterion = 1, statistic = 51.009\n",
       "            213)*  weights = 70 \n",
       "          212) Wt > 104\n",
       "            214)*  weights = 163 \n",
       "      205) Wt > 111\n",
       "        215) Wt <= 117; criterion = 0.999, statistic = 18.314\n",
       "          216)*  weights = 109 \n",
       "        215) Wt > 117\n",
       "          217)*  weights = 62 "
      ]
     },
     "metadata": {},
     "output_type": "display_data"
    }
   ],
   "source": [
    "tree <- ctree(Pos~., data=train)\n",
    "tree\n",
    "population.tree <- ctree(Pos~., data=data)"
   ]
  },
  {
   "cell_type": "code",
   "execution_count": 159,
   "metadata": {
    "vscode": {
     "languageId": "r"
    }
   },
   "outputs": [
    {
     "data": {
      "image/png": "[encoded data removed]",
      "text/plain": [
       "plot without title"
      ]
     },
     "metadata": {
      "image/png": {
       "height": 420,
       "width": 420
      }
     },
     "output_type": "display_data"
    }
   ],
   "source": [
    "plot(tree)"
   ]
  },
  {
   "cell_type": "markdown",
   "metadata": {},
   "source": [
    "Damn -_-"
   ]
  },
  {
   "cell_type": "code",
   "execution_count": 48,
   "metadata": {
    "vscode": {
     "languageId": "r"
    }
   },
   "outputs": [],
   "source": [
    "tree.pred <- predict(tree, test.X)\n",
    "population.pred <- predict(population.tree, test.X)"
   ]
  },
  {
   "cell_type": "code",
   "execution_count": 176,
   "metadata": {
    "vscode": {
     "languageId": "r"
    }
   },
   "outputs": [
    {
     "data": {
      "image/png": "[encoded data removed]",
      "text/plain": [
       "plot without title"
      ]
     },
     "metadata": {
      "image/png": {
       "height": 420,
       "width": 420
      }
     },
     "output_type": "display_data"
    }
   ],
   "source": [
    "plot_confusion_matrix(confusion_matrix(targets=test.Y$Pos, prediction=tree.pred))"
   ]
  },
  {
   "cell_type": "code",
   "execution_count": 49,
   "metadata": {
    "vscode": {
     "languageId": "r"
    }
   },
   "outputs": [
    {
     "name": "stderr",
     "output_type": "stream",
     "text": [
      "Accuracy: 73.87%\n",
      "\n",
      "\n"
     ]
    },
    {
     "data": {
      "text/html": [
       "<table class=\"dataframe\">\n",
       "<caption>A data.frame: 5 × 6</caption>\n",
       "<thead>\n",
       "\t<tr><th></th><th scope=col>Accuracy</th><th scope=col>Specificity</th><th scope=col>Precision</th><th scope=col>Sensitivity</th><th scope=col>Bias</th><th scope=col>Variance</th></tr>\n",
       "\t<tr><th></th><th scope=col>&lt;dbl&gt;</th><th scope=col>&lt;dbl&gt;</th><th scope=col>&lt;dbl&gt;</th><th scope=col>&lt;dbl&gt;</th><th scope=col>&lt;dbl&gt;</th><th scope=col>&lt;dbl&gt;</th></tr>\n",
       "</thead>\n",
       "<tbody>\n",
       "\t<tr><th scope=row>1</th><td>0.7387</td><td>0.9457</td><td>0.8566</td><td>0.8921</td><td>0.1363437</td><td>1.983488</td></tr>\n",
       "\t<tr><th scope=row>2</th><td>0.7387</td><td>0.8974</td><td>0.7002</td><td>0.7553</td><td>0.1363437</td><td>1.983488</td></tr>\n",
       "\t<tr><th scope=row>3</th><td>0.7387</td><td>0.9283</td><td>0.6617</td><td>0.5470</td><td>0.1363437</td><td>1.983488</td></tr>\n",
       "\t<tr><th scope=row>4</th><td>0.7387</td><td>0.8775</td><td>0.6240</td><td>0.7076</td><td>0.1363437</td><td>1.983488</td></tr>\n",
       "\t<tr><th scope=row>5</th><td>0.7387</td><td>0.9511</td><td>0.8419</td><td>0.7589</td><td>0.1363437</td><td>1.983488</td></tr>\n",
       "</tbody>\n",
       "</table>\n"
      ],
      "text/latex": [
       "A data.frame: 5 × 6\n",
       "\\begin{tabular}{r|llllll}\n",
       "  & Accuracy & Specificity & Precision & Sensitivity & Bias & Variance\\\\\n",
       "  & <dbl> & <dbl> & <dbl> & <dbl> & <dbl> & <dbl>\\\\\n",
       "\\hline\n",
       "\t1 & 0.7387 & 0.9457 & 0.8566 & 0.8921 & 0.1363437 & 1.983488\\\\\n",
       "\t2 & 0.7387 & 0.8974 & 0.7002 & 0.7553 & 0.1363437 & 1.983488\\\\\n",
       "\t3 & 0.7387 & 0.9283 & 0.6617 & 0.5470 & 0.1363437 & 1.983488\\\\\n",
       "\t4 & 0.7387 & 0.8775 & 0.6240 & 0.7076 & 0.1363437 & 1.983488\\\\\n",
       "\t5 & 0.7387 & 0.9511 & 0.8419 & 0.7589 & 0.1363437 & 1.983488\\\\\n",
       "\\end{tabular}\n"
      ],
      "text/markdown": [
       "\n",
       "A data.frame: 5 × 6\n",
       "\n",
       "| <!--/--> | Accuracy &lt;dbl&gt; | Specificity &lt;dbl&gt; | Precision &lt;dbl&gt; | Sensitivity &lt;dbl&gt; | Bias &lt;dbl&gt; | Variance &lt;dbl&gt; |\n",
       "|---|---|---|---|---|---|---|\n",
       "| 1 | 0.7387 | 0.9457 | 0.8566 | 0.8921 | 0.1363437 | 1.983488 |\n",
       "| 2 | 0.7387 | 0.8974 | 0.7002 | 0.7553 | 0.1363437 | 1.983488 |\n",
       "| 3 | 0.7387 | 0.9283 | 0.6617 | 0.5470 | 0.1363437 | 1.983488 |\n",
       "| 4 | 0.7387 | 0.8775 | 0.6240 | 0.7076 | 0.1363437 | 1.983488 |\n",
       "| 5 | 0.7387 | 0.9511 | 0.8419 | 0.7589 | 0.1363437 | 1.983488 |\n",
       "\n"
      ],
      "text/plain": [
       "  Accuracy Specificity Precision Sensitivity Bias      Variance\n",
       "1 0.7387   0.9457      0.8566    0.8921      0.1363437 1.983488\n",
       "2 0.7387   0.8974      0.7002    0.7553      0.1363437 1.983488\n",
       "3 0.7387   0.9283      0.6617    0.5470      0.1363437 1.983488\n",
       "4 0.7387   0.8775      0.6240    0.7076      0.1363437 1.983488\n",
       "5 0.7387   0.9511      0.8419    0.7589      0.1363437 1.983488"
      ]
     },
     "metadata": {},
     "output_type": "display_data"
    }
   ],
   "source": [
    "stats <- ml_test(tree.pred, test.Y$Pos, output.as.table = FALSE)\n",
    "tree.results <- data.frame(\n",
    "    Accuracy = round(rep(stats$accuracy, 5),4),\n",
    "    Specificity = round(stats$specificity,4),\n",
    "    Precision = round(stats$precision,4),\n",
    "    Sensitivity = round(stats$recall,4),\n",
    "    Bias = rep(mean(abs(as.integer(population.pred) - as.integer(tree.pred))), 5),\n",
    "    Variance = rep(var(as.integer(population.pred), as.integer(tree.pred)), 5)\n",
    ")\n",
    "message(\"Accuracy: \", round(stats$accuracy,4)*100, \"%\\n\")\n",
    "tree.results"
   ]
  },
  {
   "cell_type": "markdown",
   "metadata": {},
   "source": [
    "## SVM"
   ]
  },
  {
   "cell_type": "code",
   "execution_count": 50,
   "metadata": {
    "vscode": {
     "languageId": "r"
    }
   },
   "outputs": [
    {
     "data": {
      "text/plain": [
       "\n",
       "Call:\n",
       "svm(formula = Pos ~ ., data = train, type = \"C-classification\", kernel = \"linear\")\n",
       "\n",
       "\n",
       "Parameters:\n",
       "   SVM-Type:  C-classification \n",
       " SVM-Kernel:  linear \n",
       "       cost:  1 \n",
       "\n",
       "Number of Support Vectors:  5789\n"
      ]
     },
     "metadata": {},
     "output_type": "display_data"
    }
   ],
   "source": [
    "svm <- svm(Pos~., data=train,type = 'C-classification',kernel = 'linear')\n",
    "svm\n",
    "population.svm <-svm(Pos~., data=data, type = 'C-classification',kernel = 'linear')"
   ]
  },
  {
   "cell_type": "code",
   "execution_count": 51,
   "metadata": {
    "vscode": {
     "languageId": "r"
    }
   },
   "outputs": [],
   "source": [
    "svm.pred <- predict(svm, test.X)\n",
    "population.pred <- predict(population.svm, test.X)"
   ]
  },
  {
   "cell_type": "code",
   "execution_count": 179,
   "metadata": {
    "vscode": {
     "languageId": "r"
    }
   },
   "outputs": [
    {
     "data": {
      "image/png": "[encoded data removed]",
      "text/plain": [
       "plot without title"
      ]
     },
     "metadata": {
      "image/png": {
       "height": 420,
       "width": 420
      }
     },
     "output_type": "display_data"
    }
   ],
   "source": [
    "plot_confusion_matrix(confusion_matrix(targets=test.Y$Pos, prediction=svm.pred))"
   ]
  },
  {
   "cell_type": "code",
   "execution_count": 54,
   "metadata": {
    "vscode": {
     "languageId": "r"
    }
   },
   "outputs": [
    {
     "name": "stderr",
     "output_type": "stream",
     "text": [
      "Accuracy: 74.7%\n",
      "\n",
      "\n"
     ]
    },
    {
     "data": {
      "text/html": [
       "<table class=\"dataframe\">\n",
       "<caption>A data.frame: 5 × 6</caption>\n",
       "<thead>\n",
       "\t<tr><th></th><th scope=col>Accuracy</th><th scope=col>Specificity</th><th scope=col>Precision</th><th scope=col>Sensitivity</th><th scope=col>Bias</th><th scope=col>Variance</th></tr>\n",
       "\t<tr><th></th><th scope=col>&lt;dbl&gt;</th><th scope=col>&lt;dbl&gt;</th><th scope=col>&lt;dbl&gt;</th><th scope=col>&lt;dbl&gt;</th><th scope=col>&lt;dbl&gt;</th><th scope=col>&lt;dbl&gt;</th></tr>\n",
       "</thead>\n",
       "<tbody>\n",
       "\t<tr><th scope=row>1</th><td>0.747</td><td>0.9536</td><td>0.8742</td><td>0.8942</td><td>0.007014467</td><td>2.069484</td></tr>\n",
       "\t<tr><th scope=row>2</th><td>0.747</td><td>0.9184</td><td>0.7387</td><td>0.7277</td><td>0.007014467</td><td>2.069484</td></tr>\n",
       "\t<tr><th scope=row>3</th><td>0.747</td><td>0.9181</td><td>0.6658</td><td>0.6361</td><td>0.007014467</td><td>2.069484</td></tr>\n",
       "\t<tr><th scope=row>4</th><td>0.747</td><td>0.8839</td><td>0.6222</td><td>0.6763</td><td>0.007014467</td><td>2.069484</td></tr>\n",
       "\t<tr><th scope=row>5</th><td>0.747</td><td>0.9427</td><td>0.8208</td><td>0.7778</td><td>0.007014467</td><td>2.069484</td></tr>\n",
       "</tbody>\n",
       "</table>\n"
      ],
      "text/latex": [
       "A data.frame: 5 × 6\n",
       "\\begin{tabular}{r|llllll}\n",
       "  & Accuracy & Specificity & Precision & Sensitivity & Bias & Variance\\\\\n",
       "  & <dbl> & <dbl> & <dbl> & <dbl> & <dbl> & <dbl>\\\\\n",
       "\\hline\n",
       "\t1 & 0.747 & 0.9536 & 0.8742 & 0.8942 & 0.007014467 & 2.069484\\\\\n",
       "\t2 & 0.747 & 0.9184 & 0.7387 & 0.7277 & 0.007014467 & 2.069484\\\\\n",
       "\t3 & 0.747 & 0.9181 & 0.6658 & 0.6361 & 0.007014467 & 2.069484\\\\\n",
       "\t4 & 0.747 & 0.8839 & 0.6222 & 0.6763 & 0.007014467 & 2.069484\\\\\n",
       "\t5 & 0.747 & 0.9427 & 0.8208 & 0.7778 & 0.007014467 & 2.069484\\\\\n",
       "\\end{tabular}\n"
      ],
      "text/markdown": [
       "\n",
       "A data.frame: 5 × 6\n",
       "\n",
       "| <!--/--> | Accuracy &lt;dbl&gt; | Specificity &lt;dbl&gt; | Precision &lt;dbl&gt; | Sensitivity &lt;dbl&gt; | Bias &lt;dbl&gt; | Variance &lt;dbl&gt; |\n",
       "|---|---|---|---|---|---|---|\n",
       "| 1 | 0.747 | 0.9536 | 0.8742 | 0.8942 | 0.007014467 | 2.069484 |\n",
       "| 2 | 0.747 | 0.9184 | 0.7387 | 0.7277 | 0.007014467 | 2.069484 |\n",
       "| 3 | 0.747 | 0.9181 | 0.6658 | 0.6361 | 0.007014467 | 2.069484 |\n",
       "| 4 | 0.747 | 0.8839 | 0.6222 | 0.6763 | 0.007014467 | 2.069484 |\n",
       "| 5 | 0.747 | 0.9427 | 0.8208 | 0.7778 | 0.007014467 | 2.069484 |\n",
       "\n"
      ],
      "text/plain": [
       "  Accuracy Specificity Precision Sensitivity Bias        Variance\n",
       "1 0.747    0.9536      0.8742    0.8942      0.007014467 2.069484\n",
       "2 0.747    0.9184      0.7387    0.7277      0.007014467 2.069484\n",
       "3 0.747    0.9181      0.6658    0.6361      0.007014467 2.069484\n",
       "4 0.747    0.8839      0.6222    0.6763      0.007014467 2.069484\n",
       "5 0.747    0.9427      0.8208    0.7778      0.007014467 2.069484"
      ]
     },
     "metadata": {},
     "output_type": "display_data"
    }
   ],
   "source": [
    "stats <- ml_test(svm.pred, test.Y$Pos, output.as.table = FALSE)\n",
    "svm.results <- data.frame(\n",
    "    Accuracy = round(rep(stats$accuracy, 5),4),\n",
    "    Specificity = round(stats$specificity,4),\n",
    "    Precision = round(stats$precision,4),\n",
    "    Sensitivity = round(stats$recall,4),\n",
    "    Bias = rep(mean(abs(as.integer(population.pred) - as.integer(svm.pred))), 5),\n",
    "    Variance = rep(var(as.integer(population.pred), as.integer(svm.pred)), 5)\n",
    ")\n",
    "message(\"Accuracy: \", round(stats$accuracy,4)*100, \"%\\n\")\n",
    "svm.results"
   ]
  },
  {
   "cell_type": "markdown",
   "metadata": {},
   "source": [
    "## Results"
   ]
  },
  {
   "cell_type": "markdown",
   "metadata": {},
   "source": [
    "For this data KNN (k=7) shows the best results, but generally I think there are possible cases, where other models will lead. Anyways I am glad to get such results, since after running ANOVA in my EDA I was afraid to only one prediction into the model. Also I would like to mention that somehow my LOGIT has Bias = 0. Logit is not very flexible model, so it tends to have high bias, but what happened here - I have no idea, but I like it <3\n",
    "\n",
    "Since the accuracies are close, so the variances.\n",
    "\n",
    "There is no reason to commend Specificity and Sensitivity since my classes are not ordered, and I am not afraid to get prediction of +- 1 class. Besides, many players switch positions from season to season. So errors here are not crucial, it is not some heart decease data."
   ]
  },
  {
   "cell_type": "code",
   "execution_count": 112,
   "metadata": {
    "vscode": {
     "languageId": "r"
    }
   },
   "outputs": [
    {
     "data": {
      "text/html": [
       "<table class=\"dataframe\">\n",
       "<caption>A data.frame: 4 × 4</caption>\n",
       "<thead>\n",
       "\t<tr><th scope=col>Model</th><th scope=col>Accuracy</th><th scope=col>Bias</th><th scope=col>Variance</th></tr>\n",
       "\t<tr><th scope=col>&lt;chr&gt;</th><th scope=col>&lt;dbl&gt;</th><th scope=col>&lt;dbl&gt;</th><th scope=col>&lt;dbl&gt;</th></tr>\n",
       "</thead>\n",
       "<tbody>\n",
       "\t<tr><td>Logit        </td><td>0.7488</td><td>0.000000000</td><td>2.064605</td></tr>\n",
       "\t<tr><td>KNN          </td><td>0.7606</td><td>0.087680842</td><td>2.017317</td></tr>\n",
       "\t<tr><td>Decision Tree</td><td>0.7387</td><td>0.136343709</td><td>1.983488</td></tr>\n",
       "\t<tr><td>SVM          </td><td>0.7470</td><td>0.007014467</td><td>2.069484</td></tr>\n",
       "</tbody>\n",
       "</table>\n"
      ],
      "text/latex": [
       "A data.frame: 4 × 4\n",
       "\\begin{tabular}{llll}\n",
       " Model & Accuracy & Bias & Variance\\\\\n",
       " <chr> & <dbl> & <dbl> & <dbl>\\\\\n",
       "\\hline\n",
       "\t Logit         & 0.7488 & 0.000000000 & 2.064605\\\\\n",
       "\t KNN           & 0.7606 & 0.087680842 & 2.017317\\\\\n",
       "\t Decision Tree & 0.7387 & 0.136343709 & 1.983488\\\\\n",
       "\t SVM           & 0.7470 & 0.007014467 & 2.069484\\\\\n",
       "\\end{tabular}\n"
      ],
      "text/markdown": [
       "\n",
       "A data.frame: 4 × 4\n",
       "\n",
       "| Model &lt;chr&gt; | Accuracy &lt;dbl&gt; | Bias &lt;dbl&gt; | Variance &lt;dbl&gt; |\n",
       "|---|---|---|---|\n",
       "| Logit         | 0.7488 | 0.000000000 | 2.064605 |\n",
       "| KNN           | 0.7606 | 0.087680842 | 2.017317 |\n",
       "| Decision Tree | 0.7387 | 0.136343709 | 1.983488 |\n",
       "| SVM           | 0.7470 | 0.007014467 | 2.069484 |\n",
       "\n"
      ],
      "text/plain": [
       "  Model         Accuracy Bias        Variance\n",
       "1 Logit         0.7488   0.000000000 2.064605\n",
       "2 KNN           0.7606   0.087680842 2.017317\n",
       "3 Decision Tree 0.7387   0.136343709 1.983488\n",
       "4 SVM           0.7470   0.007014467 2.069484"
      ]
     },
     "metadata": {},
     "output_type": "display_data"
    }
   ],
   "source": [
    "results <- data.frame(\n",
    "    Model = c(\"Logit\", \"KNN\", \"Decision Tree\", \"SVM\"),\n",
    "    Accuracy = c(logit.results$Accuracy[1], knn.results$Accuracy[1], tree.results$Accuracy[1], svm.results$Accuracy[1]),\n",
    "    Bias = c(logit.results$Bias[1], knn.results$Bias[1], tree.results$Bias[1], svm.results$Bias[1]),\n",
    "    Variance = c(logit.results$Variance[1], knn.results$Variance[1], tree.results$Variance[1], svm.results$Variance[1])\n",
    ")\n",
    "results"
   ]
  }
 ],
 "metadata": {
  "kernelspec": {
   "display_name": "R",
   "language": "R",
   "name": "ir"
  },
  "language_info": {
   "codemirror_mode": "r",
   "file_extension": ".r",
   "mimetype": "text/x-r-source",
   "name": "R",
   "pygments_lexer": "r",
   "version": "4.2.1"
  },
  "orig_nbformat": 4
 },
 "nbformat": 4,
 "nbformat_minor": 2
}
