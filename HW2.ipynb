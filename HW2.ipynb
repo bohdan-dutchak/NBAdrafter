{
 "cells": [
  {
   "cell_type": "markdown",
   "metadata": {},
   "source": [
    "# HW2"
   ]
  },
  {
   "cell_type": "markdown",
   "metadata": {},
   "source": [
    "Hide Assignment Information\n",
    "Instructions\n",
    "This assignment is worth 100 points, which is 25% of the overall course grade, This assignment is to be completed individually. Please consult the course syllabus for a description of our academic honesty policy. \n",
    "\n",
    "Pick any 3 of the following Ensemble Techniques below and compare the results with  homework-1\n",
    "* CrossValidation,\n",
    "* Leave One out Cross Validation\n",
    "* Bagging\n",
    "* RandomForest\n",
    "* Boosting\n",
    "* Stacking\n",
    "Lastly, determine Variance and bias and compare, Submit a report and also include what does cross validation do to bias and variance?"
   ]
  },
  {
   "cell_type": "code",
   "execution_count": 36,
   "metadata": {
    "vscode": {
     "languageId": "r"
    }
   },
   "outputs": [
    {
     "name": "stderr",
     "output_type": "stream",
     "text": [
      "Type 'citation(\"pROC\")' for a citation.\n",
      "\n",
      "\n",
      "Attaching package: 'pROC'\n",
      "\n",
      "\n",
      "The following object is masked from 'package:Metrics':\n",
      "\n",
      "    auc\n",
      "\n",
      "\n",
      "The following objects are masked from 'package:stats':\n",
      "\n",
      "    cov, smooth, var\n",
      "\n",
      "\n"
     ]
    }
   ],
   "source": [
    "library(mltest)\n",
    "library(dplyr)  \n",
    "library(e1071)   \n",
    "library(caret)     \n",
    "library(rpart)       \n",
    "library(ipred)       \n",
    "library(tidyverse)\n",
    "library(randomForest)\n",
    "library(Metrics)\n",
    "library(ggplot2)\n",
    "library(cvms)"
   ]
  },
  {
   "cell_type": "code",
   "execution_count": 37,
   "metadata": {
    "vscode": {
     "languageId": "r"
    }
   },
   "outputs": [
    {
     "data": {
      "text/html": [
       "<table class=\"dataframe\">\n",
       "<caption>A data.frame: 6 × 7</caption>\n",
       "<thead>\n",
       "\t<tr><th></th><th scope=col>Pos</th><th scope=col>Ht</th><th scope=col>Wt</th><th scope=col>AST</th><th scope=col>X3PA</th><th scope=col>ORB</th><th scope=col>BLK</th></tr>\n",
       "\t<tr><th></th><th scope=col>&lt;fct&gt;</th><th scope=col>&lt;int&gt;</th><th scope=col>&lt;int&gt;</th><th scope=col>&lt;dbl&gt;</th><th scope=col>&lt;dbl&gt;</th><th scope=col>&lt;dbl&gt;</th><th scope=col>&lt;dbl&gt;</th></tr>\n",
       "</thead>\n",
       "<tbody>\n",
       "\t<tr><th scope=row>1</th><td>2</td><td>198</td><td> 93</td><td>1.7</td><td>5.5</td><td>1.2</td><td>0.2</td></tr>\n",
       "\t<tr><th scope=row>2</th><td>2</td><td>193</td><td> 88</td><td>2.4</td><td>2.5</td><td>0.6</td><td>0.1</td></tr>\n",
       "\t<tr><th scope=row>3</th><td>3</td><td>198</td><td> 95</td><td>1.1</td><td>0.8</td><td>0.7</td><td>0.1</td></tr>\n",
       "\t<tr><th scope=row>4</th><td>1</td><td>185</td><td> 86</td><td>1.2</td><td>0.9</td><td>0.8</td><td>0.1</td></tr>\n",
       "\t<tr><th scope=row>5</th><td>5</td><td>216</td><td>110</td><td>3.0</td><td>0.3</td><td>2.1</td><td>1.3</td></tr>\n",
       "\t<tr><th scope=row>6</th><td>4</td><td>206</td><td>104</td><td>0.4</td><td>0.0</td><td>1.3</td><td>0.3</td></tr>\n",
       "</tbody>\n",
       "</table>\n"
      ],
      "text/latex": [
       "A data.frame: 6 × 7\n",
       "\\begin{tabular}{r|lllllll}\n",
       "  & Pos & Ht & Wt & AST & X3PA & ORB & BLK\\\\\n",
       "  & <fct> & <int> & <int> & <dbl> & <dbl> & <dbl> & <dbl>\\\\\n",
       "\\hline\n",
       "\t1 & 2 & 198 &  93 & 1.7 & 5.5 & 1.2 & 0.2\\\\\n",
       "\t2 & 2 & 193 &  88 & 2.4 & 2.5 & 0.6 & 0.1\\\\\n",
       "\t3 & 3 & 198 &  95 & 1.1 & 0.8 & 0.7 & 0.1\\\\\n",
       "\t4 & 1 & 185 &  86 & 1.2 & 0.9 & 0.8 & 0.1\\\\\n",
       "\t5 & 5 & 216 & 110 & 3.0 & 0.3 & 2.1 & 1.3\\\\\n",
       "\t6 & 4 & 206 & 104 & 0.4 & 0.0 & 1.3 & 0.3\\\\\n",
       "\\end{tabular}\n"
      ],
      "text/markdown": [
       "\n",
       "A data.frame: 6 × 7\n",
       "\n",
       "| <!--/--> | Pos &lt;fct&gt; | Ht &lt;int&gt; | Wt &lt;int&gt; | AST &lt;dbl&gt; | X3PA &lt;dbl&gt; | ORB &lt;dbl&gt; | BLK &lt;dbl&gt; |\n",
       "|---|---|---|---|---|---|---|---|\n",
       "| 1 | 2 | 198 |  93 | 1.7 | 5.5 | 1.2 | 0.2 |\n",
       "| 2 | 2 | 193 |  88 | 2.4 | 2.5 | 0.6 | 0.1 |\n",
       "| 3 | 3 | 198 |  95 | 1.1 | 0.8 | 0.7 | 0.1 |\n",
       "| 4 | 1 | 185 |  86 | 1.2 | 0.9 | 0.8 | 0.1 |\n",
       "| 5 | 5 | 216 | 110 | 3.0 | 0.3 | 2.1 | 1.3 |\n",
       "| 6 | 4 | 206 | 104 | 0.4 | 0.0 | 1.3 | 0.3 |\n",
       "\n"
      ],
      "text/plain": [
       "  Pos Ht  Wt  AST X3PA ORB BLK\n",
       "1 2   198  93 1.7 5.5  1.2 0.2\n",
       "2 2   193  88 2.4 2.5  0.6 0.1\n",
       "3 3   198  95 1.1 0.8  0.7 0.1\n",
       "4 1   185  86 1.2 0.9  0.8 0.1\n",
       "5 5   216 110 3.0 0.3  2.1 1.3\n",
       "6 4   206 104 0.4 0.0  1.3 0.3"
      ]
     },
     "metadata": {},
     "output_type": "display_data"
    }
   ],
   "source": [
    "options(warn = -1)\n",
    "data <- read.csv(\"data/all_seasons.csv\")\n",
    "data$Pos <- replace(data$Pos, data$Pos=='C', 5)\n",
    "data$Pos <- replace(data$Pos, data$Pos=='PF', 4)\n",
    "data$Pos <- replace(data$Pos, data$Pos=='SF', 3)\n",
    "data$Pos <- replace(data$Pos, data$Pos=='SG', 2)\n",
    "data$Pos <- replace(data$Pos, data$Pos=='PG', 1)\n",
    "data$Pos <- as.factor(data$Pos)\n",
    "\n",
    "data <- data[,c('Pos','Ht','Wt','AST','X3PA','ORB','BLK')]\n",
    "\n",
    "head(data)\n",
    "set.seed(1)"
   ]
  },
  {
   "cell_type": "code",
   "execution_count": 25,
   "metadata": {
    "vscode": {
     "languageId": "r"
    }
   },
   "outputs": [],
   "source": [
    "sample <- sample(c(TRUE, FALSE), nrow(data), replace=TRUE, prob=c(0.8,0.2))\n",
    "train <- data[sample, ]\n",
    "test <- data[!sample, ]\n",
    "\n",
    "test.X <- test[2:7]\n",
    "test.Y <- test[1]\n",
    "\n",
    "train.X<-train[2:7]\n",
    "train.Y<-train[1]"
   ]
  },
  {
   "cell_type": "markdown",
   "metadata": {},
   "source": [
    "I decided not no choose LOOCV, since in has extremely large computation complexity and time, but I still wanted to run cross-validation, so I chose lighter model - k-fold cross validation. It has smaller complexity and computing time. But unfortunately I didn't get how to compute it's bias and variance. The `train()` method doesn't allow to get predicted values, it only shows the results. Speaking about them, they are not great. For some reasons my Decision Tree from HW1 had accuracy of 74%, but cross-validation returns avg of 72%.\n",
    "\n",
    "I didn't manage to finish 8th chapter of ISLR, but I learned something, that is why I chose Random Forest and Bagging method.\n",
    "\n",
    "In theory cross validation fits different combinations of training and testing data samples and looking for the one with the smallest testing error. The smallest error means the best bias/variance trade-off, so the certain random training data sample has the smallest observed bias and the biggest observed variance. So that model is as far as possible from overfitting and underfitting."
   ]
  },
  {
   "cell_type": "markdown",
   "metadata": {},
   "source": [
    "## Cross validation"
   ]
  },
  {
   "cell_type": "code",
   "execution_count": 27,
   "metadata": {
    "vscode": {
     "languageId": "r"
    }
   },
   "outputs": [
    {
     "name": "stdout",
     "output_type": "stream",
     "text": [
      "Conditional Inference Tree \n",
      "\n",
      "11071 samples\n",
      "    6 predictor\n",
      "    5 classes: '1', '2', '3', '4', '5' \n",
      "\n",
      "No pre-processing\n",
      "Resampling: Cross-Validated (20 fold) \n",
      "Summary of sample sizes: 10516, 10516, 10518, 10518, 10518, 10519, ... \n",
      "Resampling results across tuning parameters:\n",
      "\n",
      "  mincriterion  Accuracy   Kappa    \n",
      "  0.01          0.7221590  0.6526188\n",
      "  0.50          0.7238775  0.6547875\n",
      "  0.99          0.7174617  0.6465943\n",
      "\n",
      "Accuracy was used to select the optimal model using the largest value.\n",
      "The final value used for the model was mincriterion = 0.5.\n"
     ]
    }
   ],
   "source": [
    "train.control <- trainControl(method = \"cv\", number=20, p=0.8)\n",
    "model <- train(Pos ~., data = data, method = \"ctree\",trControl = train.control)\n",
    "print(model)"
   ]
  },
  {
   "cell_type": "markdown",
   "metadata": {},
   "source": [
    "I can't say anything about bias and variance of this method. I only assume, it has worse trade-off, since it's accuracy is worse than the Decision Tree from my HW1. Honestly I don't get why. I set the same parameters of sample etc."
   ]
  },
  {
   "cell_type": "markdown",
   "metadata": {},
   "source": [
    "## Random Forest"
   ]
  },
  {
   "cell_type": "code",
   "execution_count": 28,
   "metadata": {
    "vscode": {
     "languageId": "r"
    }
   },
   "outputs": [],
   "source": [
    "rf.fit <- randomForest(x = train.X, y = train$Pos, ntree = 222)\n",
    "population.rf <- randomForest(x = data[2:7], y = data$Pos, ntree = 222)\n",
    "\n",
    "rf.pred <- predict(rf.fit, newdata = test.X)\n",
    "population.pred <- predict(population.rf, newdata = test.X)"
   ]
  },
  {
   "cell_type": "code",
   "execution_count": 31,
   "metadata": {
    "vscode": {
     "languageId": "r"
    }
   },
   "outputs": [
    {
     "data": {
      "image/png": "[encoded data removed]",
      "text/plain": [
       "plot without title"
      ]
     },
     "metadata": {
      "image/png": {
       "height": 420,
       "width": 420
      }
     },
     "output_type": "display_data"
    }
   ],
   "source": [
    "plot_confusion_matrix(confusion_matrix(targets=test.Y$Pos, prediction=rf.pred))"
   ]
  },
  {
   "cell_type": "code",
   "execution_count": 33,
   "metadata": {
    "vscode": {
     "languageId": "r"
    }
   },
   "outputs": [
    {
     "data": {
      "image/png": "[encoded data removed]",
      "text/plain": [
       "Plot with title \"rf.fit\""
      ]
     },
     "metadata": {
      "image/png": {
       "height": 420,
       "width": 420
      }
     },
     "output_type": "display_data"
    }
   ],
   "source": [
    "plot(rf.fit)"
   ]
  },
  {
   "cell_type": "code",
   "execution_count": 23,
   "metadata": {
    "vscode": {
     "languageId": "r"
    }
   },
   "outputs": [
    {
     "data": {
      "image/png": "[encoded data removed]",
      "text/plain": [
       "Plot with title \"rf.fit\""
      ]
     },
     "metadata": {
      "image/png": {
       "height": 420,
       "width": 420
      }
     },
     "output_type": "display_data"
    }
   ],
   "source": [
    "varImpPlot(rf.fit)"
   ]
  },
  {
   "cell_type": "code",
   "execution_count": 32,
   "metadata": {
    "vscode": {
     "languageId": "r"
    }
   },
   "outputs": [
    {
     "data": {
      "text/html": [
       "<table class=\"dataframe\">\n",
       "<caption>A data.frame: 1 × 3</caption>\n",
       "<thead>\n",
       "\t<tr><th scope=col>Accuracy</th><th scope=col>Bias</th><th scope=col>Variance</th></tr>\n",
       "\t<tr><th scope=col>&lt;dbl&gt;</th><th scope=col>&lt;dbl&gt;</th><th scope=col>&lt;dbl&gt;</th></tr>\n",
       "</thead>\n",
       "<tbody>\n",
       "\t<tr><td>0.7637001</td><td>0.2349847</td><td>1.959283</td></tr>\n",
       "</tbody>\n",
       "</table>\n"
      ],
      "text/latex": [
       "A data.frame: 1 × 3\n",
       "\\begin{tabular}{lll}\n",
       " Accuracy & Bias & Variance\\\\\n",
       " <dbl> & <dbl> & <dbl>\\\\\n",
       "\\hline\n",
       "\t 0.7637001 & 0.2349847 & 1.959283\\\\\n",
       "\\end{tabular}\n"
      ],
      "text/markdown": [
       "\n",
       "A data.frame: 1 × 3\n",
       "\n",
       "| Accuracy &lt;dbl&gt; | Bias &lt;dbl&gt; | Variance &lt;dbl&gt; |\n",
       "|---|---|---|\n",
       "| 0.7637001 | 0.2349847 | 1.959283 |\n",
       "\n"
      ],
      "text/plain": [
       "  Accuracy  Bias      Variance\n",
       "1 0.7637001 0.2349847 1.959283"
      ]
     },
     "metadata": {},
     "output_type": "display_data"
    }
   ],
   "source": [
    "stats <- ml_test(rf.pred, test.Y$Pos, output.as.table=FALSE)\n",
    "rf.results <- data.frame(\n",
    "    Accuracy = stats$accuracy,\n",
    "    Bias = mean(abs(as.integer(population.pred) - as.integer(rf.pred))),\n",
    "    Variance = var(as.integer(population.pred), as.integer(rf.pred))\n",
    ")\n",
    "rf.results"
   ]
  },
  {
   "cell_type": "markdown",
   "metadata": {},
   "source": [
    "This model very good results. The highest accuracy, with relatively low computation time. Since Random forest is more flexible version of Decision Tree, it obvious why Variance is high, but I expected smaller bias. Probably the problem is with my data.\n",
    "\n",
    "Also I would like to notice, that feature importance for Random forest completely corresponds to the one, ANOVA predicted. Very nice!"
   ]
  },
  {
   "cell_type": "markdown",
   "metadata": {},
   "source": [
    "## Bagging"
   ]
  },
  {
   "cell_type": "code",
   "execution_count": 11,
   "metadata": {
    "vscode": {
     "languageId": "r"
    }
   },
   "outputs": [
    {
     "data": {
      "text/plain": [
       "\n",
       "Bagging classification trees with 150 bootstrap replications \n",
       "\n",
       "Call: bagging.data.frame(formula = Pos ~ ., data = train, nbagg = 150, \n",
       "    coob = TRUE, control = rpart.control(minsplit = 2, cp = 0))\n",
       "\n",
       "Out-of-bag estimate of misclassification error:  0.2511 \n"
      ]
     },
     "metadata": {},
     "output_type": "display_data"
    }
   ],
   "source": [
    "bag.fit <- bagging(formula = Pos ~ ., data = train, nbagg = 150, coob = TRUE,\n",
    "  control = rpart.control(minsplit = 2, cp = 0)\n",
    ")\n",
    "population.bag <- bagging(formula = Pos ~ ., data = data, nbagg = 150, coob = TRUE,\n",
    "  control = rpart.control(minsplit = 2, cp = 0)\n",
    ")\n",
    "\n",
    "bag.pred <- predict(bag.fit, newdata = test.X)\n",
    "population.pred <- predict(population.bag, newdata = test.X)\n",
    "\n",
    "bag.fit"
   ]
  },
  {
   "cell_type": "code",
   "execution_count": 12,
   "metadata": {
    "vscode": {
     "languageId": "r"
    }
   },
   "outputs": [
    {
     "name": "stderr",
     "output_type": "stream",
     "text": [
      "Warning message in plot_confusion_matrix(confusion_matrix(targets = test.Y$Pos, :\n",
      "\"'ggimage' is missing. Will not plot arrows and zero-shading.\"\n",
      "Warning message in plot_confusion_matrix(confusion_matrix(targets = test.Y$Pos, :\n",
      "\"'rsvg' is missing. Will not plot arrows and zero-shading.\"\n"
     ]
    },
    {
     "data": {
      "image/png": "[encoded data removed]",
      "text/plain": [
       "plot without title"
      ]
     },
     "metadata": {
      "image/png": {
       "height": 420,
       "width": 420
      }
     },
     "output_type": "display_data"
    }
   ],
   "source": [
    "plot_confusion_matrix(confusion_matrix(targets=test.Y$Pos, prediction=bag.pred))"
   ]
  },
  {
   "cell_type": "code",
   "execution_count": 35,
   "metadata": {
    "vscode": {
     "languageId": "r"
    }
   },
   "outputs": [
    {
     "data": {
      "image/png": "[encoded data removed]",
      "text/plain": [
       "plot without title"
      ]
     },
     "metadata": {
      "image/png": {
       "height": 420,
       "width": 420
      }
     },
     "output_type": "display_data"
    }
   ],
   "source": [
    "VI <- data.frame(var=names(data[,-1]), imp=varImp(bag.fit))\n",
    "VI_plot <- VI[order(VI$Overall, decreasing=TRUE),]\n",
    "barplot(VI_plot$Overall,\n",
    "        names.arg=rownames(VI_plot),\n",
    "        horiz=TRUE,\n",
    "        col='steelblue',\n",
    "        xlab='Variable Importance')"
   ]
  },
  {
   "cell_type": "code",
   "execution_count": 13,
   "metadata": {
    "vscode": {
     "languageId": "r"
    }
   },
   "outputs": [
    {
     "data": {
      "text/html": [
       "<table class=\"dataframe\">\n",
       "<caption>A data.frame: 1 × 3</caption>\n",
       "<thead>\n",
       "\t<tr><th scope=col>Accuracy</th><th scope=col>Bias</th><th scope=col>Variance</th></tr>\n",
       "\t<tr><th scope=col>&lt;dbl&gt;</th><th scope=col>&lt;dbl&gt;</th><th scope=col>&lt;dbl&gt;</th></tr>\n",
       "</thead>\n",
       "<tbody>\n",
       "\t<tr><td>0.7571241</td><td>0.2446295</td><td>1.964047</td></tr>\n",
       "</tbody>\n",
       "</table>\n"
      ],
      "text/latex": [
       "A data.frame: 1 × 3\n",
       "\\begin{tabular}{lll}\n",
       " Accuracy & Bias & Variance\\\\\n",
       " <dbl> & <dbl> & <dbl>\\\\\n",
       "\\hline\n",
       "\t 0.7571241 & 0.2446295 & 1.964047\\\\\n",
       "\\end{tabular}\n"
      ],
      "text/markdown": [
       "\n",
       "A data.frame: 1 × 3\n",
       "\n",
       "| Accuracy &lt;dbl&gt; | Bias &lt;dbl&gt; | Variance &lt;dbl&gt; |\n",
       "|---|---|---|\n",
       "| 0.7571241 | 0.2446295 | 1.964047 |\n",
       "\n"
      ],
      "text/plain": [
       "  Accuracy  Bias      Variance\n",
       "1 0.7571241 0.2446295 1.964047"
      ]
     },
     "metadata": {},
     "output_type": "display_data"
    }
   ],
   "source": [
    "stats <- ml_test(bag.pred, test.Y$Pos, output.as.table=FALSE)\n",
    "bag.results <- data.frame(\n",
    "    Accuracy = stats$accuracy,\n",
    "    Bias = mean(abs(as.integer(population.pred) - as.integer(bag.pred))),\n",
    "    Variance = var(as.integer(population.pred), as.integer(bag.pred))\n",
    ")\n",
    "bag.results"
   ]
  },
  {
   "cell_type": "markdown",
   "metadata": {},
   "source": [
    "Bagging showed good results, but here, as with the RF, I am surprissed with big bias. Also the feature importance is similar to the one's ANOVA predicted."
   ]
  }
 ],
 "metadata": {
  "kernelspec": {
   "display_name": "R",
   "language": "R",
   "name": "ir"
  },
  "language_info": {
   "codemirror_mode": "r",
   "file_extension": ".r",
   "mimetype": "text/x-r-source",
   "name": "R",
   "pygments_lexer": "r",
   "version": "4.2.1"
  },
  "orig_nbformat": 4
 },
 "nbformat": 4,
 "nbformat_minor": 2
}
