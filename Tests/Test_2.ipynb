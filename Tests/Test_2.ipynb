{
 "cells": [
  {
   "cell_type": "markdown",
   "metadata": {},
   "source": [
    "# Test 2"
   ]
  },
  {
   "cell_type": "markdown",
   "metadata": {},
   "source": [
    "1) Assume, you ran a classification exercise and you determined the\n",
    "accuracy over training set to be TE, and the accuracy on test set to be ET. Under what condition\n",
    "\n",
    "will you use boosting to improve the performance?\n",
    "\n",
    "will you use bagging to improve the performance? 40 minutes\n",
    "\n",
    "\n",
    "2) How is bagging different from cross validation? 20 minutes\n",
    "\n",
    "\n",
    "3) Repeat bagging and CV over heart, ecoli, and icu datasets and generate\n",
    "a performance (accuracy, AUC) matrix by class. (4 Hours)"
   ]
  },
  {
   "cell_type": "markdown",
   "metadata": {},
   "source": [
    "## Question 1"
   ]
  },
  {
   "cell_type": "markdown",
   "metadata": {},
   "source": [
    "The Bagging and Boosting ensemble methods fixes different problems of the same domain. Imagine We have a model, that has very high accuracy on the training dataset, but fitting the data, it was not trained on returns poor accuracy. Verdict: model is overfitted, so it has very high variance. Overfitting can happen because of fitting a lot of features, that have no significant impact on the resulting value. So the model finds some random patterns in this data, that actually are just noise and define no tendency. In this case We should use Bagging. It is useful for unstable models. It splits dataset into m subsets of n observations with repetitions (so one observation can happen more than once in one sample), fits m different models and estimates their accuracy on the same testing dataset. This process repeats a few times and as a result, bagging returns the best model.\n",
    "\n",
    "Another scenario is when we fit a model, that has low both TE and ET. Perhaps we chose not enough features, or we use highly linear model, such as OLS on non-linear data. In this case we should use Boosting. It will also train m models, but the difference is every wrongly predicted observation will be fitted again and again. After the process, method chooses the best model and returns it."
   ]
  },
  {
   "cell_type": "markdown",
   "metadata": {},
   "source": [
    "## Question 2"
   ]
  },
  {
   "cell_type": "markdown",
   "metadata": {},
   "source": [
    "First of all Bagging is an ensemble model, that can apply changes on your model (particularly decreasing variance, preventing overfitting). We use it when improving flexible models.\n",
    "\n",
    "Cross validation is kind of evaluation method, that can be useful while fitting small datasets, or in case ob absence testing data. You can split dataset into training and testing samples with relation 80% to 20%, but it does not guarantee, that all the outliers didn't happen to be in testing sample. In this case test error will be huge. As an example I can provide data from our Test 1. We got only 36 observations and a lot of outliers, so changing the seed could have cause decreasing of accuracy up to 30%.\n",
    "\n",
    "So cross validation is just shuffling the training and testing data samples and provides insights about goodness of fit. While Bagging is a technique that improves the model."
   ]
  },
  {
   "cell_type": "markdown",
   "metadata": {},
   "source": [
    "## Question 3"
   ]
  },
  {
   "cell_type": "markdown",
   "metadata": {},
   "source": [
    "### Heart Data"
   ]
  },
  {
   "cell_type": "code",
   "execution_count": 154,
   "metadata": {
    "vscode": {
     "languageId": "r"
    }
   },
   "outputs": [],
   "source": [
    "library(mltest)\n",
    "library(dplyr)  \n",
    "library(e1071)   \n",
    "library(caret)     \n",
    "library(rpart)       \n",
    "library(ipred)       \n",
    "library(tidyverse)\n",
    "library(Metrics)\n",
    "library(ggplot2)\n",
    "library(cvms)\n",
    "library(ggcorrplot)\n",
    "library(GGally)\n",
    "library(pROC)"
   ]
  },
  {
   "cell_type": "code",
   "execution_count": 155,
   "metadata": {
    "vscode": {
     "languageId": "r"
    }
   },
   "outputs": [],
   "source": [
    "heart <- read.csv(\"data/heart.csv\")\n",
    "ecoli <- read.csv(\"data/ecoli.csv\")\n",
    "options(warn=-1)"
   ]
  },
  {
   "cell_type": "code",
   "execution_count": 156,
   "metadata": {
    "vscode": {
     "languageId": "r"
    }
   },
   "outputs": [
    {
     "data": {
      "text/html": [
       "<table class=\"dataframe\">\n",
       "<caption>A data.frame: 6 × 14</caption>\n",
       "<thead>\n",
       "\t<tr><th></th><th scope=col>age</th><th scope=col>sex</th><th scope=col>cp</th><th scope=col>trestbps</th><th scope=col>chol</th><th scope=col>fbs</th><th scope=col>restecg</th><th scope=col>thalach</th><th scope=col>exang</th><th scope=col>oldpeak</th><th scope=col>slope</th><th scope=col>ca</th><th scope=col>thal</th><th scope=col>target</th></tr>\n",
       "\t<tr><th></th><th scope=col>&lt;int&gt;</th><th scope=col>&lt;int&gt;</th><th scope=col>&lt;int&gt;</th><th scope=col>&lt;int&gt;</th><th scope=col>&lt;int&gt;</th><th scope=col>&lt;int&gt;</th><th scope=col>&lt;int&gt;</th><th scope=col>&lt;int&gt;</th><th scope=col>&lt;int&gt;</th><th scope=col>&lt;dbl&gt;</th><th scope=col>&lt;int&gt;</th><th scope=col>&lt;int&gt;</th><th scope=col>&lt;int&gt;</th><th scope=col>&lt;int&gt;</th></tr>\n",
       "</thead>\n",
       "<tbody>\n",
       "\t<tr><th scope=row>1</th><td>63</td><td>1</td><td>3</td><td>145</td><td>233</td><td>1</td><td>0</td><td>150</td><td>0</td><td>2.3</td><td>0</td><td>0</td><td>1</td><td>1</td></tr>\n",
       "\t<tr><th scope=row>2</th><td>37</td><td>1</td><td>2</td><td>130</td><td>250</td><td>0</td><td>1</td><td>187</td><td>0</td><td>3.5</td><td>0</td><td>0</td><td>2</td><td>1</td></tr>\n",
       "\t<tr><th scope=row>3</th><td>41</td><td>0</td><td>1</td><td>130</td><td>204</td><td>0</td><td>0</td><td>172</td><td>0</td><td>1.4</td><td>2</td><td>0</td><td>2</td><td>1</td></tr>\n",
       "\t<tr><th scope=row>4</th><td>56</td><td>1</td><td>1</td><td>120</td><td>236</td><td>0</td><td>1</td><td>178</td><td>0</td><td>0.8</td><td>2</td><td>0</td><td>2</td><td>1</td></tr>\n",
       "\t<tr><th scope=row>5</th><td>57</td><td>0</td><td>0</td><td>120</td><td>354</td><td>0</td><td>1</td><td>163</td><td>1</td><td>0.6</td><td>2</td><td>0</td><td>2</td><td>1</td></tr>\n",
       "\t<tr><th scope=row>6</th><td>57</td><td>1</td><td>0</td><td>140</td><td>192</td><td>0</td><td>1</td><td>148</td><td>0</td><td>0.4</td><td>1</td><td>0</td><td>1</td><td>1</td></tr>\n",
       "</tbody>\n",
       "</table>\n"
      ],
      "text/latex": [
       "A data.frame: 6 × 14\n",
       "\\begin{tabular}{r|llllllllllllll}\n",
       "  & age & sex & cp & trestbps & chol & fbs & restecg & thalach & exang & oldpeak & slope & ca & thal & target\\\\\n",
       "  & <int> & <int> & <int> & <int> & <int> & <int> & <int> & <int> & <int> & <dbl> & <int> & <int> & <int> & <int>\\\\\n",
       "\\hline\n",
       "\t1 & 63 & 1 & 3 & 145 & 233 & 1 & 0 & 150 & 0 & 2.3 & 0 & 0 & 1 & 1\\\\\n",
       "\t2 & 37 & 1 & 2 & 130 & 250 & 0 & 1 & 187 & 0 & 3.5 & 0 & 0 & 2 & 1\\\\\n",
       "\t3 & 41 & 0 & 1 & 130 & 204 & 0 & 0 & 172 & 0 & 1.4 & 2 & 0 & 2 & 1\\\\\n",
       "\t4 & 56 & 1 & 1 & 120 & 236 & 0 & 1 & 178 & 0 & 0.8 & 2 & 0 & 2 & 1\\\\\n",
       "\t5 & 57 & 0 & 0 & 120 & 354 & 0 & 1 & 163 & 1 & 0.6 & 2 & 0 & 2 & 1\\\\\n",
       "\t6 & 57 & 1 & 0 & 140 & 192 & 0 & 1 & 148 & 0 & 0.4 & 1 & 0 & 1 & 1\\\\\n",
       "\\end{tabular}\n"
      ],
      "text/markdown": [
       "\n",
       "A data.frame: 6 × 14\n",
       "\n",
       "| <!--/--> | age &lt;int&gt; | sex &lt;int&gt; | cp &lt;int&gt; | trestbps &lt;int&gt; | chol &lt;int&gt; | fbs &lt;int&gt; | restecg &lt;int&gt; | thalach &lt;int&gt; | exang &lt;int&gt; | oldpeak &lt;dbl&gt; | slope &lt;int&gt; | ca &lt;int&gt; | thal &lt;int&gt; | target &lt;int&gt; |\n",
       "|---|---|---|---|---|---|---|---|---|---|---|---|---|---|---|\n",
       "| 1 | 63 | 1 | 3 | 145 | 233 | 1 | 0 | 150 | 0 | 2.3 | 0 | 0 | 1 | 1 |\n",
       "| 2 | 37 | 1 | 2 | 130 | 250 | 0 | 1 | 187 | 0 | 3.5 | 0 | 0 | 2 | 1 |\n",
       "| 3 | 41 | 0 | 1 | 130 | 204 | 0 | 0 | 172 | 0 | 1.4 | 2 | 0 | 2 | 1 |\n",
       "| 4 | 56 | 1 | 1 | 120 | 236 | 0 | 1 | 178 | 0 | 0.8 | 2 | 0 | 2 | 1 |\n",
       "| 5 | 57 | 0 | 0 | 120 | 354 | 0 | 1 | 163 | 1 | 0.6 | 2 | 0 | 2 | 1 |\n",
       "| 6 | 57 | 1 | 0 | 140 | 192 | 0 | 1 | 148 | 0 | 0.4 | 1 | 0 | 1 | 1 |\n",
       "\n"
      ],
      "text/plain": [
       "  age sex cp trestbps chol fbs restecg thalach exang oldpeak slope ca thal\n",
       "1 63  1   3  145      233  1   0       150     0     2.3     0     0  1   \n",
       "2 37  1   2  130      250  0   1       187     0     3.5     0     0  2   \n",
       "3 41  0   1  130      204  0   0       172     0     1.4     2     0  2   \n",
       "4 56  1   1  120      236  0   1       178     0     0.8     2     0  2   \n",
       "5 57  0   0  120      354  0   1       163     1     0.6     2     0  2   \n",
       "6 57  1   0  140      192  0   1       148     0     0.4     1     0  1   \n",
       "  target\n",
       "1 1     \n",
       "2 1     \n",
       "3 1     \n",
       "4 1     \n",
       "5 1     \n",
       "6 1     "
      ]
     },
     "metadata": {},
     "output_type": "display_data"
    }
   ],
   "source": [
    "head(heart)\n",
    "heart$target <- as.factor(heart$target)"
   ]
  },
  {
   "cell_type": "code",
   "execution_count": 157,
   "metadata": {
    "vscode": {
     "languageId": "r"
    }
   },
   "outputs": [],
   "source": [
    "set.seed(1)\n",
    "sample <- sample(c(TRUE, FALSE), nrow(heart), replace=TRUE, prob=c(0.8,0.2))\n",
    "train <- heart[sample, ]\n",
    "test <- heart[!sample, ]\n",
    "\n",
    "test.X <- test[1:13]\n",
    "test.Y <- test[14]\n",
    "\n",
    "train.X<-train[1:13]\n",
    "train.Y<-train[14]"
   ]
  },
  {
   "cell_type": "code",
   "execution_count": 158,
   "metadata": {
    "vscode": {
     "languageId": "r"
    }
   },
   "outputs": [
    {
     "name": "stderr",
     "output_type": "stream",
     "text": [
      "Train Error is 13%\n",
      "\n",
      "Test Error is 27%\n",
      "\n"
     ]
    }
   ],
   "source": [
    "logit.fit <- glm(train$target ~ ., data=train, family = binomial)\n",
    "\n",
    "logit.train <- predict(logit.fit, train.X, type=\"response\")\n",
    "logit.train <- ifelse(test=logit.train>0.5, yes=1, no=0)\n",
    "\n",
    "logit.pred <- predict(logit.fit, test.X, type=\"response\")\n",
    "logit.pred <- ifelse(test=logit.pred>0.5, yes=1, no=0)\n",
    "\n",
    "message(\"Train Error is \", round(mean(logit.train != train.Y$target),2)*100, \"%\")\n",
    "message(\"Test Error is \", round(mean(logit.pred != test.Y$target),2)*100, \"%\")"
   ]
  },
  {
   "cell_type": "code",
   "execution_count": 159,
   "metadata": {
    "vscode": {
     "languageId": "r"
    }
   },
   "outputs": [
    {
     "name": "stderr",
     "output_type": "stream",
     "text": [
      "Setting levels: control = 0, case = 1\n",
      "\n",
      "Setting direction: controls < cases\n",
      "\n"
     ]
    },
    {
     "data": {
      "text/plain": [
       "\n",
       "Call:\n",
       "roc.default(response = test.Y$target, predictor = logit.pred,     plot = TRUE)\n",
       "\n",
       "Data: logit.pred in 23 controls (test.Y$target 0) < 26 cases (test.Y$target 1).\n",
       "Area under the curve: 0.7299"
      ]
     },
     "metadata": {},
     "output_type": "display_data"
    },
    {
     "name": "stderr",
     "output_type": "stream",
     "text": [
      "Setting levels: control = 0, case = 1\n",
      "\n",
      "Setting direction: controls < cases\n",
      "\n",
      "AUC: 0.729933110367893\n",
      "\n"
     ]
    },
    {
     "data": {
      "image/png": "[encoded data removed]",
      "text/plain": [
       "plot without title"
      ]
     },
     "metadata": {
      "image/png": {
       "height": 420,
       "width": 420
      }
     },
     "output_type": "display_data"
    }
   ],
   "source": [
    "roc(test.Y$target, logit.pred, plot=TRUE)\n",
    "message(\"AUC: \", auc(test.Y$target, logit.pred))"
   ]
  },
  {
   "cell_type": "code",
   "execution_count": 160,
   "metadata": {
    "vscode": {
     "languageId": "r"
    }
   },
   "outputs": [
    {
     "data": {
      "image/png": "[encoded data removed]",
      "text/plain": [
       "plot without title"
      ]
     },
     "metadata": {
      "image/png": {
       "height": 420,
       "width": 420
      }
     },
     "output_type": "display_data"
    }
   ],
   "source": [
    "plot_confusion_matrix(confusion_matrix(test.Y$target, logit.pred))"
   ]
  },
  {
   "cell_type": "code",
   "execution_count": 161,
   "metadata": {
    "vscode": {
     "languageId": "r"
    }
   },
   "outputs": [],
   "source": [
    "bag.fit <- bagging(formula = target ~ ., data = train, nbagg = 160, coob = TRUE,\n",
    "  control = rpart.control(minsplit = 2, cp = 0)\n",
    ")\n",
    "\n",
    "bag.pred <- predict(bag.fit, newdata = test.X)"
   ]
  },
  {
   "cell_type": "code",
   "execution_count": 162,
   "metadata": {
    "vscode": {
     "languageId": "r"
    }
   },
   "outputs": [
    {
     "data": {
      "text/html": [
       "<table class=\"dataframe\">\n",
       "<caption>A data.frame: 13 × 2</caption>\n",
       "<thead>\n",
       "\t<tr><th></th><th scope=col>var</th><th scope=col>Overall</th></tr>\n",
       "\t<tr><th></th><th scope=col>&lt;chr&gt;</th><th scope=col>&lt;dbl&gt;</th></tr>\n",
       "</thead>\n",
       "<tbody>\n",
       "\t<tr><th scope=row>oldpeak</th><td>thalach </td><td>59.299643</td></tr>\n",
       "\t<tr><th scope=row>thalach</th><td>thal    </td><td>56.635545</td></tr>\n",
       "\t<tr><th scope=row>cp</th><td>chol    </td><td>53.686558</td></tr>\n",
       "\t<tr><th scope=row>ca</th><td>cp      </td><td>52.204492</td></tr>\n",
       "\t<tr><th scope=row>thal</th><td>ca      </td><td>43.421150</td></tr>\n",
       "\t<tr><th scope=row>exang</th><td>fbs     </td><td>42.446108</td></tr>\n",
       "\t<tr><th scope=row>age</th><td>sex     </td><td>32.725445</td></tr>\n",
       "\t<tr><th scope=row>trestbps</th><td>target  </td><td>30.041658</td></tr>\n",
       "\t<tr><th scope=row>chol</th><td>trestbps</td><td>26.762765</td></tr>\n",
       "\t<tr><th scope=row>slope</th><td>slope   </td><td>17.193574</td></tr>\n",
       "\t<tr><th scope=row>sex</th><td>oldpeak </td><td>11.624455</td></tr>\n",
       "\t<tr><th scope=row>restecg</th><td>exang   </td><td> 8.878635</td></tr>\n",
       "\t<tr><th scope=row>fbs</th><td>restecg </td><td> 3.830745</td></tr>\n",
       "</tbody>\n",
       "</table>\n"
      ],
      "text/latex": [
       "A data.frame: 13 × 2\n",
       "\\begin{tabular}{r|ll}\n",
       "  & var & Overall\\\\\n",
       "  & <chr> & <dbl>\\\\\n",
       "\\hline\n",
       "\toldpeak & thalach  & 59.299643\\\\\n",
       "\tthalach & thal     & 56.635545\\\\\n",
       "\tcp & chol     & 53.686558\\\\\n",
       "\tca & cp       & 52.204492\\\\\n",
       "\tthal & ca       & 43.421150\\\\\n",
       "\texang & fbs      & 42.446108\\\\\n",
       "\tage & sex      & 32.725445\\\\\n",
       "\ttrestbps & target   & 30.041658\\\\\n",
       "\tchol & trestbps & 26.762765\\\\\n",
       "\tslope & slope    & 17.193574\\\\\n",
       "\tsex & oldpeak  & 11.624455\\\\\n",
       "\trestecg & exang    &  8.878635\\\\\n",
       "\tfbs & restecg  &  3.830745\\\\\n",
       "\\end{tabular}\n"
      ],
      "text/markdown": [
       "\n",
       "A data.frame: 13 × 2\n",
       "\n",
       "| <!--/--> | var &lt;chr&gt; | Overall &lt;dbl&gt; |\n",
       "|---|---|---|\n",
       "| oldpeak | thalach  | 59.299643 |\n",
       "| thalach | thal     | 56.635545 |\n",
       "| cp | chol     | 53.686558 |\n",
       "| ca | cp       | 52.204492 |\n",
       "| thal | ca       | 43.421150 |\n",
       "| exang | fbs      | 42.446108 |\n",
       "| age | sex      | 32.725445 |\n",
       "| trestbps | target   | 30.041658 |\n",
       "| chol | trestbps | 26.762765 |\n",
       "| slope | slope    | 17.193574 |\n",
       "| sex | oldpeak  | 11.624455 |\n",
       "| restecg | exang    |  8.878635 |\n",
       "| fbs | restecg  |  3.830745 |\n",
       "\n"
      ],
      "text/plain": [
       "         var      Overall  \n",
       "oldpeak  thalach  59.299643\n",
       "thalach  thal     56.635545\n",
       "cp       chol     53.686558\n",
       "ca       cp       52.204492\n",
       "thal     ca       43.421150\n",
       "exang    fbs      42.446108\n",
       "age      sex      32.725445\n",
       "trestbps target   30.041658\n",
       "chol     trestbps 26.762765\n",
       "slope    slope    17.193574\n",
       "sex      oldpeak  11.624455\n",
       "restecg  exang     8.878635\n",
       "fbs      restecg   3.830745"
      ]
     },
     "metadata": {},
     "output_type": "display_data"
    },
    {
     "data": {
      "image/png": "[encoded data removed]",
      "text/plain": [
       "plot without title"
      ]
     },
     "metadata": {
      "image/png": {
       "height": 420,
       "width": 420
      }
     },
     "output_type": "display_data"
    }
   ],
   "source": [
    "VI <- data.frame(var=names(heart[,-1]), imp=varImp(bag.fit))\n",
    "VI_plot <- VI[order(VI$Overall, decreasing=TRUE),]\n",
    "VI_plot\n",
    "barplot(VI_plot$Overall,\n",
    "        names.arg=rownames(VI_plot),\n",
    "        horiz=TRUE,\n",
    "        col='steelblue',\n",
    "        xlab='Variable Importance')"
   ]
  },
  {
   "cell_type": "code",
   "execution_count": 163,
   "metadata": {
    "vscode": {
     "languageId": "r"
    }
   },
   "outputs": [],
   "source": [
    "heart <- heart[,c(\"target\", \"oldpeak\", \"thalach\", \"cp\", \"ca\", \"thal\", \"exang\")]\n",
    "sample <- sample(c(TRUE, FALSE), nrow(heart), replace=TRUE, prob=c(0.8,0.2))\n",
    "train <- heart[sample, ]\n",
    "test <- heart[!sample, ]\n",
    "\n",
    "test.X <- test[2:7]\n",
    "test.Y <- test[1]\n",
    "\n",
    "train.X<-train[2:7]\n",
    "train.Y<-train[1]"
   ]
  },
  {
   "cell_type": "code",
   "execution_count": 164,
   "metadata": {
    "vscode": {
     "languageId": "r"
    }
   },
   "outputs": [
    {
     "name": "stderr",
     "output_type": "stream",
     "text": [
      "Train Error is 16%\n",
      "\n",
      "Test Error is 10%\n",
      "\n"
     ]
    }
   ],
   "source": [
    "logit.fit <- glm(train$target ~ ., data=train, family = binomial)\n",
    "\n",
    "logit.train <- predict(logit.fit, train.X, type=\"response\")\n",
    "logit.train <- ifelse(test=logit.train>0.5, yes=1, no=0)\n",
    "\n",
    "logit.pred <- predict(logit.fit, test.X, type=\"response\")\n",
    "logit.pred <- ifelse(test=logit.pred>0.5, yes=1, no=0)\n",
    "\n",
    "message(\"Train Error is \", round(mean(logit.train != train.Y$target),2)*100, \"%\")\n",
    "message(\"Test Error is \", round(mean(logit.pred != test.Y$target),2)*100, \"%\")"
   ]
  },
  {
   "cell_type": "code",
   "execution_count": 165,
   "metadata": {
    "vscode": {
     "languageId": "r"
    }
   },
   "outputs": [
    {
     "name": "stderr",
     "output_type": "stream",
     "text": [
      "Setting levels: control = 0, case = 1\n",
      "\n",
      "Setting direction: controls < cases\n",
      "\n"
     ]
    },
    {
     "data": {
      "text/plain": [
       "\n",
       "Call:\n",
       "roc.default(response = test.Y$target, predictor = logit.pred,     plot = TRUE)\n",
       "\n",
       "Data: logit.pred in 35 controls (test.Y$target 0) < 32 cases (test.Y$target 1).\n",
       "Area under the curve: 0.9"
      ]
     },
     "metadata": {},
     "output_type": "display_data"
    },
    {
     "name": "stderr",
     "output_type": "stream",
     "text": [
      "Setting levels: control = 0, case = 1\n",
      "\n",
      "Setting direction: controls < cases\n",
      "\n",
      "AUC: 0.9\n",
      "\n"
     ]
    },
    {
     "data": {
      "image/png": "[encoded data removed]",
      "text/plain": [
       "plot without title"
      ]
     },
     "metadata": {
      "image/png": {
       "height": 420,
       "width": 420
      }
     },
     "output_type": "display_data"
    }
   ],
   "source": [
    "roc(test.Y$target, logit.pred, plot=TRUE)\n",
    "message(\"AUC: \", auc(test.Y$target, logit.pred))"
   ]
  },
  {
   "cell_type": "code",
   "execution_count": 166,
   "metadata": {
    "vscode": {
     "languageId": "r"
    }
   },
   "outputs": [
    {
     "data": {
      "image/png": "[encoded data removed]",
      "text/plain": [
       "plot without title"
      ]
     },
     "metadata": {
      "image/png": {
       "height": 420,
       "width": 420
      }
     },
     "output_type": "display_data"
    }
   ],
   "source": [
    "plot_confusion_matrix(confusion_matrix(test.Y$target, logit.pred))"
   ]
  },
  {
   "cell_type": "markdown",
   "metadata": {},
   "source": [
    "### Ecoli Data"
   ]
  },
  {
   "cell_type": "code",
   "execution_count": 167,
   "metadata": {
    "vscode": {
     "languageId": "r"
    }
   },
   "outputs": [
    {
     "data": {
      "text/html": [
       "<table class=\"dataframe\">\n",
       "<caption>A data.frame: 6 × 8</caption>\n",
       "<thead>\n",
       "\t<tr><th></th><th scope=col>mcg</th><th scope=col>gvh</th><th scope=col>lip</th><th scope=col>chg</th><th scope=col>aac</th><th scope=col>alm1</th><th scope=col>alm2</th><th scope=col>class</th></tr>\n",
       "\t<tr><th></th><th scope=col>&lt;dbl&gt;</th><th scope=col>&lt;dbl&gt;</th><th scope=col>&lt;dbl&gt;</th><th scope=col>&lt;dbl&gt;</th><th scope=col>&lt;dbl&gt;</th><th scope=col>&lt;dbl&gt;</th><th scope=col>&lt;dbl&gt;</th><th scope=col>&lt;chr&gt;</th></tr>\n",
       "</thead>\n",
       "<tbody>\n",
       "\t<tr><th scope=row>1</th><td>0.07</td><td>0.40</td><td>0.48</td><td>0.5</td><td>0.54</td><td>0.35</td><td>0.44</td><td>cp</td></tr>\n",
       "\t<tr><th scope=row>2</th><td>0.56</td><td>0.40</td><td>0.48</td><td>0.5</td><td>0.49</td><td>0.37</td><td>0.46</td><td>cp</td></tr>\n",
       "\t<tr><th scope=row>3</th><td>0.59</td><td>0.49</td><td>0.48</td><td>0.5</td><td>0.52</td><td>0.45</td><td>0.36</td><td>cp</td></tr>\n",
       "\t<tr><th scope=row>4</th><td>0.23</td><td>0.32</td><td>0.48</td><td>0.5</td><td>0.55</td><td>0.25</td><td>0.35</td><td>cp</td></tr>\n",
       "\t<tr><th scope=row>5</th><td>0.67</td><td>0.39</td><td>0.48</td><td>0.5</td><td>0.36</td><td>0.38</td><td>0.46</td><td>cp</td></tr>\n",
       "\t<tr><th scope=row>6</th><td>0.29</td><td>0.28</td><td>0.48</td><td>0.5</td><td>0.44</td><td>0.23</td><td>0.34</td><td>cp</td></tr>\n",
       "</tbody>\n",
       "</table>\n"
      ],
      "text/latex": [
       "A data.frame: 6 × 8\n",
       "\\begin{tabular}{r|llllllll}\n",
       "  & mcg & gvh & lip & chg & aac & alm1 & alm2 & class\\\\\n",
       "  & <dbl> & <dbl> & <dbl> & <dbl> & <dbl> & <dbl> & <dbl> & <chr>\\\\\n",
       "\\hline\n",
       "\t1 & 0.07 & 0.40 & 0.48 & 0.5 & 0.54 & 0.35 & 0.44 & cp\\\\\n",
       "\t2 & 0.56 & 0.40 & 0.48 & 0.5 & 0.49 & 0.37 & 0.46 & cp\\\\\n",
       "\t3 & 0.59 & 0.49 & 0.48 & 0.5 & 0.52 & 0.45 & 0.36 & cp\\\\\n",
       "\t4 & 0.23 & 0.32 & 0.48 & 0.5 & 0.55 & 0.25 & 0.35 & cp\\\\\n",
       "\t5 & 0.67 & 0.39 & 0.48 & 0.5 & 0.36 & 0.38 & 0.46 & cp\\\\\n",
       "\t6 & 0.29 & 0.28 & 0.48 & 0.5 & 0.44 & 0.23 & 0.34 & cp\\\\\n",
       "\\end{tabular}\n"
      ],
      "text/markdown": [
       "\n",
       "A data.frame: 6 × 8\n",
       "\n",
       "| <!--/--> | mcg &lt;dbl&gt; | gvh &lt;dbl&gt; | lip &lt;dbl&gt; | chg &lt;dbl&gt; | aac &lt;dbl&gt; | alm1 &lt;dbl&gt; | alm2 &lt;dbl&gt; | class &lt;chr&gt; |\n",
       "|---|---|---|---|---|---|---|---|---|\n",
       "| 1 | 0.07 | 0.40 | 0.48 | 0.5 | 0.54 | 0.35 | 0.44 | cp |\n",
       "| 2 | 0.56 | 0.40 | 0.48 | 0.5 | 0.49 | 0.37 | 0.46 | cp |\n",
       "| 3 | 0.59 | 0.49 | 0.48 | 0.5 | 0.52 | 0.45 | 0.36 | cp |\n",
       "| 4 | 0.23 | 0.32 | 0.48 | 0.5 | 0.55 | 0.25 | 0.35 | cp |\n",
       "| 5 | 0.67 | 0.39 | 0.48 | 0.5 | 0.36 | 0.38 | 0.46 | cp |\n",
       "| 6 | 0.29 | 0.28 | 0.48 | 0.5 | 0.44 | 0.23 | 0.34 | cp |\n",
       "\n"
      ],
      "text/plain": [
       "  mcg  gvh  lip  chg aac  alm1 alm2 class\n",
       "1 0.07 0.40 0.48 0.5 0.54 0.35 0.44 cp   \n",
       "2 0.56 0.40 0.48 0.5 0.49 0.37 0.46 cp   \n",
       "3 0.59 0.49 0.48 0.5 0.52 0.45 0.36 cp   \n",
       "4 0.23 0.32 0.48 0.5 0.55 0.25 0.35 cp   \n",
       "5 0.67 0.39 0.48 0.5 0.36 0.38 0.46 cp   \n",
       "6 0.29 0.28 0.48 0.5 0.44 0.23 0.34 cp   "
      ]
     },
     "metadata": {},
     "output_type": "display_data"
    }
   ],
   "source": [
    "head(ecoli)"
   ]
  },
  {
   "cell_type": "code",
   "execution_count": 168,
   "metadata": {
    "vscode": {
     "languageId": "r"
    }
   },
   "outputs": [
    {
     "data": {
      "text/html": [
       "<style>\n",
       ".list-inline {list-style: none; margin:0; padding: 0}\n",
       ".list-inline>li {display: inline-block}\n",
       ".list-inline>li:not(:last-child)::after {content: \"\\00b7\"; padding: 0 .5ex}\n",
       "</style>\n",
       "<ol class=list-inline><li>'cp'</li><li>'im'</li><li>'imS'</li><li>'imL'</li><li>'imU'</li><li>'om'</li><li>'omL'</li><li>'pp'</li></ol>\n"
      ],
      "text/latex": [
       "\\begin{enumerate*}\n",
       "\\item 'cp'\n",
       "\\item 'im'\n",
       "\\item 'imS'\n",
       "\\item 'imL'\n",
       "\\item 'imU'\n",
       "\\item 'om'\n",
       "\\item 'omL'\n",
       "\\item 'pp'\n",
       "\\end{enumerate*}\n"
      ],
      "text/markdown": [
       "1. 'cp'\n",
       "2. 'im'\n",
       "3. 'imS'\n",
       "4. 'imL'\n",
       "5. 'imU'\n",
       "6. 'om'\n",
       "7. 'omL'\n",
       "8. 'pp'\n",
       "\n",
       "\n"
      ],
      "text/plain": [
       "[1] \"cp\"  \"im\"  \"imS\" \"imL\" \"imU\" \"om\"  \"omL\" \"pp\" "
      ]
     },
     "metadata": {},
     "output_type": "display_data"
    }
   ],
   "source": [
    "unique(ecoli$class)"
   ]
  },
  {
   "cell_type": "markdown",
   "metadata": {},
   "source": [
    "Unfortunately I don't have time for this dataset, especially plotting every ROC curve. I'm really sorry."
   ]
  },
  {
   "cell_type": "markdown",
   "metadata": {},
   "source": [
    "### Icu Data"
   ]
  },
  {
   "cell_type": "code",
   "execution_count": 169,
   "metadata": {
    "vscode": {
     "languageId": "r"
    }
   },
   "outputs": [
    {
     "data": {
      "text/html": [
       "<table class=\"dataframe\">\n",
       "<caption>A data.frame: 6 × 21</caption>\n",
       "<thead>\n",
       "\t<tr><th></th><th scope=col>ID</th><th scope=col>STA</th><th scope=col>AGE</th><th scope=col>SEX</th><th scope=col>RACE</th><th scope=col>SER</th><th scope=col>CAN</th><th scope=col>CRN</th><th scope=col>INF</th><th scope=col>CPR</th><th scope=col>⋯</th><th scope=col>HRA</th><th scope=col>PRE</th><th scope=col>TYP</th><th scope=col>FRA</th><th scope=col>PO2</th><th scope=col>PH</th><th scope=col>PCO</th><th scope=col>BIC</th><th scope=col>CRE</th><th scope=col>LOC</th></tr>\n",
       "\t<tr><th></th><th scope=col>&lt;int&gt;</th><th scope=col>&lt;int&gt;</th><th scope=col>&lt;int&gt;</th><th scope=col>&lt;int&gt;</th><th scope=col>&lt;int&gt;</th><th scope=col>&lt;int&gt;</th><th scope=col>&lt;int&gt;</th><th scope=col>&lt;int&gt;</th><th scope=col>&lt;int&gt;</th><th scope=col>&lt;int&gt;</th><th scope=col>⋯</th><th scope=col>&lt;int&gt;</th><th scope=col>&lt;int&gt;</th><th scope=col>&lt;int&gt;</th><th scope=col>&lt;int&gt;</th><th scope=col>&lt;int&gt;</th><th scope=col>&lt;int&gt;</th><th scope=col>&lt;int&gt;</th><th scope=col>&lt;int&gt;</th><th scope=col>&lt;int&gt;</th><th scope=col>&lt;int&gt;</th></tr>\n",
       "</thead>\n",
       "<tbody>\n",
       "\t<tr><th scope=row>1</th><td> 8</td><td>0</td><td>27</td><td>1</td><td>1</td><td>0</td><td>0</td><td>0</td><td>1</td><td>0</td><td>⋯</td><td> 88</td><td>0</td><td>1</td><td>0</td><td>0</td><td>0</td><td>0</td><td>0</td><td>0</td><td>0</td></tr>\n",
       "\t<tr><th scope=row>2</th><td>12</td><td>0</td><td>59</td><td>0</td><td>1</td><td>0</td><td>0</td><td>0</td><td>0</td><td>0</td><td>⋯</td><td> 80</td><td>1</td><td>1</td><td>0</td><td>0</td><td>0</td><td>0</td><td>0</td><td>0</td><td>0</td></tr>\n",
       "\t<tr><th scope=row>3</th><td>14</td><td>0</td><td>77</td><td>0</td><td>1</td><td>1</td><td>0</td><td>0</td><td>0</td><td>0</td><td>⋯</td><td> 70</td><td>0</td><td>0</td><td>0</td><td>0</td><td>0</td><td>0</td><td>0</td><td>0</td><td>0</td></tr>\n",
       "\t<tr><th scope=row>4</th><td>28</td><td>0</td><td>54</td><td>0</td><td>1</td><td>0</td><td>0</td><td>0</td><td>1</td><td>0</td><td>⋯</td><td>103</td><td>0</td><td>1</td><td>1</td><td>0</td><td>0</td><td>0</td><td>0</td><td>0</td><td>0</td></tr>\n",
       "\t<tr><th scope=row>5</th><td>32</td><td>0</td><td>87</td><td>1</td><td>1</td><td>1</td><td>0</td><td>0</td><td>1</td><td>0</td><td>⋯</td><td>154</td><td>1</td><td>1</td><td>0</td><td>0</td><td>0</td><td>0</td><td>0</td><td>0</td><td>0</td></tr>\n",
       "\t<tr><th scope=row>6</th><td>38</td><td>0</td><td>69</td><td>0</td><td>1</td><td>0</td><td>0</td><td>0</td><td>1</td><td>0</td><td>⋯</td><td>132</td><td>0</td><td>1</td><td>0</td><td>1</td><td>0</td><td>0</td><td>1</td><td>0</td><td>0</td></tr>\n",
       "</tbody>\n",
       "</table>\n"
      ],
      "text/latex": [
       "A data.frame: 6 × 21\n",
       "\\begin{tabular}{r|lllllllllllllllllllll}\n",
       "  & ID & STA & AGE & SEX & RACE & SER & CAN & CRN & INF & CPR & ⋯ & HRA & PRE & TYP & FRA & PO2 & PH & PCO & BIC & CRE & LOC\\\\\n",
       "  & <int> & <int> & <int> & <int> & <int> & <int> & <int> & <int> & <int> & <int> & ⋯ & <int> & <int> & <int> & <int> & <int> & <int> & <int> & <int> & <int> & <int>\\\\\n",
       "\\hline\n",
       "\t1 &  8 & 0 & 27 & 1 & 1 & 0 & 0 & 0 & 1 & 0 & ⋯ &  88 & 0 & 1 & 0 & 0 & 0 & 0 & 0 & 0 & 0\\\\\n",
       "\t2 & 12 & 0 & 59 & 0 & 1 & 0 & 0 & 0 & 0 & 0 & ⋯ &  80 & 1 & 1 & 0 & 0 & 0 & 0 & 0 & 0 & 0\\\\\n",
       "\t3 & 14 & 0 & 77 & 0 & 1 & 1 & 0 & 0 & 0 & 0 & ⋯ &  70 & 0 & 0 & 0 & 0 & 0 & 0 & 0 & 0 & 0\\\\\n",
       "\t4 & 28 & 0 & 54 & 0 & 1 & 0 & 0 & 0 & 1 & 0 & ⋯ & 103 & 0 & 1 & 1 & 0 & 0 & 0 & 0 & 0 & 0\\\\\n",
       "\t5 & 32 & 0 & 87 & 1 & 1 & 1 & 0 & 0 & 1 & 0 & ⋯ & 154 & 1 & 1 & 0 & 0 & 0 & 0 & 0 & 0 & 0\\\\\n",
       "\t6 & 38 & 0 & 69 & 0 & 1 & 0 & 0 & 0 & 1 & 0 & ⋯ & 132 & 0 & 1 & 0 & 1 & 0 & 0 & 1 & 0 & 0\\\\\n",
       "\\end{tabular}\n"
      ],
      "text/markdown": [
       "\n",
       "A data.frame: 6 × 21\n",
       "\n",
       "| <!--/--> | ID &lt;int&gt; | STA &lt;int&gt; | AGE &lt;int&gt; | SEX &lt;int&gt; | RACE &lt;int&gt; | SER &lt;int&gt; | CAN &lt;int&gt; | CRN &lt;int&gt; | INF &lt;int&gt; | CPR &lt;int&gt; | ⋯ ⋯ | HRA &lt;int&gt; | PRE &lt;int&gt; | TYP &lt;int&gt; | FRA &lt;int&gt; | PO2 &lt;int&gt; | PH &lt;int&gt; | PCO &lt;int&gt; | BIC &lt;int&gt; | CRE &lt;int&gt; | LOC &lt;int&gt; |\n",
       "|---|---|---|---|---|---|---|---|---|---|---|---|---|---|---|---|---|---|---|---|---|---|\n",
       "| 1 |  8 | 0 | 27 | 1 | 1 | 0 | 0 | 0 | 1 | 0 | ⋯ |  88 | 0 | 1 | 0 | 0 | 0 | 0 | 0 | 0 | 0 |\n",
       "| 2 | 12 | 0 | 59 | 0 | 1 | 0 | 0 | 0 | 0 | 0 | ⋯ |  80 | 1 | 1 | 0 | 0 | 0 | 0 | 0 | 0 | 0 |\n",
       "| 3 | 14 | 0 | 77 | 0 | 1 | 1 | 0 | 0 | 0 | 0 | ⋯ |  70 | 0 | 0 | 0 | 0 | 0 | 0 | 0 | 0 | 0 |\n",
       "| 4 | 28 | 0 | 54 | 0 | 1 | 0 | 0 | 0 | 1 | 0 | ⋯ | 103 | 0 | 1 | 1 | 0 | 0 | 0 | 0 | 0 | 0 |\n",
       "| 5 | 32 | 0 | 87 | 1 | 1 | 1 | 0 | 0 | 1 | 0 | ⋯ | 154 | 1 | 1 | 0 | 0 | 0 | 0 | 0 | 0 | 0 |\n",
       "| 6 | 38 | 0 | 69 | 0 | 1 | 0 | 0 | 0 | 1 | 0 | ⋯ | 132 | 0 | 1 | 0 | 1 | 0 | 0 | 1 | 0 | 0 |\n",
       "\n"
      ],
      "text/plain": [
       "  ID STA AGE SEX RACE SER CAN CRN INF CPR ⋯ HRA PRE TYP FRA PO2 PH PCO BIC CRE\n",
       "1  8 0   27  1   1    0   0   0   1   0   ⋯  88 0   1   0   0   0  0   0   0  \n",
       "2 12 0   59  0   1    0   0   0   0   0   ⋯  80 1   1   0   0   0  0   0   0  \n",
       "3 14 0   77  0   1    1   0   0   0   0   ⋯  70 0   0   0   0   0  0   0   0  \n",
       "4 28 0   54  0   1    0   0   0   1   0   ⋯ 103 0   1   1   0   0  0   0   0  \n",
       "5 32 0   87  1   1    1   0   0   1   0   ⋯ 154 1   1   0   0   0  0   0   0  \n",
       "6 38 0   69  0   1    0   0   0   1   0   ⋯ 132 0   1   0   1   0  0   1   0  \n",
       "  LOC\n",
       "1 0  \n",
       "2 0  \n",
       "3 0  \n",
       "4 0  \n",
       "5 0  \n",
       "6 0  "
      ]
     },
     "metadata": {},
     "output_type": "display_data"
    }
   ],
   "source": [
    "icu <- read.csv(\"data/icu.csv\")\n",
    "head(icu)"
   ]
  },
  {
   "cell_type": "code",
   "execution_count": 170,
   "metadata": {
    "vscode": {
     "languageId": "r"
    }
   },
   "outputs": [
    {
     "data": {
      "text/plain": [
       "       ID             STA           AGE             SEX            RACE      \n",
       " Min.   :  4.0   Min.   :0.0   Min.   :16.00   Min.   :0.00   Min.   :1.000  \n",
       " 1st Qu.:210.2   1st Qu.:0.0   1st Qu.:46.75   1st Qu.:0.00   1st Qu.:1.000  \n",
       " Median :412.5   Median :0.0   Median :63.00   Median :0.00   Median :1.000  \n",
       " Mean   :444.8   Mean   :0.2   Mean   :57.55   Mean   :0.38   Mean   :1.175  \n",
       " 3rd Qu.:671.8   3rd Qu.:0.0   3rd Qu.:72.00   3rd Qu.:1.00   3rd Qu.:1.000  \n",
       " Max.   :929.0   Max.   :1.0   Max.   :92.00   Max.   :1.00   Max.   :3.000  \n",
       "      SER             CAN           CRN             INF            CPR       \n",
       " Min.   :0.000   Min.   :0.0   Min.   :0.000   Min.   :0.00   Min.   :0.000  \n",
       " 1st Qu.:0.000   1st Qu.:0.0   1st Qu.:0.000   1st Qu.:0.00   1st Qu.:0.000  \n",
       " Median :1.000   Median :0.0   Median :0.000   Median :0.00   Median :0.000  \n",
       " Mean   :0.535   Mean   :0.1   Mean   :0.095   Mean   :0.42   Mean   :0.065  \n",
       " 3rd Qu.:1.000   3rd Qu.:0.0   3rd Qu.:0.000   3rd Qu.:1.00   3rd Qu.:0.000  \n",
       " Max.   :1.000   Max.   :1.0   Max.   :1.000   Max.   :1.00   Max.   :1.000  \n",
       "      SYS             HRA              PRE            TYP       \n",
       " Min.   : 36.0   Min.   : 39.00   Min.   :0.00   Min.   :0.000  \n",
       " 1st Qu.:110.0   1st Qu.: 80.00   1st Qu.:0.00   1st Qu.:0.000  \n",
       " Median :130.0   Median : 96.00   Median :0.00   Median :1.000  \n",
       " Mean   :132.3   Mean   : 98.92   Mean   :0.15   Mean   :0.735  \n",
       " 3rd Qu.:150.0   3rd Qu.:118.25   3rd Qu.:0.00   3rd Qu.:1.000  \n",
       " Max.   :256.0   Max.   :192.00   Max.   :1.00   Max.   :1.000  \n",
       "      FRA             PO2             PH             PCO           BIC       \n",
       " Min.   :0.000   Min.   :0.00   Min.   :0.000   Min.   :0.0   Min.   :0.000  \n",
       " 1st Qu.:0.000   1st Qu.:0.00   1st Qu.:0.000   1st Qu.:0.0   1st Qu.:0.000  \n",
       " Median :0.000   Median :0.00   Median :0.000   Median :0.0   Median :0.000  \n",
       " Mean   :0.075   Mean   :0.08   Mean   :0.065   Mean   :0.1   Mean   :0.075  \n",
       " 3rd Qu.:0.000   3rd Qu.:0.00   3rd Qu.:0.000   3rd Qu.:0.0   3rd Qu.:0.000  \n",
       " Max.   :1.000   Max.   :1.00   Max.   :1.000   Max.   :1.0   Max.   :1.000  \n",
       "      CRE            LOC       \n",
       " Min.   :0.00   Min.   :0.000  \n",
       " 1st Qu.:0.00   1st Qu.:0.000  \n",
       " Median :0.00   Median :0.000  \n",
       " Mean   :0.05   Mean   :0.125  \n",
       " 3rd Qu.:0.00   3rd Qu.:0.000  \n",
       " Max.   :1.00   Max.   :2.000  "
      ]
     },
     "metadata": {},
     "output_type": "display_data"
    }
   ],
   "source": [
    "summary(icu)"
   ]
  },
  {
   "cell_type": "code",
   "execution_count": 171,
   "metadata": {
    "vscode": {
     "languageId": "r"
    }
   },
   "outputs": [],
   "source": [
    "icu$STA <- as.factor(icu$STA)\n",
    "icu$SEX <- as.factor(icu$SEX)\n",
    "icu$RACE <- as.factor(icu$RACE)\n",
    "icu$SER <- as.factor(icu$SER)\n",
    "icu$CAN <- as.factor(icu$CAN)\n",
    "icu$CRN <- as.factor(icu$CRN)\n",
    "icu$INF <- as.factor(icu$INF)\n",
    "icu$CPR <- as.factor(icu$CPR)\n",
    "icu$PRE <- as.factor(icu$PRE)\n",
    "icu$TYP <- as.factor(icu$TYP)\n",
    "icu$FRA <- as.factor(icu$FRA)\n",
    "icu$PO2 <- as.factor(icu$PO2)\n",
    "icu$PH <- as.factor(icu$PH)\n",
    "icu$PCO <- as.factor(icu$PCO)\n",
    "icu$BIC <- as.factor(icu$BIC)\n",
    "icu$CRE <- as.factor(icu$CRE)\n",
    "icu$LOC <- as.factor(icu$LOC)"
   ]
  },
  {
   "cell_type": "code",
   "execution_count": 172,
   "metadata": {
    "vscode": {
     "languageId": "r"
    }
   },
   "outputs": [],
   "source": [
    "set.seed(4)\n",
    "sample <- sample(c(TRUE, FALSE), nrow(icu), replace=TRUE, prob=c(0.8,0.2))\n",
    "train <- icu[sample, ]\n",
    "test <- icu[!sample, ]\n",
    "\n",
    "test.X <- select(test, -STA)\n",
    "test.Y <- test[2]\n",
    "\n",
    "train.X<-select(train, -STA)\n",
    "train.Y<-train[2]"
   ]
  },
  {
   "cell_type": "code",
   "execution_count": 173,
   "metadata": {
    "vscode": {
     "languageId": "r"
    }
   },
   "outputs": [
    {
     "name": "stderr",
     "output_type": "stream",
     "text": [
      "Train Error is 14%\n",
      "\n",
      "Test Error is 21%\n",
      "\n"
     ]
    }
   ],
   "source": [
    "logit.fit <- glm(train$STA ~ ., data=train, family = binomial)\n",
    "\n",
    "logit.train <- predict(logit.fit, train.X, type=\"response\")\n",
    "logit.train <- ifelse(test=logit.train>0.5, yes=1, no=0)\n",
    "\n",
    "logit.pred <- predict(logit.fit, test.X, type=\"response\")\n",
    "logit.pred <- ifelse(test=logit.pred>0.5, yes=1, no=0)\n",
    "\n",
    "message(\"Train Error is \", round(mean(logit.train != train.Y$STA),2)*100, \"%\")\n",
    "message(\"Test Error is \", round(mean(logit.pred != test.Y$STA),2)*100, \"%\")"
   ]
  },
  {
   "cell_type": "code",
   "execution_count": 174,
   "metadata": {
    "vscode": {
     "languageId": "r"
    }
   },
   "outputs": [
    {
     "name": "stderr",
     "output_type": "stream",
     "text": [
      "Setting levels: control = 0, case = 1\n",
      "\n",
      "Setting direction: controls < cases\n",
      "\n"
     ]
    },
    {
     "data": {
      "text/plain": [
       "\n",
       "Call:\n",
       "roc.default(response = test.Y$STA, predictor = logit.pred, plot = TRUE)\n",
       "\n",
       "Data: logit.pred in 40 controls (test.Y$STA 0) < 7 cases (test.Y$STA 1).\n",
       "Area under the curve: 0.6982"
      ]
     },
     "metadata": {},
     "output_type": "display_data"
    },
    {
     "name": "stderr",
     "output_type": "stream",
     "text": [
      "Setting levels: control = 0, case = 1\n",
      "\n",
      "Setting direction: controls < cases\n",
      "\n",
      "AUC: 0.698214285714286\n",
      "\n"
     ]
    },
    {
     "data": {
      "image/png": "[encoded data removed]",
      "text/plain": [
       "plot without title"
      ]
     },
     "metadata": {
      "image/png": {
       "height": 420,
       "width": 420
      }
     },
     "output_type": "display_data"
    }
   ],
   "source": [
    "roc(test.Y$STA, logit.pred, plot=TRUE)\n",
    "message(\"AUC: \", auc(test.Y$STA, logit.pred))"
   ]
  },
  {
   "cell_type": "code",
   "execution_count": 175,
   "metadata": {
    "vscode": {
     "languageId": "r"
    }
   },
   "outputs": [
    {
     "data": {
      "image/png": "[encoded data removed]",
      "text/plain": [
       "plot without title"
      ]
     },
     "metadata": {
      "image/png": {
       "height": 420,
       "width": 420
      }
     },
     "output_type": "display_data"
    }
   ],
   "source": [
    "plot_confusion_matrix(confusion_matrix(test.Y$STA, logit.pred))"
   ]
  },
  {
   "cell_type": "code",
   "execution_count": 176,
   "metadata": {
    "vscode": {
     "languageId": "r"
    }
   },
   "outputs": [],
   "source": [
    "bag.fit <- bagging(formula = STA ~ ., data = train, nbagg = 160, coob = TRUE,\n",
    "  control = rpart.control(minsplit = 2, cp = 0)\n",
    ")\n",
    "\n",
    "bag.pred <- predict(bag.fit, newdata = test.X)"
   ]
  },
  {
   "cell_type": "code",
   "execution_count": 177,
   "metadata": {
    "vscode": {
     "languageId": "r"
    }
   },
   "outputs": [
    {
     "data": {
      "text/html": [
       "<table class=\"dataframe\">\n",
       "<caption>A data.frame: 20 × 2</caption>\n",
       "<thead>\n",
       "\t<tr><th></th><th scope=col>var</th><th scope=col>Overall</th></tr>\n",
       "\t<tr><th></th><th scope=col>&lt;chr&gt;</th><th scope=col>&lt;dbl&gt;</th></tr>\n",
       "</thead>\n",
       "<tbody>\n",
       "\t<tr><th scope=row>ID</th><td>CPR </td><td>25.7476454</td></tr>\n",
       "\t<tr><th scope=row>SYS</th><td>CRE </td><td>24.5015218</td></tr>\n",
       "\t<tr><th scope=row>AGE</th><td>STA </td><td>22.3588908</td></tr>\n",
       "\t<tr><th scope=row>HRA</th><td>INF </td><td>17.5158010</td></tr>\n",
       "\t<tr><th scope=row>LOC</th><td>HRA </td><td>13.7341788</td></tr>\n",
       "\t<tr><th scope=row>TYP</th><td>LOC </td><td> 8.8356303</td></tr>\n",
       "\t<tr><th scope=row>CRN</th><td>CAN </td><td> 6.9789915</td></tr>\n",
       "\t<tr><th scope=row>SER</th><td>PCO </td><td> 6.5927578</td></tr>\n",
       "\t<tr><th scope=row>SEX</th><td>BIC </td><td> 4.1431219</td></tr>\n",
       "\t<tr><th scope=row>INF</th><td>SYS </td><td> 3.9297404</td></tr>\n",
       "\t<tr><th scope=row>PCO</th><td>PRE </td><td> 3.6169092</td></tr>\n",
       "\t<tr><th scope=row>CRE</th><td>SER </td><td> 3.5721481</td></tr>\n",
       "\t<tr><th scope=row>PO2</th><td>FRA </td><td> 3.1325156</td></tr>\n",
       "\t<tr><th scope=row>BIC</th><td>AGE </td><td> 3.1083657</td></tr>\n",
       "\t<tr><th scope=row>PH</th><td>TYP </td><td> 3.0405075</td></tr>\n",
       "\t<tr><th scope=row>PRE</th><td>PO2 </td><td> 2.7474892</td></tr>\n",
       "\t<tr><th scope=row>CAN</th><td>SEX </td><td> 2.3230967</td></tr>\n",
       "\t<tr><th scope=row>CPR</th><td>RACE</td><td> 1.5803496</td></tr>\n",
       "\t<tr><th scope=row>RACE</th><td>PH  </td><td> 1.4153833</td></tr>\n",
       "\t<tr><th scope=row>FRA</th><td>CRN </td><td> 0.7781274</td></tr>\n",
       "</tbody>\n",
       "</table>\n"
      ],
      "text/latex": [
       "A data.frame: 20 × 2\n",
       "\\begin{tabular}{r|ll}\n",
       "  & var & Overall\\\\\n",
       "  & <chr> & <dbl>\\\\\n",
       "\\hline\n",
       "\tID & CPR  & 25.7476454\\\\\n",
       "\tSYS & CRE  & 24.5015218\\\\\n",
       "\tAGE & STA  & 22.3588908\\\\\n",
       "\tHRA & INF  & 17.5158010\\\\\n",
       "\tLOC & HRA  & 13.7341788\\\\\n",
       "\tTYP & LOC  &  8.8356303\\\\\n",
       "\tCRN & CAN  &  6.9789915\\\\\n",
       "\tSER & PCO  &  6.5927578\\\\\n",
       "\tSEX & BIC  &  4.1431219\\\\\n",
       "\tINF & SYS  &  3.9297404\\\\\n",
       "\tPCO & PRE  &  3.6169092\\\\\n",
       "\tCRE & SER  &  3.5721481\\\\\n",
       "\tPO2 & FRA  &  3.1325156\\\\\n",
       "\tBIC & AGE  &  3.1083657\\\\\n",
       "\tPH & TYP  &  3.0405075\\\\\n",
       "\tPRE & PO2  &  2.7474892\\\\\n",
       "\tCAN & SEX  &  2.3230967\\\\\n",
       "\tCPR & RACE &  1.5803496\\\\\n",
       "\tRACE & PH   &  1.4153833\\\\\n",
       "\tFRA & CRN  &  0.7781274\\\\\n",
       "\\end{tabular}\n"
      ],
      "text/markdown": [
       "\n",
       "A data.frame: 20 × 2\n",
       "\n",
       "| <!--/--> | var &lt;chr&gt; | Overall &lt;dbl&gt; |\n",
       "|---|---|---|\n",
       "| ID | CPR  | 25.7476454 |\n",
       "| SYS | CRE  | 24.5015218 |\n",
       "| AGE | STA  | 22.3588908 |\n",
       "| HRA | INF  | 17.5158010 |\n",
       "| LOC | HRA  | 13.7341788 |\n",
       "| TYP | LOC  |  8.8356303 |\n",
       "| CRN | CAN  |  6.9789915 |\n",
       "| SER | PCO  |  6.5927578 |\n",
       "| SEX | BIC  |  4.1431219 |\n",
       "| INF | SYS  |  3.9297404 |\n",
       "| PCO | PRE  |  3.6169092 |\n",
       "| CRE | SER  |  3.5721481 |\n",
       "| PO2 | FRA  |  3.1325156 |\n",
       "| BIC | AGE  |  3.1083657 |\n",
       "| PH | TYP  |  3.0405075 |\n",
       "| PRE | PO2  |  2.7474892 |\n",
       "| CAN | SEX  |  2.3230967 |\n",
       "| CPR | RACE |  1.5803496 |\n",
       "| RACE | PH   |  1.4153833 |\n",
       "| FRA | CRN  |  0.7781274 |\n",
       "\n"
      ],
      "text/plain": [
       "     var  Overall   \n",
       "ID   CPR  25.7476454\n",
       "SYS  CRE  24.5015218\n",
       "AGE  STA  22.3588908\n",
       "HRA  INF  17.5158010\n",
       "LOC  HRA  13.7341788\n",
       "TYP  LOC   8.8356303\n",
       "CRN  CAN   6.9789915\n",
       "SER  PCO   6.5927578\n",
       "SEX  BIC   4.1431219\n",
       "INF  SYS   3.9297404\n",
       "PCO  PRE   3.6169092\n",
       "CRE  SER   3.5721481\n",
       "PO2  FRA   3.1325156\n",
       "BIC  AGE   3.1083657\n",
       "PH   TYP   3.0405075\n",
       "PRE  PO2   2.7474892\n",
       "CAN  SEX   2.3230967\n",
       "CPR  RACE  1.5803496\n",
       "RACE PH    1.4153833\n",
       "FRA  CRN   0.7781274"
      ]
     },
     "metadata": {},
     "output_type": "display_data"
    },
    {
     "data": {
      "image/png": "[encoded data removed]",
      "text/plain": [
       "plot without title"
      ]
     },
     "metadata": {
      "image/png": {
       "height": 420,
       "width": 420
      }
     },
     "output_type": "display_data"
    }
   ],
   "source": [
    "VI <- data.frame(var=names(icu[,-1]), imp=varImp(bag.fit))\n",
    "VI_plot <- VI[order(VI$Overall, decreasing=TRUE),]\n",
    "VI_plot\n",
    "barplot(VI_plot$Overall,\n",
    "        names.arg=rownames(VI_plot),\n",
    "        horiz=TRUE,\n",
    "        col='steelblue',\n",
    "        xlab='Variable Importance')"
   ]
  },
  {
   "cell_type": "code",
   "execution_count": 178,
   "metadata": {
    "vscode": {
     "languageId": "r"
    }
   },
   "outputs": [],
   "source": [
    "set.seed(4)\n",
    "icu <- icu[,c(\"STA\", \"SYS\", \"AGE\", \"ID\", \"HRA\", \"LOC\", \"TYP\", \"SER\")]\n",
    "sample <- sample(c(TRUE, FALSE), nrow(icu), replace=TRUE, prob=c(0.8,0.2))\n",
    "train <- icu[sample, ]\n",
    "test <- icu[!sample, ]\n",
    "\n",
    "test.X <- test[2:8]\n",
    "test.Y <- test[1]\n",
    "\n",
    "train.X<-train[2:8]\n",
    "train.Y<-train[1]"
   ]
  },
  {
   "cell_type": "code",
   "execution_count": 179,
   "metadata": {
    "vscode": {
     "languageId": "r"
    }
   },
   "outputs": [
    {
     "name": "stderr",
     "output_type": "stream",
     "text": [
      "Train Error is 13%\n",
      "\n",
      "Test Error is 9%\n",
      "\n"
     ]
    }
   ],
   "source": [
    "logit.fit <- glm(train$STA ~ ., data=train, family = binomial)\n",
    "\n",
    "logit.train <- predict(logit.fit, train.X, type=\"response\")\n",
    "logit.train <- ifelse(test=logit.train>0.5, yes=1, no=0)\n",
    "\n",
    "logit.pred <- predict(logit.fit, test.X, type=\"response\")\n",
    "logit.pred <- ifelse(test=logit.pred>0.5, yes=1, no=0)\n",
    "\n",
    "message(\"Train Error is \", round(mean(logit.train != train.Y$STA),2)*100, \"%\")\n",
    "message(\"Test Error is \", round(mean(logit.pred != test.Y$STA),2)*100, \"%\")"
   ]
  },
  {
   "cell_type": "code",
   "execution_count": 180,
   "metadata": {
    "vscode": {
     "languageId": "r"
    }
   },
   "outputs": [
    {
     "name": "stderr",
     "output_type": "stream",
     "text": [
      "Setting levels: control = 0, case = 1\n",
      "\n",
      "Setting direction: controls < cases\n",
      "\n"
     ]
    },
    {
     "data": {
      "text/plain": [
       "\n",
       "Call:\n",
       "roc.default(response = test.Y$STA, predictor = logit.pred, plot = TRUE)\n",
       "\n",
       "Data: logit.pred in 40 controls (test.Y$STA 0) < 7 cases (test.Y$STA 1).\n",
       "Area under the curve: 0.7732"
      ]
     },
     "metadata": {},
     "output_type": "display_data"
    },
    {
     "name": "stderr",
     "output_type": "stream",
     "text": [
      "Setting levels: control = 0, case = 1\n",
      "\n",
      "Setting direction: controls < cases\n",
      "\n",
      "AUC: 0.773214285714286\n",
      "\n"
     ]
    },
    {
     "data": {
      "image/png": "[encoded data removed]",
      "text/plain": [
       "plot without title"
      ]
     },
     "metadata": {
      "image/png": {
       "height": 420,
       "width": 420
      }
     },
     "output_type": "display_data"
    }
   ],
   "source": [
    "roc(test.Y$STA, logit.pred, plot=TRUE)\n",
    "message(\"AUC: \", auc(test.Y$STA, logit.pred))"
   ]
  },
  {
   "cell_type": "code",
   "execution_count": 181,
   "metadata": {
    "vscode": {
     "languageId": "r"
    }
   },
   "outputs": [
    {
     "data": {
      "image/png": "[encoded data removed]",
      "text/plain": [
       "plot without title"
      ]
     },
     "metadata": {
      "image/png": {
       "height": 420,
       "width": 420
      }
     },
     "output_type": "display_data"
    }
   ],
   "source": [
    "plot_confusion_matrix(confusion_matrix(test.Y$STA, logit.pred))"
   ]
  },
  {
   "cell_type": "markdown",
   "metadata": {},
   "source": [
    "## Results"
   ]
  },
  {
   "cell_type": "markdown",
   "metadata": {},
   "source": [
    "So in both cases we used bagging in order to find the most important features and prevent overfitting (before bagging, there was low training error, but high test error)."
   ]
  }
 ],
 "metadata": {
  "kernelspec": {
   "display_name": "R",
   "language": "R",
   "name": "ir"
  },
  "language_info": {
   "codemirror_mode": "r",
   "file_extension": ".r",
   "mimetype": "text/x-r-source",
   "name": "R",
   "pygments_lexer": "r",
   "version": "4.2.1"
  },
  "orig_nbformat": 4,
  "vscode": {
   "interpreter": {
    "hash": "bc0d722d985aa3b55afdcb4b1097da8f3b319d2216a0c4504f0006cd88a01c40"
   }
  }
 },
 "nbformat": 4,
 "nbformat_minor": 2
}
