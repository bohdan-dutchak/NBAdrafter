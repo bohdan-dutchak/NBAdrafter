{
 "cells": [
  {
   "cell_type": "markdown",
   "metadata": {},
   "source": [
    "# Test 1"
   ]
  },
  {
   "cell_type": "markdown",
   "metadata": {},
   "source": [
    "#### Dutchak Bohdan"
   ]
  },
  {
   "cell_type": "markdown",
   "metadata": {},
   "source": [
    "Leading logistic firm is evaluating you for a Machine Learning internship.\n",
    "To that end you have been asked to analyze the dataset \n",
    "found here /home/data/BlueBlack/bb.csv. They encourage you to use\n",
    "Logistic, NaiveBayes and kNN to analyze this dataset."
   ]
  },
  {
   "cell_type": "markdown",
   "metadata": {},
   "source": [
    "### My calculations"
   ]
  },
  {
   "cell_type": "code",
   "execution_count": 1,
   "metadata": {
    "vscode": {
     "languageId": "r"
    }
   },
   "outputs": [
    {
     "name": "stderr",
     "output_type": "stream",
     "text": [
      "Registered S3 method overwritten by 'GGally':\n",
      "  method from   \n",
      "  +.gg   ggplot2\n",
      "\n",
      "naivebayes 0.9.7 loaded\n",
      "\n",
      "\n",
      "Attaching package: 'plotly'\n",
      "\n",
      "\n",
      "The following object is masked from 'package:ggplot2':\n",
      "\n",
      "    last_plot\n",
      "\n",
      "\n",
      "The following object is masked from 'package:stats':\n",
      "\n",
      "    filter\n",
      "\n",
      "\n",
      "The following object is masked from 'package:graphics':\n",
      "\n",
      "    layout\n",
      "\n",
      "\n"
     ]
    }
   ],
   "source": [
    "library(ggplot2)\n",
    "library(GGally)\n",
    "library(ggcorrplot)\n",
    "library(e1071)\n",
    "library(class)\n",
    "library(cowplot)\n",
    "library(naivebayes)\n",
    "library(plotly)\n",
    "options(warn = -1)"
   ]
  },
  {
   "cell_type": "code",
   "execution_count": 2,
   "metadata": {
    "vscode": {
     "languageId": "r"
    }
   },
   "outputs": [
    {
     "data": {
      "text/html": [
       "<table class=\"dataframe\">\n",
       "<caption>A data.frame: 6 × 3</caption>\n",
       "<thead>\n",
       "\t<tr><th></th><th scope=col>X</th><th scope=col>X.Y</th><th scope=col>X.label</th></tr>\n",
       "\t<tr><th></th><th scope=col>&lt;int&gt;</th><th scope=col>&lt;chr&gt;</th><th scope=col>&lt;chr&gt;</th></tr>\n",
       "</thead>\n",
       "<tbody>\n",
       "\t<tr><th scope=row>1</th><td>5</td><td>\ta</td><td>\tBLUE </td></tr>\n",
       "\t<tr><th scope=row>2</th><td>5</td><td>\tb</td><td>\tBLACK</td></tr>\n",
       "\t<tr><th scope=row>3</th><td>5</td><td>\tc</td><td>\tBLUE </td></tr>\n",
       "\t<tr><th scope=row>4</th><td>5</td><td>\td</td><td>\tBLACK</td></tr>\n",
       "\t<tr><th scope=row>5</th><td>5</td><td>\te</td><td>\tBLACK</td></tr>\n",
       "\t<tr><th scope=row>6</th><td>5</td><td>\tf</td><td>\tBLACK</td></tr>\n",
       "</tbody>\n",
       "</table>\n"
      ],
      "text/latex": [
       "A data.frame: 6 × 3\n",
       "\\begin{tabular}{r|lll}\n",
       "  & X & X.Y & X.label\\\\\n",
       "  & <int> & <chr> & <chr>\\\\\n",
       "\\hline\n",
       "\t1 & 5 & \ta & \tBLUE \\\\\n",
       "\t2 & 5 & \tb & \tBLACK\\\\\n",
       "\t3 & 5 & \tc & \tBLUE \\\\\n",
       "\t4 & 5 & \td & \tBLACK\\\\\n",
       "\t5 & 5 & \te & \tBLACK\\\\\n",
       "\t6 & 5 & \tf & \tBLACK\\\\\n",
       "\\end{tabular}\n"
      ],
      "text/markdown": [
       "\n",
       "A data.frame: 6 × 3\n",
       "\n",
       "| <!--/--> | X &lt;int&gt; | X.Y &lt;chr&gt; | X.label &lt;chr&gt; |\n",
       "|---|---|---|---|\n",
       "| 1 | 5 | \ta | \tBLUE  |\n",
       "| 2 | 5 | \tb | \tBLACK |\n",
       "| 3 | 5 | \tc | \tBLUE  |\n",
       "| 4 | 5 | \td | \tBLACK |\n",
       "| 5 | 5 | \te | \tBLACK |\n",
       "| 6 | 5 | \tf | \tBLACK |\n",
       "\n"
      ],
      "text/plain": [
       "  X X.Y X.label\n",
       "1 5 \\ta \\tBLUE \n",
       "2 5 \\tb \\tBLACK\n",
       "3 5 \\tc \\tBLUE \n",
       "4 5 \\td \\tBLACK\n",
       "5 5 \\te \\tBLACK\n",
       "6 5 \\tf \\tBLACK"
      ]
     },
     "metadata": {},
     "output_type": "display_data"
    }
   ],
   "source": [
    "data <- read.csv(\"data/bb.csv\")\n",
    "head(data)"
   ]
  },
  {
   "cell_type": "markdown",
   "metadata": {},
   "source": [
    "First of all we have to get familiar with the data. Let's do it"
   ]
  },
  {
   "cell_type": "code",
   "execution_count": 3,
   "metadata": {
    "vscode": {
     "languageId": "r"
    }
   },
   "outputs": [
    {
     "name": "stdout",
     "output_type": "stream",
     "text": [
      "[1] \"Shape of dataframe is :\"\n"
     ]
    },
    {
     "data": {
      "text/html": [
       "<style>\n",
       ".list-inline {list-style: none; margin:0; padding: 0}\n",
       ".list-inline>li {display: inline-block}\n",
       ".list-inline>li:not(:last-child)::after {content: \"\\00b7\"; padding: 0 .5ex}\n",
       "</style>\n",
       "<ol class=list-inline><li>36</li><li>3</li></ol>\n"
      ],
      "text/latex": [
       "\\begin{enumerate*}\n",
       "\\item 36\n",
       "\\item 3\n",
       "\\end{enumerate*}\n"
      ],
      "text/markdown": [
       "1. 36\n",
       "2. 3\n",
       "\n",
       "\n"
      ],
      "text/plain": [
       "[1] 36  3"
      ]
     },
     "metadata": {},
     "output_type": "display_data"
    }
   ],
   "source": [
    "print(\"Shape of dataframe is :\")\n",
    "dim(data)"
   ]
  },
  {
   "cell_type": "markdown",
   "metadata": {},
   "source": [
    "So the number of features is relatively big to the number of observations. It is a sign, that Bayes Classifier can be fitted good on this data, but it is still to early to make decisions. Let's look at the distribution of the data."
   ]
  },
  {
   "cell_type": "code",
   "execution_count": 4,
   "metadata": {
    "vscode": {
     "languageId": "r"
    }
   },
   "outputs": [
    {
     "name": "stderr",
     "output_type": "stream",
     "text": [
      "`stat_bin()` using `bins = 30`. Pick better value with `binwidth`.\n",
      "\n",
      "`stat_bin()` using `bins = 30`. Pick better value with `binwidth`.\n",
      "\n"
     ]
    },
    {
     "data": {
      "image/png": "[encoded data removed]",
      "text/plain": [
       "plot without title"
      ]
     },
     "metadata": {
      "image/png": {
       "height": 420,
       "width": 420
      }
     },
     "output_type": "display_data"
    }
   ],
   "source": [
    "ggpairs(data, aes(color=X.label, alpha=0.5))"
   ]
  },
  {
   "cell_type": "code",
   "execution_count": 5,
   "metadata": {
    "vscode": {
     "languageId": "r"
    }
   },
   "outputs": [
    {
     "name": "stdout",
     "output_type": "stream",
     "text": [
      "'data.frame':\t36 obs. of  3 variables:\n",
      " $ X      : int  5 5 5 5 5 5 19 19 19 19 ...\n",
      " $ X.Y    : Factor w/ 6 levels \"1\",\"2\",\"3\",\"4\",..: 1 2 3 4 5 6 1 2 3 4 ...\n",
      " $ X.label: Factor w/ 2 levels \"0\",\"1\": 2 1 2 1 1 1 2 2 2 2 ...\n"
     ]
    }
   ],
   "source": [
    "data$X.Y <- replace(data$X.Y, data$X.Y == '\\ta', 1)\n",
    "data$X.Y <- replace(data$X.Y, data$X.Y == '\\tb', 2)\n",
    "data$X.Y <- replace(data$X.Y, data$X.Y == '\\tc', 3)\n",
    "data$X.Y <- replace(data$X.Y, data$X.Y == '\\td', 4)\n",
    "data$X.Y <- replace(data$X.Y, data$X.Y == '\\te', 5)\n",
    "data$X.Y <- replace(data$X.Y, data$X.Y == '\\tf', 6)\n",
    "\n",
    "data$X.label <- replace(data$X.label, data$X.label == '\\tBLACK', 0)\n",
    "data$X.label <- replace(data$X.label, data$X.label == '\\tBLUE', 1)\n",
    "\n",
    "data$X.Y <- as.factor(data$X.Y)\n",
    "data$X.label <- as.factor(data$X.label)\n",
    "\n",
    "str(data)"
   ]
  },
  {
   "cell_type": "code",
   "execution_count": 6,
   "metadata": {
    "vscode": {
     "languageId": "r"
    }
   },
   "outputs": [
    {
     "data": {
      "text/plain": [
       "       X      X.Y   X.label\n",
       " Min.   : 5   1:6   0:22   \n",
       " 1st Qu.:19   2:6   1:14   \n",
       " Median :43   3:6          \n",
       " Mean   :38   4:6          \n",
       " 3rd Qu.:55   5:6          \n",
       " Max.   :63   6:6          "
      ]
     },
     "metadata": {},
     "output_type": "display_data"
    }
   ],
   "source": [
    "summary(data)"
   ]
  },
  {
   "cell_type": "code",
   "execution_count": 7,
   "metadata": {
    "vscode": {
     "languageId": "r"
    }
   },
   "outputs": [
    {
     "data": {
      "image/png": "[encoded data removed]",
      "text/plain": [
       "plot without title"
      ]
     },
     "metadata": {
      "image/png": {
       "height": 420,
       "width": 420
      }
     },
     "output_type": "display_data"
    }
   ],
   "source": [
    "correlations <- cor(data %>% type.convert(as.is=TRUE))\n",
    "ggcorrplot(correlations, lab=TRUE) + ggtitle(\"Correlation heatmap\")"
   ]
  },
  {
   "cell_type": "markdown",
   "metadata": {},
   "source": [
    "At this point, we know that data is quite symmetrical, but highly non-linear. It's feature distributions are way not normal, so I assume Logit will show poor results. Besides, there is no strong correlation between the target variable and features, so I assume Bayes classifier may show good results here. The only problem here is that both Logit and NB have linear decision boundaries, but our data has non linear distribution, that means more flexible models such as KNN with small $k$ can also be accurate with their predictions. Let's find this out."
   ]
  },
  {
   "cell_type": "code",
   "execution_count": 95,
   "metadata": {
    "vscode": {
     "languageId": "r"
    }
   },
   "outputs": [
    {
     "name": "stderr",
     "output_type": "stream",
     "text": [
      "Shape of test dataframe is 17x3\n",
      "\n",
      "Shape of test dataframe is 19x3\n",
      "\n"
     ]
    }
   ],
   "source": [
    "set.seed(4) #Seed because 4 is my lucky number\n",
    "\n",
    "sample <- sample(c(TRUE, FALSE), nrow(data), replace=TRUE, prob=c(0.6,0.4))\n",
    "train <- data[sample, ]\n",
    "test <- data[!sample, ]\n",
    "\n",
    "test.X <- test[1:2]\n",
    "test.Y <- test[3]\n",
    "\n",
    "train.X<-train[1:2]\n",
    "train.Y<-train[3]\n",
    "\n",
    "message(\"Shape of test dataframe is \", dim(test)[1], 'x', dim(test)[2])\n",
    "message(\"Shape of test dataframe is \", dim(train)[1], 'x', dim(train)[2])"
   ]
  },
  {
   "cell_type": "code",
   "execution_count": 96,
   "metadata": {
    "vscode": {
     "languageId": "r"
    }
   },
   "outputs": [
    {
     "data": {
      "text/plain": [
       "\n",
       "Call:\n",
       "glm(formula = X.label ~ X + X.Y, family = binomial, data = train)\n",
       "\n",
       "Deviance Residuals: \n",
       "    Min       1Q   Median       3Q      Max  \n",
       "-1.4575  -0.8947  -0.6399   1.0658   1.6793  \n",
       "\n",
       "Coefficients:\n",
       "            Estimate Std. Error z value Pr(>|z|)\n",
       "(Intercept)  0.01745    1.50537   0.012    0.991\n",
       "X           -0.02200    0.02714  -0.811    0.418\n",
       "X.Y2         0.73055    1.95212   0.374    0.708\n",
       "X.Y3         1.40750    1.78065   0.790    0.429\n",
       "X.Y4        -0.29012    1.79324  -0.162    0.871\n",
       "X.Y5         0.52669    1.89369   0.278    0.781\n",
       "X.Y6        -0.72949    1.69676  -0.430    0.667\n",
       "\n",
       "(Dispersion parameter for binomial family taken to be 1)\n",
       "\n",
       "    Null deviance: 25.008  on 18  degrees of freedom\n",
       "Residual deviance: 22.366  on 12  degrees of freedom\n",
       "AIC: 36.366\n",
       "\n",
       "Number of Fisher Scoring iterations: 4\n"
      ]
     },
     "metadata": {},
     "output_type": "display_data"
    }
   ],
   "source": [
    "logit.fit <- glm(X.label ~ X + X.Y, data=train, family = binomial)\n",
    "summary(logit.fit)"
   ]
  },
  {
   "cell_type": "markdown",
   "metadata": {},
   "source": [
    "Time for some Inference model estimation.\n",
    "\n",
    "Deviance Residuals are pretty good, since they are close to be centred on 0 and are roughly symmetrical. All the features has large p-values, so they are not good predictors, but they are all we have :(\n",
    "\n",
    "Unfortunately I can not explain this, since I have no idea where the data came from and what each feature mean.\n",
    "\n",
    "Anyways, I assume, that this model will have big testing error"
   ]
  },
  {
   "cell_type": "code",
   "execution_count": 97,
   "metadata": {
    "vscode": {
     "languageId": "r"
    }
   },
   "outputs": [
    {
     "name": "stderr",
     "output_type": "stream",
     "text": [
      "LOGIT has 71% accuracy\n",
      "\n"
     ]
    }
   ],
   "source": [
    "logit.pred <- predict(logit.fit, test.X, type=\"response\")\n",
    "logit.pred <- ifelse(test=logit.pred>0.5, yes=1, no=0)\n",
    "message(\"LOGIT has \", round(mean(logit.pred == test.Y$X.label),2)*100, \"% accuracy\")"
   ]
  },
  {
   "cell_type": "markdown",
   "metadata": {},
   "source": [
    "I'm surprised, it is not that bad as I expected. ISLR book says, that the accuracy can increase while cross-validation, but I don't think it can help me in this case, since generally this model is worse for this data in comparison to another models. If it's accuracy decrease due to another training set, the same will happen to other models, but they still will have better accuracy. I will provide a visual proof."
   ]
  },
  {
   "cell_type": "code",
   "execution_count": 98,
   "metadata": {
    "vscode": {
     "languageId": "r"
    }
   },
   "outputs": [
    {
     "data": {
      "image/png": "[encoded data removed]",
      "text/plain": [
       "plot without title"
      ]
     },
     "metadata": {
      "image/png": {
       "height": 420,
       "width": 420
      }
     },
     "output_type": "display_data"
    }
   ],
   "source": [
    "logit <-logit.fit <- glm(X.label ~ ., data=data, family = binomial)\n",
    "\n",
    "predicted.data <- data.frame(probability.of.blue = logit$fitted.values, col=data$X.label)\n",
    "predicted.data <- predicted.data[order(predicted.data$probability.of.blue, decreasing = FALSE),]\n",
    "predicted.data$rank <- 1:nrow(predicted.data)\n",
    "ggplot(data=predicted.data, aes(x=rank, y=probability.of.blue)) + geom_point(aes(color=col), alpha=1, shape=4, stroke=2) + xlab(\"Index\") + ylab(\"Logit results\")\n"
   ]
  },
  {
   "cell_type": "markdown",
   "metadata": {},
   "source": [
    "You can see that is has relatively many outliers to general number of observations. The reason is LOGIT uses linear decision boundary, but it is not applicable for this data. So even brute forcing all possible combinations of test/train data will not achieve good results.\n",
    "\n",
    "Let's move to the Naive Bayes classifier"
   ]
  },
  {
   "cell_type": "code",
   "execution_count": 101,
   "metadata": {
    "vscode": {
     "languageId": "r"
    }
   },
   "outputs": [
    {
     "data": {
      "text/plain": [
       "\n",
       "Naive Bayes Classifier for Discrete Predictors\n",
       "\n",
       "Call:\n",
       "naiveBayes.default(x = X, y = Y, laplace = laplace)\n",
       "\n",
       "A-priori probabilities:\n",
       "Y\n",
       "        0         1 \n",
       "0.6315789 0.3684211 \n",
       "\n",
       "Conditional probabilities:\n",
       "   X\n",
       "Y       [,1]     [,2]\n",
       "  0 37.50000 21.57650\n",
       "  1 29.85714 24.81551\n",
       "\n",
       "   X.Y\n",
       "Y            1          2          3          4          5          6\n",
       "  0 0.16666667 0.08333333 0.08333333 0.16666667 0.16666667 0.33333333\n",
       "  1 0.14285714 0.14285714 0.28571429 0.14285714 0.14285714 0.14285714\n"
      ]
     },
     "metadata": {},
     "output_type": "display_data"
    }
   ],
   "source": [
    "nb.fit <- naiveBayes(X.label ~ X + X.Y, data = train)\n",
    "nb.fit"
   ]
  },
  {
   "cell_type": "code",
   "execution_count": 102,
   "metadata": {
    "vscode": {
     "languageId": "r"
    }
   },
   "outputs": [
    {
     "name": "stderr",
     "output_type": "stream",
     "text": [
      "NB has 82% accuracy\n",
      "\n"
     ]
    },
    {
     "data": {
      "text/plain": [
       "       \n",
       "nb.pred  0  1\n",
       "      0 10  3\n",
       "      1  0  4"
      ]
     },
     "metadata": {},
     "output_type": "display_data"
    }
   ],
   "source": [
    "nb.pred <- predict(nb.fit, test)\n",
    "message(\"NB has \", round(mean(nb.pred == test.Y$X.label),2)*100, \"% accuracy\")\n",
    "table(nb.pred, test.Y$X.label)"
   ]
  },
  {
   "cell_type": "markdown",
   "metadata": {},
   "source": [
    "However NB also uses linear decision boundary for classification, this model has 2 **killing features**, that makes it's result so good. The first is it assumes there is no association between predictors. Since I don't know anything about the source of the data and the model's result is good, so I assume there is no association indeed. The second one is condition probability, that has no impact on perfectly balanced data, but here we have slightly imbalanced target variable (63% of class 0 (black) and 37% of class 1 (blue)).\n",
    "\n",
    "Also we can not modify the model in order to decrease type-1 error, because we don't know is it bad. For the same reason I did not plot ROC curve."
   ]
  },
  {
   "cell_type": "markdown",
   "metadata": {},
   "source": [
    "Running KNN requires deciding the $k$. Let's find the best $k$ with the bias-variance tradeoff."
   ]
  },
  {
   "cell_type": "code",
   "execution_count": 103,
   "metadata": {
    "vscode": {
     "languageId": "r"
    }
   },
   "outputs": [
    {
     "name": "stderr",
     "output_type": "stream",
     "text": [
      "KNN has 88.2% accuracy with k=1\n",
      "\n",
      "KNN has 88.2% accuracy with k=2\n",
      "\n",
      "KNN has 94.1% accuracy with k=3\n",
      "\n",
      "KNN has 88.2% accuracy with k=4\n",
      "\n",
      "KNN has 70.6% accuracy with k=5\n",
      "\n",
      "KNN has 64.7% accuracy with k=6\n",
      "\n",
      "KNN has 64.7% accuracy with k=7\n",
      "\n",
      "KNN has 70.6% accuracy with k=8\n",
      "\n",
      "KNN has 76.5% accuracy with k=9\n",
      "\n",
      "KNN has 64.7% accuracy with k=10\n",
      "\n",
      "KNN has 58.8% accuracy with k=11\n",
      "\n",
      "KNN has 58.8% accuracy with k=12\n",
      "\n"
     ]
    }
   ],
   "source": [
    "k_values = seq(1,12,by=1)\n",
    "accuracy = rep(0,12)\n",
    "\n",
    "for (i in 1:12){\n",
    "    knn.pred <- knn(train.X, test.X, cl=train.Y$X.label, k=i)\n",
    "    table(knn.pred, test.Y$X.label)\n",
    "    message(\"KNN has \", round(mean(knn.pred == test.Y$X.label),3)*100, \"% accuracy with k=\",i)\n",
    "    accuracy[i] = round(mean(knn.pred == test.Y$X.label),3)*100\n",
    "}"
   ]
  },
  {
   "cell_type": "code",
   "execution_count": 104,
   "metadata": {
    "vscode": {
     "languageId": "r"
    }
   },
   "outputs": [
    {
     "data": {
      "image/png": "[encoded data removed]",
      "text/plain": [
       "Plot with title \"KNN accuracy depending on k\""
      ]
     },
     "metadata": {
      "image/png": {
       "height": 420,
       "width": 420
      }
     },
     "output_type": "display_data"
    }
   ],
   "source": [
    "plot(k_values, accuracy, type=\"o\", main=\"KNN accuracy depending on k\", ylim=c(0,100))"
   ]
  },
  {
   "cell_type": "markdown",
   "metadata": {},
   "source": [
    "As you can see, the best accuracy is at $k=4$\n",
    "\n",
    "Also I would really like to show you plots with decision boundaries, but unfortunately he only way to do this is using library `ElemStatLearn` but it does not working on my R version."
   ]
  },
  {
   "cell_type": "code",
   "execution_count": 116,
   "metadata": {
    "vscode": {
     "languageId": "r"
    }
   },
   "outputs": [
    {
     "name": "stderr",
     "output_type": "stream",
     "text": [
      "AVG LOGIT accuracy: 62.16\n",
      "AVG KNN, k=4 accuracy: 77.03\n",
      "AVG NB accuracy: 64.88\n",
      "\n"
     ]
    },
    {
     "data": {
      "image/png": "[encoded data removed]",
      "text/plain": [
       "Plot with title \"Comparison of accuracy\""
      ]
     },
     "metadata": {
      "image/png": {
       "height": 420,
       "width": 420
      }
     },
     "output_type": "display_data"
    }
   ],
   "source": [
    "n = 50\n",
    "x <- seq(1,n,by=1)\n",
    "nb.acc <- rep(0,n)\n",
    "logit.acc <- rep(0,n)\n",
    "knn.acc <- rep(0,n)\n",
    "\n",
    "for (i in 1:n){\n",
    "    set.seed(i)\n",
    "    sample <- sample(c(TRUE, FALSE), nrow(data), replace=TRUE, prob=c(0.7,0.3))\n",
    "    train <- data[sample, ]\n",
    "    test <- data[!sample, ]\n",
    "    test.X <- test[1:2]\n",
    "    test.Y <- test[3]\n",
    "    train.X<-train[1:2]\n",
    "    train.Y<-train[3]\n",
    "\n",
    "    logit.fit <- glm(X.label ~ X + X.Y, data=train, family = binomial)\n",
    "    logit.pred <- predict(logit.fit, test.X, type=\"response\")\n",
    "    logit.pred <- ifelse(test=logit.pred>0.5, yes=1, no=0)\n",
    "    logit.acc[i] = round(mean(logit.pred == test.Y$X.label),2)*100\n",
    "\n",
    "    nb.fit <- naiveBayes(X.label ~ X + X.Y, data = train)\n",
    "    nb.pred <- predict(nb.fit, test.X)\n",
    "    nb.acc[i] = round(mean(nb.pred == test.Y$X.label),2)*100\n",
    "\n",
    "    knn.pred <- knn(train.X, test.X, cl=train.Y$X.label, k=4)\n",
    "    knn.acc[i] = round(mean(knn.pred == test.Y$X.label),3)*100\n",
    "}\n",
    "\n",
    "plot(x, nb.acc, type=\"o\", main=\"Comparison of accuracy\", col=\"green\", ylim=c(0,100))\n",
    "lines(x, logit.acc, type=\"o\", col=\"red\")\n",
    "lines(x, knn.acc, type=\"o\", col=\"blue\")\n",
    "legend(x='topleft',legend=c(\"Naive Bayes\", \"Logit\", \"KNN k=4\"),fill=c('green','red','blue'))\n",
    "\n",
    "message(\"AVG LOGIT accuracy: \", mean(logit.acc),\"\\n\", \"AVG KNN, k=4 accuracy: \", mean(knn.acc),\"\\n\", \"AVG NB accuracy: \", mean(nb.acc))"
   ]
  },
  {
   "cell_type": "markdown",
   "metadata": {},
   "source": [
    "Honestly, I am confused. Turned out LOGIT has pretty good results here, but according to the ISLR it should not. I can not explain this phenomenon. It only shows, that I Machine learning is the area that needs fundamental understanding of even simple models. For me it means that I should learn more \\\\-_-/\n",
    "\n",
    "Anyways, KNN with $k=4$ shows the best result, while NB slightly leading on Logit."
   ]
  },
  {
   "cell_type": "markdown",
   "metadata": {},
   "source": [
    "### Question 1"
   ]
  },
  {
   "cell_type": "markdown",
   "metadata": {},
   "source": [
    "Which of these models would you use to predict never seen before data and why?"
   ]
  },
  {
   "cell_type": "markdown",
   "metadata": {},
   "source": [
    "Knowing that the number of observations is small and features does not correlate with the target variable, I would use Naive Bayes, since it performs good on such data, also we can see that distribution of features is not normal, so we probably need some flexible model, such as KNN."
   ]
  },
  {
   "cell_type": "markdown",
   "metadata": {},
   "source": [
    "### Question 2"
   ]
  },
  {
   "cell_type": "markdown",
   "metadata": {},
   "source": [
    "Which of these models would you NOT use to predict and why?"
   ]
  },
  {
   "cell_type": "markdown",
   "metadata": {},
   "source": [
    "I would not use Logit, and LDA here, because of the small dataset, week correlations and many outliers, that I can not delete, because the number of observations will get even smaller. Somehow it still shows fine results. My assumption of LOGIT showing poor results are from ISLR book pages 161-164."
   ]
  },
  {
   "cell_type": "markdown",
   "metadata": {},
   "source": [
    "### Question 3"
   ]
  },
  {
   "cell_type": "markdown",
   "metadata": {},
   "source": [
    "What is it about this data that can best explain the performance of these models and why?"
   ]
  },
  {
   "cell_type": "markdown",
   "metadata": {},
   "source": [
    "* `X` has weird distribution with 2 local maxima, also it does not have tendency of monotone decreasing on the tails of the distribution. IQRange is large in class \"BLUE\".\n",
    "* `X.Y` has equal number of each class observations, but the distribution is similar in each of the target variable classes (except only class 'c', we can see that class \"c\" happens to be likely \"BLUE\" either that \"BLACK\"). So in most cases this feature will prevent linear models from accurate results.\n",
    "* `X.label` is not balanced very good, so it increases the chances for NB to be accurate."
   ]
  },
  {
   "cell_type": "markdown",
   "metadata": {},
   "source": [
    "### Question 4"
   ]
  },
  {
   "cell_type": "markdown",
   "metadata": {},
   "source": [
    "Did you have to transform the data for any of these algorithms and why?"
   ]
  },
  {
   "cell_type": "markdown",
   "metadata": {},
   "source": [
    "I did not perform any feature engineering except encoding. I can not do this, since I don't know the source of data and meaning behind each of the features."
   ]
  },
  {
   "cell_type": "markdown",
   "metadata": {},
   "source": [
    "### Question 5"
   ]
  },
  {
   "cell_type": "markdown",
   "metadata": {},
   "source": [
    "Propose novel methods to improve performance of each of these algorithms"
   ]
  },
  {
   "cell_type": "markdown",
   "metadata": {},
   "source": [
    "* KNN - choosing the right value for k is the key.\n",
    "* LOGIT - We could anyway increase number of observations and understand meanings befind the features in order to perform feature engineering.\n",
    "* Naive Bayes - For example we could change the threshold in order to decrease type - 1 error if this data from some medical area."
   ]
  }
 ],
 "metadata": {
  "kernelspec": {
   "display_name": "R",
   "language": "R",
   "name": "ir"
  },
  "language_info": {
   "codemirror_mode": "r",
   "file_extension": ".r",
   "mimetype": "text/x-r-source",
   "name": "R",
   "pygments_lexer": "r",
   "version": "4.2.1"
  },
  "orig_nbformat": 4
 },
 "nbformat": 4,
 "nbformat_minor": 2
}
